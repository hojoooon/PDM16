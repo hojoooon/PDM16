{
  "nbformat": 4,
  "nbformat_minor": 0,
  "metadata": {
    "accelerator": "GPU",
    "colab": {
      "name": "dl2-01-mnist-CNN-start.ipynb",
      "provenance": [],
      "collapsed_sections": [],
      "include_colab_link": true
    },
    "interpreter": {
      "hash": "3834ce636a3ba6c6c2bd8b9b527c48eede78c367f849f6cce666ea7f1d26e2fb"
    },
    "kernelspec": {
      "display_name": "Python 3.8.5 64-bit ('base': conda)",
      "name": "python3"
    },
    "language_info": {
      "codemirror_mode": {
        "name": "ipython",
        "version": 3
      },
      "file_extension": ".py",
      "mimetype": "text/x-python",
      "name": "python",
      "nbconvert_exporter": "python",
      "pygments_lexer": "ipython3",
      "version": "3.8.5"
    }
  },
  "cells": [
    {
      "cell_type": "markdown",
      "metadata": {
        "id": "view-in-github",
        "colab_type": "text"
      },
      "source": [
        "<a href=\"https://colab.research.google.com/github/hojoooon/PDM16/blob/main/py-tesorflow/DL2-CNN/dl2_01_mnist_CNN_start.ipynb\" target=\"_parent\"><img src=\"https://colab.research.google.com/assets/colab-badge.svg\" alt=\"Open In Colab\"/></a>"
      ]
    },
    {
      "cell_type": "markdown",
      "metadata": {
        "id": "rswfCVLZ-QW0"
      },
      "source": [
        "# **CNN model of mnist dataset**\n",
        "- Conv2D + FCN\n",
        "    * Conv2D : 2차원 합성곱 필터링 + 풀링(Pooling)\n",
        "    - > 2차원 필터로 영상을 대표하는 특징을 추출\n",
        "    * FCN : 1차원 완전연결신경망\n",
        "    - > Conv2D에서 추출된 대표 특징들을 이용하여 FCN으로 최종 학습 완료\n",
        "\n",
        "***\n",
        "\n",
        "![mnist_NN_2_layers](https://img1.daumcdn.net/thumb/R1280x0/?scode=mtistory2&fname=https%3A%2F%2Fblog.kakaocdn.net%2Fdn%2FdJp5Z6%2FbtqAPebnF3x%2FQCe5vVcskhmxe964bGz4iK%2Fimg.png)\n",
        "\n",
        "(source: https://img1.daumcdn.net/thumb/R1280x0/?scode=mtistory2&fname=https%3A%2F%2Fblog.kakaocdn.net%2Fdn%2FdJp5Z6%2FbtqAPebnF3x%2FQCe5vVcskhmxe964bGz4iK%2Fimg.png)"
      ]
    },
    {
      "cell_type": "code",
      "metadata": {
        "id": "8GgGzPXPVyfa",
        "colab": {
          "base_uri": "https://localhost:8080/"
        },
        "outputId": "ea2fa447-3164-4cfe-db7b-cf41c534a853"
      },
      "source": [
        "import numpy as np\n",
        "import tensorflow as tf\n",
        "from tensorflow import keras\n",
        "import pandas as pd\n",
        "import matplotlib.pyplot as plt\n",
        "# %matplotlib inline\n",
        "\n",
        "print(tf.__version__)"
      ],
      "execution_count": 2,
      "outputs": [
        {
          "output_type": "stream",
          "name": "stdout",
          "text": [
            "2.7.0\n"
          ]
        }
      ]
    },
    {
      "cell_type": "markdown",
      "metadata": {
        "id": "-0IOOUM14Jk1"
      },
      "source": [
        "## **데이터 로딩, 정규화**"
      ]
    },
    {
      "cell_type": "code",
      "metadata": {
        "id": "N1ogJ7I64Fz-",
        "colab": {
          "base_uri": "https://localhost:8080/"
        },
        "outputId": "09c90929-4aa3-4196-c8a9-7a7667758cbf"
      },
      "source": [
        "from keras.datasets import mnist\n",
        "\n",
        "(X_train0, y_train0), (X_test0, y_test0) = mnist.load_data()\n",
        "\n",
        "# Reshape\n",
        "X_train = X_train0.reshape(60000,28,28,1)\n",
        "X_test = X_test0.reshape(10000,28,28,1)\n",
        "\n",
        "# Normalization\n",
        "X_train, X_test = X_train/255.0, X_test/255.0 # 정규화\n",
        "\n",
        "print(\"X_train={0}\".format(X_train.shape))\n",
        "print(\"y_train={0}\".format(y_train0.shape)) \n",
        "print(\"X_test={0}\".format(X_test.shape))\n",
        "print(\"y_test={0}\".format(y_test0.shape))"
      ],
      "execution_count": 3,
      "outputs": [
        {
          "output_type": "stream",
          "name": "stdout",
          "text": [
            "Downloading data from https://storage.googleapis.com/tensorflow/tf-keras-datasets/mnist.npz\n",
            "11493376/11490434 [==============================] - 0s 0us/step\n",
            "11501568/11490434 [==============================] - 0s 0us/step\n",
            "X_train=(60000, 28, 28, 1)\n",
            "y_train=(60000,)\n",
            "X_test=(10000, 28, 28, 1)\n",
            "y_test=(10000,)\n"
          ]
        }
      ]
    },
    {
      "cell_type": "code",
      "metadata": {
        "id": "F46-QZqJHiQ6",
        "colab": {
          "base_uri": "https://localhost:8080/"
        },
        "outputId": "aee0d55a-0930-47bc-90af-82d0348fd083"
      },
      "source": [
        "# One-Hot-Encoding\n",
        "# Use function to_categorical() to do One-Hot-Encoding\n",
        "# tf.keras.utils.to_categorical\n",
        "from tensorflow.keras.utils import to_categorical\n",
        "\n",
        "y_train = to_categorical(y_train0, 10)\n",
        "y_test = to_categorical(y_test0, 10)\n",
        "y_train.shape,y_test.shape"
      ],
      "execution_count": 4,
      "outputs": [
        {
          "output_type": "execute_result",
          "data": {
            "text/plain": [
              "((60000, 10), (10000, 10))"
            ]
          },
          "metadata": {},
          "execution_count": 4
        }
      ]
    },
    {
      "cell_type": "markdown",
      "metadata": {
        "id": "5z7SozStigmF"
      },
      "source": [
        "### Display numbers\n",
        "- 10 representative numbers"
      ]
    },
    {
      "cell_type": "code",
      "metadata": {
        "id": "IK7XT3XoirSL",
        "colab": {
          "base_uri": "https://localhost:8080/",
          "height": 498
        },
        "outputId": "b5489fe8-01b7-4e7b-e04b-44db09012a42"
      },
      "source": [
        "class_names = [\"0\",\"1\",\"2\",\"3\",\"4\",\"5\",\"6\",\"7\",\"8\",\"9\"]\n",
        "fig = plt.figure(figsize=(10,6))\n",
        "for i in range(10):\n",
        "    plt.subplot(2, 5, i+1)\n",
        "    num0_9 = X_train0[y_train0 == i]\n",
        "    print(num0_9.shape)\n",
        "    plt.imshow(num0_9[0]) #, cmap='gray') #, interpolation='none')\n",
        "    plt.title(\"Class - %d\" % (i))\n",
        "    plt.xticks([])\n",
        "    plt.yticks([])\n",
        "\n",
        "\n"
      ],
      "execution_count": 5,
      "outputs": [
        {
          "output_type": "stream",
          "name": "stdout",
          "text": [
            "(5923, 28, 28)\n",
            "(6742, 28, 28)\n",
            "(5958, 28, 28)\n",
            "(6131, 28, 28)\n",
            "(5842, 28, 28)\n",
            "(5421, 28, 28)\n",
            "(5918, 28, 28)\n",
            "(6265, 28, 28)\n",
            "(5851, 28, 28)\n",
            "(5949, 28, 28)\n"
          ]
        },
        {
          "output_type": "display_data",
          "data": {
            "image/png": "[encoded data removed]",
            "text/plain": [
              "<Figure size 720x432 with 10 Axes>"
            ]
          },
          "metadata": {}
        }
      ]
    },
    {
      "cell_type": "markdown",
      "metadata": {
        "id": "55DYVfFXi0WR"
      },
      "source": [
        "# Design CNN"
      ]
    },
    {
      "cell_type": "markdown",
      "metadata": {
        "id": "iPcLIcUCcsiG"
      },
      "source": [
        "### import Conv2D, MaxPool2D"
      ]
    },
    {
      "cell_type": "code",
      "metadata": {
        "id": "NzqMC4Xtc3ZE"
      },
      "source": [
        "from keras.layers import Conv2D, MaxPool2D, Flatten"
      ],
      "execution_count": 6,
      "outputs": []
    },
    {
      "cell_type": "markdown",
      "metadata": {
        "id": "pkaGYiPY4L4J"
      },
      "source": [
        "## **CNN1 + FCN2**\n",
        "- CNN1: Conv2D + MaxPooling2D\n",
        "- FCN2: Dense(128) + Output(8) "
      ]
    },
    {
      "cell_type": "code",
      "metadata": {
        "id": "geFXhA13rRTr"
      },
      "source": [
        "# Random number seed\n",
        "np.random.seed(1234)\n",
        "tf.random.set_seed(1234)"
      ],
      "execution_count": 7,
      "outputs": []
    },
    {
      "cell_type": "code",
      "metadata": {
        "id": "-LL0E4UX4Nj-"
      },
      "source": [
        "c1f2 = keras.models.Sequential([               \n",
        "    Conv2D(input_shape=(28,28,1), filters= 32, \n",
        "            kernel_size=(3,3),                 \n",
        "           strides=(1,1),                      \n",
        "           padding='same',                     \n",
        "           activation='relu'),\n",
        "    MaxPool2D(pool_size=(2,2), strides=(2,2)), \n",
        "    Flatten(),                                 \n",
        "    keras.layers.Dense(128, activation='relu'),  \n",
        "    keras.layers.Dropout(0.25), \n",
        "    keras.layers.Dense(10, activation='softmax')\n",
        "])\n",
        "\n",
        "c1f2.compile(optimizer='adam',                 \n",
        "              loss='categorical_crossentropy',   \n",
        "              metrics=['accuracy'])            "
      ],
      "execution_count": 8,
      "outputs": []
    },
    {
      "cell_type": "code",
      "metadata": {
        "id": "3r9oCDEN4UGu",
        "colab": {
          "base_uri": "https://localhost:8080/"
        },
        "outputId": "d3c8098b-9aaa-4404-b89e-4b784115b1b1"
      },
      "source": [
        "c1f2.summary()"
      ],
      "execution_count": 9,
      "outputs": [
        {
          "output_type": "stream",
          "name": "stdout",
          "text": [
            "Model: \"sequential\"\n",
            "_________________________________________________________________\n",
            " Layer (type)                Output Shape              Param #   \n",
            "=================================================================\n",
            " conv2d (Conv2D)             (None, 28, 28, 32)        320       \n",
            "                                                                 \n",
            " max_pooling2d (MaxPooling2D  (None, 14, 14, 32)       0         \n",
            " )                                                               \n",
            "                                                                 \n",
            " flatten (Flatten)           (None, 6272)              0         \n",
            "                                                                 \n",
            " dense (Dense)               (None, 128)               802944    \n",
            "                                                                 \n",
            " dropout (Dropout)           (None, 128)               0         \n",
            "                                                                 \n",
            " dense_1 (Dense)             (None, 10)                1290      \n",
            "                                                                 \n",
            "=================================================================\n",
            "Total params: 804,554\n",
            "Trainable params: 804,554\n",
            "Non-trainable params: 0\n",
            "_________________________________________________________________\n"
          ]
        }
      ]
    },
    {
      "cell_type": "code",
      "metadata": {
        "id": "8fpt4m9r8Zvy",
        "colab": {
          "base_uri": "https://localhost:8080/",
          "height": 52
        },
        "outputId": "70a1c3f3-53be-4620-a807-9ea9dde6776e"
      },
      "source": [
        "3*3*32+32  # c1f2.summary() 첫번째 컨볼루션 파라미터 320개 \n",
        "'''\n",
        "3x3 9개의 무작위 수로 필터 결정\n",
        "첫번째 뉴런 32개 \n",
        "각 뉴런마다 바이어스가 있으므로 총 바이어스 개수는 +32개 \n",
        "'''"
      ],
      "execution_count": 10,
      "outputs": [
        {
          "output_type": "execute_result",
          "data": {
            "application/vnd.google.colaboratory.intrinsic+json": {
              "type": "string"
            },
            "text/plain": [
              "'\\n3x3 9개의 무작위 수로 필터 결정\\n첫번째 뉴런 32개 \\n각 뉴런마다 바이어스가 있으므로 총 바이어스 개수는 +32개 \\n'"
            ]
          },
          "metadata": {},
          "execution_count": 10
        }
      ]
    },
    {
      "cell_type": "code",
      "metadata": {
        "id": "adOv9IzurRTt",
        "colab": {
          "base_uri": "https://localhost:8080/",
          "height": 754
        },
        "outputId": "4f14c96f-b27c-40e2-9797-1c798cc74b66"
      },
      "source": [
        "# Plot model\n",
        "from tensorflow.keras.utils import plot_model\n",
        "plot_model(c1f2, show_shapes=True, show_layer_names=True, to_file='model_c1f2.png')"
      ],
      "execution_count": 11,
      "outputs": [
        {
          "output_type": "execute_result",
          "data": {
            "image/png": "[encoded data removed]",
            "text/plain": [
              "<IPython.core.display.Image object>"
            ]
          },
          "metadata": {},
          "execution_count": 11
        }
      ]
    },
    {
      "cell_type": "code",
      "metadata": {
        "id": "E5P-W0384WCv",
        "colab": {
          "base_uri": "https://localhost:8080/"
        },
        "outputId": "9cef0dca-1f5d-4529-f8bc-8e0eb5e6837c"
      },
      "source": [
        "c1f2.fit(X_train, y_train, epochs = 20,  batch_size = 100, \n",
        "        validation_data = (X_test, y_test)) "
      ],
      "execution_count": 12,
      "outputs": [
        {
          "output_type": "stream",
          "name": "stdout",
          "text": [
            "Epoch 1/20\n",
            "600/600 [==============================] - 18s 9ms/step - loss: 0.2419 - accuracy: 0.9288 - val_loss: 0.0767 - val_accuracy: 0.9763\n",
            "Epoch 2/20\n",
            "600/600 [==============================] - 5s 8ms/step - loss: 0.0819 - accuracy: 0.9760 - val_loss: 0.0560 - val_accuracy: 0.9815\n",
            "Epoch 3/20\n",
            "600/600 [==============================] - 5s 8ms/step - loss: 0.0577 - accuracy: 0.9827 - val_loss: 0.0458 - val_accuracy: 0.9848\n",
            "Epoch 4/20\n",
            "600/600 [==============================] - 5s 8ms/step - loss: 0.0459 - accuracy: 0.9861 - val_loss: 0.0382 - val_accuracy: 0.9870\n",
            "Epoch 5/20\n",
            "600/600 [==============================] - 5s 8ms/step - loss: 0.0366 - accuracy: 0.9889 - val_loss: 0.0412 - val_accuracy: 0.9861\n",
            "Epoch 6/20\n",
            "600/600 [==============================] - 5s 8ms/step - loss: 0.0303 - accuracy: 0.9904 - val_loss: 0.0366 - val_accuracy: 0.9873\n",
            "Epoch 7/20\n",
            "600/600 [==============================] - 5s 8ms/step - loss: 0.0259 - accuracy: 0.9918 - val_loss: 0.0348 - val_accuracy: 0.9881\n",
            "Epoch 8/20\n",
            "600/600 [==============================] - 5s 8ms/step - loss: 0.0224 - accuracy: 0.9927 - val_loss: 0.0374 - val_accuracy: 0.9877\n",
            "Epoch 9/20\n",
            "600/600 [==============================] - 5s 8ms/step - loss: 0.0183 - accuracy: 0.9938 - val_loss: 0.0386 - val_accuracy: 0.9883\n",
            "Epoch 10/20\n",
            "600/600 [==============================] - 5s 8ms/step - loss: 0.0157 - accuracy: 0.9948 - val_loss: 0.0415 - val_accuracy: 0.9873\n",
            "Epoch 11/20\n",
            "600/600 [==============================] - 5s 8ms/step - loss: 0.0149 - accuracy: 0.9950 - val_loss: 0.0413 - val_accuracy: 0.9883\n",
            "Epoch 12/20\n",
            "600/600 [==============================] - 5s 8ms/step - loss: 0.0134 - accuracy: 0.9953 - val_loss: 0.0386 - val_accuracy: 0.9887\n",
            "Epoch 13/20\n",
            "600/600 [==============================] - 5s 8ms/step - loss: 0.0128 - accuracy: 0.9956 - val_loss: 0.0392 - val_accuracy: 0.9875\n",
            "Epoch 14/20\n",
            "600/600 [==============================] - 5s 8ms/step - loss: 0.0092 - accuracy: 0.9969 - val_loss: 0.0446 - val_accuracy: 0.9877\n",
            "Epoch 15/20\n",
            "600/600 [==============================] - 5s 8ms/step - loss: 0.0087 - accuracy: 0.9971 - val_loss: 0.0434 - val_accuracy: 0.9883\n",
            "Epoch 16/20\n",
            "600/600 [==============================] - 5s 8ms/step - loss: 0.0088 - accuracy: 0.9971 - val_loss: 0.0474 - val_accuracy: 0.9870\n",
            "Epoch 17/20\n",
            "600/600 [==============================] - 4s 7ms/step - loss: 0.0079 - accuracy: 0.9971 - val_loss: 0.0466 - val_accuracy: 0.9869\n",
            "Epoch 18/20\n",
            "600/600 [==============================] - 5s 8ms/step - loss: 0.0080 - accuracy: 0.9971 - val_loss: 0.0476 - val_accuracy: 0.9878\n",
            "Epoch 19/20\n",
            "600/600 [==============================] - 5s 8ms/step - loss: 0.0068 - accuracy: 0.9978 - val_loss: 0.0442 - val_accuracy: 0.9892\n",
            "Epoch 20/20\n",
            "600/600 [==============================] - 4s 7ms/step - loss: 0.0068 - accuracy: 0.9977 - val_loss: 0.0440 - val_accuracy: 0.9892\n"
          ]
        },
        {
          "output_type": "execute_result",
          "data": {
            "text/plain": [
              "<keras.callbacks.History at 0x7f23a0262890>"
            ]
          },
          "metadata": {},
          "execution_count": 12
        }
      ]
    },
    {
      "cell_type": "code",
      "metadata": {
        "id": "JTLIG-8Y4guU",
        "colab": {
          "base_uri": "https://localhost:8080/"
        },
        "outputId": "5ca35a70-ba37-4ac3-b438-8ba4fc783096"
      },
      "source": [
        "c1f2.evaluate(X_test, y_test, batch_size = 100)"
      ],
      "execution_count": 13,
      "outputs": [
        {
          "output_type": "stream",
          "name": "stdout",
          "text": [
            "100/100 [==============================] - 0s 4ms/step - loss: 0.0440 - accuracy: 0.9892\n"
          ]
        },
        {
          "output_type": "execute_result",
          "data": {
            "text/plain": [
              "[0.044042859226465225, 0.9891999959945679]"
            ]
          },
          "metadata": {},
          "execution_count": 13
        }
      ]
    },
    {
      "cell_type": "markdown",
      "metadata": {
        "id": "eFI1qi7DhNfL"
      },
      "source": [
        "---"
      ]
    },
    {
      "cell_type": "markdown",
      "metadata": {
        "id": "zYsilPV-d68h"
      },
      "source": [
        "## **CNN1 + FCN3**"
      ]
    },
    {
      "cell_type": "code",
      "metadata": {
        "id": "8XsCNJuVrRTu"
      },
      "source": [
        "# Random number seed\n",
        "np.random.seed(1234)\n",
        "tf.random.set_seed(1234)"
      ],
      "execution_count": 14,
      "outputs": []
    },
    {
      "cell_type": "code",
      "metadata": {
        "id": "ru3C9Fdb5MJ9"
      },
      "source": [
        "c1f3 = tf.keras.models.Sequential([ \n",
        "    Conv2D(input_shape=(28,28,1),\n",
        "           kernel_size=(3,3),                   \n",
        "           strides=(1,1),                       \n",
        "           filters= 32, \n",
        "           padding='same',                      \n",
        "           activation='relu'),  \n",
        "    MaxPool2D(pool_size=(2,2), strides=(2,2)),  \n",
        "    Flatten(),                              \n",
        "    tf.keras.layers.Flatten(input_shape=(28, 28)),\n",
        "    tf.keras.layers.Dense(256, activation='relu'),  \n",
        "    tf.keras.layers.Dropout(0.25),\n",
        "    tf.keras.layers.Dense(128, activation='relu'),  \n",
        "    tf.keras.layers.Dropout(0.25), \n",
        "    tf.keras.layers.Dense(10, activation='softmax')\n",
        "])\n",
        "\n",
        "c1f3.compile(optimizer='adam',\n",
        "              loss='categorical_crossentropy',\n",
        "              metrics=['accuracy']) "
      ],
      "execution_count": 15,
      "outputs": []
    },
    {
      "cell_type": "code",
      "metadata": {
        "id": "WUKcSnnc5XcD",
        "colab": {
          "base_uri": "https://localhost:8080/"
        },
        "outputId": "1b95db2b-9752-4fcf-d93d-4d06364b1d6c"
      },
      "source": [
        "c1f3.summary()"
      ],
      "execution_count": 16,
      "outputs": [
        {
          "output_type": "stream",
          "name": "stdout",
          "text": [
            "Model: \"sequential_1\"\n",
            "_________________________________________________________________\n",
            " Layer (type)                Output Shape              Param #   \n",
            "=================================================================\n",
            " conv2d_1 (Conv2D)           (None, 28, 28, 32)        320       \n",
            "                                                                 \n",
            " max_pooling2d_1 (MaxPooling  (None, 14, 14, 32)       0         \n",
            " 2D)                                                             \n",
            "                                                                 \n",
            " flatten_1 (Flatten)         (None, 6272)              0         \n",
            "                                                                 \n",
            " flatten_2 (Flatten)         (None, 6272)              0         \n",
            "                                                                 \n",
            " dense_2 (Dense)             (None, 256)               1605888   \n",
            "                                                                 \n",
            " dropout_1 (Dropout)         (None, 256)               0         \n",
            "                                                                 \n",
            " dense_3 (Dense)             (None, 128)               32896     \n",
            "                                                                 \n",
            " dropout_2 (Dropout)         (None, 128)               0         \n",
            "                                                                 \n",
            " dense_4 (Dense)             (None, 10)                1290      \n",
            "                                                                 \n",
            "=================================================================\n",
            "Total params: 1,640,394\n",
            "Trainable params: 1,640,394\n",
            "Non-trainable params: 0\n",
            "_________________________________________________________________\n"
          ]
        }
      ]
    },
    {
      "cell_type": "code",
      "metadata": {
        "id": "WHnUbwan5Zq7",
        "colab": {
          "base_uri": "https://localhost:8080/"
        },
        "outputId": "44169bb8-67f0-4dfb-de92-ce8d3a9f9080"
      },
      "source": [
        "c1f3.fit(X_train,y_train, epochs= 20 , batch_size = 100)"
      ],
      "execution_count": 17,
      "outputs": [
        {
          "output_type": "stream",
          "name": "stdout",
          "text": [
            "Epoch 1/20\n",
            "600/600 [==============================] - 6s 9ms/step - loss: 0.2421 - accuracy: 0.9267\n",
            "Epoch 2/20\n",
            "600/600 [==============================] - 5s 9ms/step - loss: 0.0744 - accuracy: 0.9773\n",
            "Epoch 3/20\n",
            "600/600 [==============================] - 5s 8ms/step - loss: 0.0524 - accuracy: 0.9840\n",
            "Epoch 4/20\n",
            "600/600 [==============================] - 5s 8ms/step - loss: 0.0371 - accuracy: 0.9887\n",
            "Epoch 5/20\n",
            "600/600 [==============================] - 5s 8ms/step - loss: 0.0296 - accuracy: 0.9905\n",
            "Epoch 6/20\n",
            "600/600 [==============================] - 5s 8ms/step - loss: 0.0228 - accuracy: 0.9926\n",
            "Epoch 7/20\n",
            "600/600 [==============================] - 5s 8ms/step - loss: 0.0211 - accuracy: 0.9932\n",
            "Epoch 8/20\n",
            "600/600 [==============================] - 5s 8ms/step - loss: 0.0149 - accuracy: 0.9953\n",
            "Epoch 9/20\n",
            "600/600 [==============================] - 5s 8ms/step - loss: 0.0157 - accuracy: 0.9951\n",
            "Epoch 10/20\n",
            "600/600 [==============================] - 5s 9ms/step - loss: 0.0131 - accuracy: 0.9957\n",
            "Epoch 11/20\n",
            "600/600 [==============================] - 5s 8ms/step - loss: 0.0117 - accuracy: 0.9962\n",
            "Epoch 12/20\n",
            "600/600 [==============================] - 5s 8ms/step - loss: 0.0108 - accuracy: 0.9963\n",
            "Epoch 13/20\n",
            "600/600 [==============================] - 5s 8ms/step - loss: 0.0099 - accuracy: 0.9969\n",
            "Epoch 14/20\n",
            "600/600 [==============================] - 5s 8ms/step - loss: 0.0089 - accuracy: 0.9969\n",
            "Epoch 15/20\n",
            "600/600 [==============================] - 5s 8ms/step - loss: 0.0077 - accuracy: 0.9974\n",
            "Epoch 16/20\n",
            "600/600 [==============================] - 5s 8ms/step - loss: 0.0093 - accuracy: 0.9970\n",
            "Epoch 17/20\n",
            "600/600 [==============================] - 5s 8ms/step - loss: 0.0068 - accuracy: 0.9976\n",
            "Epoch 18/20\n",
            "600/600 [==============================] - 5s 8ms/step - loss: 0.0075 - accuracy: 0.9976\n",
            "Epoch 19/20\n",
            "600/600 [==============================] - 5s 8ms/step - loss: 0.0067 - accuracy: 0.9978\n",
            "Epoch 20/20\n",
            "600/600 [==============================] - 5s 8ms/step - loss: 0.0059 - accuracy: 0.9981\n"
          ]
        },
        {
          "output_type": "execute_result",
          "data": {
            "text/plain": [
              "<keras.callbacks.History at 0x7f2331fc9b90>"
            ]
          },
          "metadata": {},
          "execution_count": 17
        }
      ]
    },
    {
      "cell_type": "code",
      "metadata": {
        "id": "kTaGJMFG7FbH",
        "colab": {
          "base_uri": "https://localhost:8080/"
        },
        "outputId": "48b78e39-491b-4cf5-9963-9c4392b066f4"
      },
      "source": [
        "c1f3.evaluate(X_test, y_test, batch_size= 100)"
      ],
      "execution_count": 18,
      "outputs": [
        {
          "output_type": "stream",
          "name": "stdout",
          "text": [
            "100/100 [==============================] - 1s 5ms/step - loss: 0.0514 - accuracy: 0.9888\n"
          ]
        },
        {
          "output_type": "execute_result",
          "data": {
            "text/plain": [
              "[0.05137050896883011, 0.9887999892234802]"
            ]
          },
          "metadata": {},
          "execution_count": 18
        }
      ]
    },
    {
      "cell_type": "markdown",
      "metadata": {
        "id": "7Z6DJJUCei-s"
      },
      "source": [
        "## **CNN2 + FCN2**"
      ]
    },
    {
      "cell_type": "code",
      "metadata": {
        "id": "t1Xx45zNrRTv"
      },
      "source": [
        "# Random number seed\n",
        "np.random.seed(1234)\n",
        "tf.random.set_seed(1234)"
      ],
      "execution_count": 19,
      "outputs": []
    },
    {
      "cell_type": "code",
      "metadata": {
        "id": "pV3NFglM7P65"
      },
      "source": [
        "c2f2 = tf.keras.models.Sequential([               \n",
        "    Conv2D(input_shape=(28,28,1),\n",
        "           kernel_size=(3,3),strides=(1,1),\n",
        "           filters= 64, padding='same',\n",
        "           activation='relu'), \n",
        "    MaxPool2D(pool_size=(2,2), strides=(2,2)),\n",
        "    Conv2D(kernel_size=(3,3),strides=(1,1),\n",
        "           filters= 32, padding='same',\n",
        "           activation='relu'),  \n",
        "    MaxPool2D(pool_size=(2,2), strides=(2,2)),\n",
        "    Flatten(),\n",
        "    tf.keras.layers.Dense(128, activation='relu'),  \n",
        "    tf.keras.layers.Dropout(0.25),\n",
        "    tf.keras.layers.Dense(10, activation='softmax')\n",
        "])\n",
        "\n",
        "c2f2.compile(optimizer='adam',\n",
        "              loss='categorical_crossentropy',\n",
        "              metrics=['accuracy']) "
      ],
      "execution_count": 20,
      "outputs": []
    },
    {
      "cell_type": "code",
      "metadata": {
        "id": "OGtCiKy57YkR",
        "colab": {
          "base_uri": "https://localhost:8080/"
        },
        "outputId": "70d3a0eb-1513-46b8-d8a9-3b2e8b7d4ce4"
      },
      "source": [
        "c2f2.summary()"
      ],
      "execution_count": 21,
      "outputs": [
        {
          "output_type": "stream",
          "name": "stdout",
          "text": [
            "Model: \"sequential_2\"\n",
            "_________________________________________________________________\n",
            " Layer (type)                Output Shape              Param #   \n",
            "=================================================================\n",
            " conv2d_2 (Conv2D)           (None, 28, 28, 64)        640       \n",
            "                                                                 \n",
            " max_pooling2d_2 (MaxPooling  (None, 14, 14, 64)       0         \n",
            " 2D)                                                             \n",
            "                                                                 \n",
            " conv2d_3 (Conv2D)           (None, 14, 14, 32)        18464     \n",
            "                                                                 \n",
            " max_pooling2d_3 (MaxPooling  (None, 7, 7, 32)         0         \n",
            " 2D)                                                             \n",
            "                                                                 \n",
            " flatten_3 (Flatten)         (None, 1568)              0         \n",
            "                                                                 \n",
            " dense_5 (Dense)             (None, 128)               200832    \n",
            "                                                                 \n",
            " dropout_3 (Dropout)         (None, 128)               0         \n",
            "                                                                 \n",
            " dense_6 (Dense)             (None, 10)                1290      \n",
            "                                                                 \n",
            "=================================================================\n",
            "Total params: 221,226\n",
            "Trainable params: 221,226\n",
            "Non-trainable params: 0\n",
            "_________________________________________________________________\n"
          ]
        }
      ]
    },
    {
      "cell_type": "code",
      "metadata": {
        "id": "94GWWQt-7eRS",
        "colab": {
          "base_uri": "https://localhost:8080/"
        },
        "outputId": "c83dbaa0-a528-4ac8-ea47-e97a54918421"
      },
      "source": [
        "c2f2.fit(X_train, y_train, epochs = 20 , batch_size = 100)"
      ],
      "execution_count": 22,
      "outputs": [
        {
          "output_type": "stream",
          "name": "stdout",
          "text": [
            "Epoch 1/20\n",
            "600/600 [==============================] - 6s 9ms/step - loss: 0.2207 - accuracy: 0.9326\n",
            "Epoch 2/20\n",
            "600/600 [==============================] - 5s 9ms/step - loss: 0.0664 - accuracy: 0.9802\n",
            "Epoch 3/20\n",
            "600/600 [==============================] - 5s 9ms/step - loss: 0.0469 - accuracy: 0.9854\n",
            "Epoch 4/20\n",
            "600/600 [==============================] - 5s 9ms/step - loss: 0.0368 - accuracy: 0.9885\n",
            "Epoch 5/20\n",
            "600/600 [==============================] - 5s 9ms/step - loss: 0.0301 - accuracy: 0.9905\n",
            "Epoch 6/20\n",
            "600/600 [==============================] - 5s 9ms/step - loss: 0.0255 - accuracy: 0.9921\n",
            "Epoch 7/20\n",
            "600/600 [==============================] - 5s 9ms/step - loss: 0.0232 - accuracy: 0.9926\n",
            "Epoch 8/20\n",
            "600/600 [==============================] - 5s 9ms/step - loss: 0.0175 - accuracy: 0.9945\n",
            "Epoch 9/20\n",
            "600/600 [==============================] - 5s 9ms/step - loss: 0.0167 - accuracy: 0.9945\n",
            "Epoch 10/20\n",
            "600/600 [==============================] - 5s 9ms/step - loss: 0.0148 - accuracy: 0.9949\n",
            "Epoch 11/20\n",
            "600/600 [==============================] - 5s 9ms/step - loss: 0.0138 - accuracy: 0.9952\n",
            "Epoch 12/20\n",
            "600/600 [==============================] - 5s 9ms/step - loss: 0.0119 - accuracy: 0.9961\n",
            "Epoch 13/20\n",
            "600/600 [==============================] - 5s 9ms/step - loss: 0.0121 - accuracy: 0.9959\n",
            "Epoch 14/20\n",
            "600/600 [==============================] - 5s 9ms/step - loss: 0.0093 - accuracy: 0.9969\n",
            "Epoch 15/20\n",
            "600/600 [==============================] - 5s 9ms/step - loss: 0.0085 - accuracy: 0.9971\n",
            "Epoch 16/20\n",
            "600/600 [==============================] - 5s 9ms/step - loss: 0.0099 - accuracy: 0.9965\n",
            "Epoch 17/20\n",
            "600/600 [==============================] - 5s 9ms/step - loss: 0.0084 - accuracy: 0.9972\n",
            "Epoch 18/20\n",
            "600/600 [==============================] - 5s 9ms/step - loss: 0.0081 - accuracy: 0.9972\n",
            "Epoch 19/20\n",
            "600/600 [==============================] - 5s 9ms/step - loss: 0.0065 - accuracy: 0.9978\n",
            "Epoch 20/20\n",
            "600/600 [==============================] - 5s 9ms/step - loss: 0.0075 - accuracy: 0.9973\n"
          ]
        },
        {
          "output_type": "execute_result",
          "data": {
            "text/plain": [
              "<keras.callbacks.History at 0x7f2331df6bd0>"
            ]
          },
          "metadata": {},
          "execution_count": 22
        }
      ]
    },
    {
      "cell_type": "code",
      "metadata": {
        "id": "0-7is2U49A6Z",
        "colab": {
          "base_uri": "https://localhost:8080/"
        },
        "outputId": "07c9fa89-b891-4b17-b5c2-ba03c4d6c39f"
      },
      "source": [
        "c2f2.evaluate(X_test, y_test, batch_size = 100)"
      ],
      "execution_count": 23,
      "outputs": [
        {
          "output_type": "stream",
          "name": "stdout",
          "text": [
            "100/100 [==============================] - 1s 6ms/step - loss: 0.0258 - accuracy: 0.9933\n"
          ]
        },
        {
          "output_type": "execute_result",
          "data": {
            "text/plain": [
              "[0.02576974220573902, 0.9933000206947327]"
            ]
          },
          "metadata": {},
          "execution_count": 23
        }
      ]
    },
    {
      "cell_type": "markdown",
      "metadata": {
        "id": "SUJxRQtafihM"
      },
      "source": [
        "## **CNN2 + FCN3**"
      ]
    },
    {
      "cell_type": "code",
      "metadata": {
        "id": "PXuHAj85rRTw"
      },
      "source": [
        "# Random number seed\n",
        "np.random.seed(1234)\n",
        "tf.random.set_seed(1234)"
      ],
      "execution_count": 24,
      "outputs": []
    },
    {
      "cell_type": "code",
      "metadata": {
        "id": "Nl5CyAymAB34"
      },
      "source": [
        "c2f3 = tf.keras.models.Sequential([ \n",
        "    Conv2D(input_shape=(28,28,1),\n",
        "           kernel_size=(3,3),strides=(1,1),\n",
        "           filters= 64, padding='same',\n",
        "           activation='relu'), \n",
        "    MaxPool2D(pool_size=(2,2), strides=(2,2)),\n",
        "    Conv2D(kernel_size=(3,3),strides=(1,1),\n",
        "           filters= 32, padding='same',\n",
        "           activation='relu'),  \n",
        "    MaxPool2D(pool_size=(2,2), strides=(2,2)),\n",
        "    Flatten(),\n",
        "    # f3\n",
        "    tf.keras.layers.Dense(128, activation='relu'),  \n",
        "    tf.keras.layers.Dropout(0.25),\n",
        "    tf.keras.layers.Dense(64, activation='relu'),  \n",
        "    tf.keras.layers.Dropout(0.25),\n",
        "    tf.keras.layers.Dense(10, activation='softmax')\n",
        "\n",
        "])\n",
        "\n",
        "c2f3.compile(optimizer='adam',\n",
        "              loss='categorical_crossentropy',\n",
        "              metrics=['accuracy']) "
      ],
      "execution_count": 25,
      "outputs": []
    },
    {
      "cell_type": "code",
      "metadata": {
        "id": "gYxuGW_2ANL8",
        "colab": {
          "base_uri": "https://localhost:8080/"
        },
        "outputId": "3ddafecb-8319-46dc-9787-3aa6955460e5"
      },
      "source": [
        "c2f3.summary()"
      ],
      "execution_count": 26,
      "outputs": [
        {
          "output_type": "stream",
          "name": "stdout",
          "text": [
            "Model: \"sequential_3\"\n",
            "_________________________________________________________________\n",
            " Layer (type)                Output Shape              Param #   \n",
            "=================================================================\n",
            " conv2d_4 (Conv2D)           (None, 28, 28, 64)        640       \n",
            "                                                                 \n",
            " max_pooling2d_4 (MaxPooling  (None, 14, 14, 64)       0         \n",
            " 2D)                                                             \n",
            "                                                                 \n",
            " conv2d_5 (Conv2D)           (None, 14, 14, 32)        18464     \n",
            "                                                                 \n",
            " max_pooling2d_5 (MaxPooling  (None, 7, 7, 32)         0         \n",
            " 2D)                                                             \n",
            "                                                                 \n",
            " flatten_4 (Flatten)         (None, 1568)              0         \n",
            "                                                                 \n",
            " dense_7 (Dense)             (None, 128)               200832    \n",
            "                                                                 \n",
            " dropout_4 (Dropout)         (None, 128)               0         \n",
            "                                                                 \n",
            " dense_8 (Dense)             (None, 64)                8256      \n",
            "                                                                 \n",
            " dropout_5 (Dropout)         (None, 64)                0         \n",
            "                                                                 \n",
            " dense_9 (Dense)             (None, 10)                650       \n",
            "                                                                 \n",
            "=================================================================\n",
            "Total params: 228,842\n",
            "Trainable params: 228,842\n",
            "Non-trainable params: 0\n",
            "_________________________________________________________________\n"
          ]
        }
      ]
    },
    {
      "cell_type": "code",
      "metadata": {
        "id": "lO1of4AOAQlV",
        "colab": {
          "base_uri": "https://localhost:8080/"
        },
        "outputId": "db2a30be-40ea-4b8f-dd9a-3bd77d2198a0"
      },
      "source": [
        "c2f3.fit(X_train, y_train, epochs=20, batch_size = 100)"
      ],
      "execution_count": 27,
      "outputs": [
        {
          "output_type": "stream",
          "name": "stdout",
          "text": [
            "Epoch 1/20\n",
            "600/600 [==============================] - 7s 10ms/step - loss: 0.3024 - accuracy: 0.9066\n",
            "Epoch 2/20\n",
            "600/600 [==============================] - 5s 9ms/step - loss: 0.0889 - accuracy: 0.9745\n",
            "Epoch 3/20\n",
            "600/600 [==============================] - 5s 9ms/step - loss: 0.0626 - accuracy: 0.9819\n",
            "Epoch 4/20\n",
            "600/600 [==============================] - 5s 9ms/step - loss: 0.0498 - accuracy: 0.9858\n",
            "Epoch 5/20\n",
            "600/600 [==============================] - 6s 9ms/step - loss: 0.0416 - accuracy: 0.9878\n",
            "Epoch 6/20\n",
            "600/600 [==============================] - 6s 9ms/step - loss: 0.0360 - accuracy: 0.9897\n",
            "Epoch 7/20\n",
            "600/600 [==============================] - 6s 9ms/step - loss: 0.0321 - accuracy: 0.9906\n",
            "Epoch 8/20\n",
            "600/600 [==============================] - 5s 9ms/step - loss: 0.0264 - accuracy: 0.9926\n",
            "Epoch 9/20\n",
            "600/600 [==============================] - 5s 9ms/step - loss: 0.0238 - accuracy: 0.9930\n",
            "Epoch 10/20\n",
            "600/600 [==============================] - 5s 9ms/step - loss: 0.0221 - accuracy: 0.9934\n",
            "Epoch 11/20\n",
            "600/600 [==============================] - 5s 9ms/step - loss: 0.0190 - accuracy: 0.9940\n",
            "Epoch 12/20\n",
            "600/600 [==============================] - 6s 9ms/step - loss: 0.0177 - accuracy: 0.9944\n",
            "Epoch 13/20\n",
            "600/600 [==============================] - 5s 9ms/step - loss: 0.0169 - accuracy: 0.9949\n",
            "Epoch 14/20\n",
            "600/600 [==============================] - 5s 9ms/step - loss: 0.0150 - accuracy: 0.9955\n",
            "Epoch 15/20\n",
            "600/600 [==============================] - 5s 9ms/step - loss: 0.0148 - accuracy: 0.9956\n",
            "Epoch 16/20\n",
            "600/600 [==============================] - 5s 9ms/step - loss: 0.0136 - accuracy: 0.9957\n",
            "Epoch 17/20\n",
            "600/600 [==============================] - 5s 9ms/step - loss: 0.0141 - accuracy: 0.9956\n",
            "Epoch 18/20\n",
            "600/600 [==============================] - 5s 9ms/step - loss: 0.0116 - accuracy: 0.9966\n",
            "Epoch 19/20\n",
            "600/600 [==============================] - 5s 9ms/step - loss: 0.0107 - accuracy: 0.9966\n",
            "Epoch 20/20\n",
            "600/600 [==============================] - 5s 9ms/step - loss: 0.0110 - accuracy: 0.9966\n"
          ]
        },
        {
          "output_type": "execute_result",
          "data": {
            "text/plain": [
              "<keras.callbacks.History at 0x7f23a01f5f90>"
            ]
          },
          "metadata": {},
          "execution_count": 27
        }
      ]
    },
    {
      "cell_type": "code",
      "metadata": {
        "id": "W-eIxCasDBil",
        "colab": {
          "base_uri": "https://localhost:8080/"
        },
        "outputId": "6e4a80a1-4147-40d5-9022-8cc243d82150"
      },
      "source": [
        "c2f3.evaluate(X_test, y_test, batch_size = 100)"
      ],
      "execution_count": 28,
      "outputs": [
        {
          "output_type": "stream",
          "name": "stdout",
          "text": [
            "100/100 [==============================] - 1s 5ms/step - loss: 0.0337 - accuracy: 0.9916\n"
          ]
        },
        {
          "output_type": "execute_result",
          "data": {
            "text/plain": [
              "[0.0336865559220314, 0.991599977016449]"
            ]
          },
          "metadata": {},
          "execution_count": 28
        }
      ]
    },
    {
      "cell_type": "markdown",
      "metadata": {
        "id": "5XYSVtC-DVsz"
      },
      "source": [
        "# **[DIY] Hidden layer에 따른 정확도**"
      ]
    },
    {
      "cell_type": "code",
      "metadata": {
        "colab": {
          "base_uri": "https://localhost:8080/"
        },
        "id": "hio2kaBR_RLT",
        "outputId": "610cfe89-d1a3-4a6d-f52a-b007c712f3cd"
      },
      "source": [
        "c1f2.evaluate(X_test, y_test, batch_size = 100)"
      ],
      "execution_count": 29,
      "outputs": [
        {
          "output_type": "stream",
          "name": "stdout",
          "text": [
            "100/100 [==============================] - 0s 4ms/step - loss: 0.0440 - accuracy: 0.9892\n"
          ]
        },
        {
          "output_type": "execute_result",
          "data": {
            "text/plain": [
              "[0.044042859226465225, 0.9891999959945679]"
            ]
          },
          "metadata": {},
          "execution_count": 29
        }
      ]
    },
    {
      "cell_type": "code",
      "metadata": {
        "colab": {
          "base_uri": "https://localhost:8080/"
        },
        "id": "gR38bKtE9O7i",
        "outputId": "daeb65a3-a3d5-41ac-c129-9d1b69c3c3c7"
      },
      "source": [
        "c1f3.evaluate(X_test, y_test, batch_size = 100)"
      ],
      "execution_count": 30,
      "outputs": [
        {
          "output_type": "stream",
          "name": "stdout",
          "text": [
            "100/100 [==============================] - 0s 4ms/step - loss: 0.0514 - accuracy: 0.9888\n"
          ]
        },
        {
          "output_type": "execute_result",
          "data": {
            "text/plain": [
              "[0.05137050896883011, 0.9887999892234802]"
            ]
          },
          "metadata": {},
          "execution_count": 30
        }
      ]
    },
    {
      "cell_type": "code",
      "metadata": {
        "colab": {
          "base_uri": "https://localhost:8080/"
        },
        "id": "uVAfgy529QNu",
        "outputId": "84c972a2-8b38-43d4-b695-6192c0513f9c"
      },
      "source": [
        "c2f2.evaluate(X_test, y_test, batch_size = 100)"
      ],
      "execution_count": 31,
      "outputs": [
        {
          "output_type": "stream",
          "name": "stdout",
          "text": [
            "100/100 [==============================] - 1s 5ms/step - loss: 0.0258 - accuracy: 0.9933\n"
          ]
        },
        {
          "output_type": "execute_result",
          "data": {
            "text/plain": [
              "[0.02576974220573902, 0.9933000206947327]"
            ]
          },
          "metadata": {},
          "execution_count": 31
        }
      ]
    },
    {
      "cell_type": "code",
      "metadata": {
        "colab": {
          "base_uri": "https://localhost:8080/"
        },
        "id": "NS6QsS87_VzC",
        "outputId": "94a9666b-c8e8-496b-d269-ce3fe61234d3"
      },
      "source": [
        "c2f3.evaluate(X_test, y_test, batch_size = 100)"
      ],
      "execution_count": 32,
      "outputs": [
        {
          "output_type": "stream",
          "name": "stdout",
          "text": [
            "100/100 [==============================] - 1s 5ms/step - loss: 0.0337 - accuracy: 0.9916\n"
          ]
        },
        {
          "output_type": "execute_result",
          "data": {
            "text/plain": [
              "[0.0336865559220314, 0.991599977016449]"
            ]
          },
          "metadata": {},
          "execution_count": 32
        }
      ]
    },
    {
      "cell_type": "code",
      "metadata": {
        "id": "hPXHL7TTgIMf"
      },
      "source": [
        "# Try another method!!\n",
        "fcn_result = [[0.0462825782597065, 0.9890000224113464], \n",
        " [0.052770182490348816, 0.9898999929428101], \n",
        " [0.026600686833262444, 0.9930999875068665], \n",
        " [0.038966186344623566, 0.9908999800682068]]"
      ],
      "execution_count": 33,
      "outputs": []
    },
    {
      "cell_type": "code",
      "metadata": {
        "id": "1kXd2NWlLmyZ",
        "colab": {
          "base_uri": "https://localhost:8080/"
        },
        "outputId": "be0deb92-51d7-44bd-f98e-ca9b9f4cd568"
      },
      "source": [
        "# select accuracies\n",
        "accuracy = [row[1] for row in fcn_result]\n",
        "accuracy      # ==> c2f2 best model"
      ],
      "execution_count": 34,
      "outputs": [
        {
          "output_type": "execute_result",
          "data": {
            "text/plain": [
              "[0.9890000224113464,\n",
              " 0.9898999929428101,\n",
              " 0.9930999875068665,\n",
              " 0.9908999800682068]"
            ]
          },
          "metadata": {},
          "execution_count": 34
        }
      ]
    },
    {
      "cell_type": "code",
      "metadata": {
        "id": "vZv6a2aVRw9j",
        "colab": {
          "base_uri": "https://localhost:8080/",
          "height": 269
        },
        "outputId": "ba5300b2-1088-418d-9f1c-53732ecd7b30"
      },
      "source": [
        "x = np.arange(4)\n",
        "cnns = ['c1f2','c1f3','c2f2','c2f3']\n",
        "accuracies = [acc*100 for acc in accuracy] # %\n",
        "\n",
        "#plt.figure(figsize=(5,5))\n",
        "plt.bar(x, accuracies)\n",
        "plt.xticks(x, cnns)\n",
        "plt.ylim((90,100))\n",
        "plt.show()"
      ],
      "execution_count": 35,
      "outputs": [
        {
          "output_type": "display_data",
          "data": {
            "image/png": "[encoded data removed]",
            "text/plain": [
              "<Figure size 432x288 with 1 Axes>"
            ]
          },
          "metadata": {
            "needs_background": "light"
          }
        }
      ]
    },
    {
      "cell_type": "markdown",
      "metadata": {
        "id": "gBPKMI4y3fsa"
      },
      "source": [
        "## 모형의 저장\n",
        "\n",
        "- 트레이닝이 끝난 모형은 save 메서드로 가중치와 함께 hdf5 형식으로 저장\n",
        "- load 명령으로 불러 사용"
      ]
    },
    {
      "cell_type": "code",
      "metadata": {
        "id": "KCfbQl2v3fsa"
      },
      "source": [
        "c2f2.save('c2f2_best.hdf5')"
      ],
      "execution_count": 36,
      "outputs": []
    },
    {
      "cell_type": "code",
      "metadata": {
        "id": "b7-ysIVy3fse",
        "colab": {
          "base_uri": "https://localhost:8080/"
        },
        "outputId": "d610dcf6-e1a0-4688-d515-e7a2b72db308"
      },
      "source": [
        "from keras.models import load_model\n",
        "\n",
        "model = load_model('c2f2_best.hdf5')\n",
        "model.evaluate(X_test, y_test, batch_size=100)"
      ],
      "execution_count": 37,
      "outputs": [
        {
          "output_type": "stream",
          "name": "stdout",
          "text": [
            "100/100 [==============================] - 1s 5ms/step - loss: 0.0258 - accuracy: 0.9933\n"
          ]
        },
        {
          "output_type": "execute_result",
          "data": {
            "text/plain": [
              "[0.02576974220573902, 0.9933000206947327]"
            ]
          },
          "metadata": {},
          "execution_count": 37
        }
      ]
    },
    {
      "cell_type": "markdown",
      "metadata": {
        "id": "jRG6VlWiMDee"
      },
      "source": [
        "## C2F2 모델에 대한 loss, accuracy 그래프를 그리시오."
      ]
    },
    {
      "cell_type": "code",
      "metadata": {
        "id": "-Yfqv2AqtUtz",
        "colab": {
          "base_uri": "https://localhost:8080/"
        },
        "outputId": "9bb8d233-29f9-4422-8b41-f9116dfd2794"
      },
      "source": [
        "hist = c2f2.fit(X_train, y_train,  # c2f2 초기화 후 실행 (c2f2 이전에 실행된 내용과 연결될 수 있으므로 seed, 파라미터 초기화)\n",
        "         epochs = 20 , \n",
        "         batch_size =100, \n",
        "         validation_data=(X_test,y_test))"
      ],
      "execution_count": 38,
      "outputs": [
        {
          "output_type": "stream",
          "name": "stdout",
          "text": [
            "Epoch 1/20\n",
            "600/600 [==============================] - 6s 10ms/step - loss: 0.0046 - accuracy: 0.9982 - val_loss: 0.0322 - val_accuracy: 0.9918\n",
            "Epoch 2/20\n",
            "600/600 [==============================] - 6s 9ms/step - loss: 0.0056 - accuracy: 0.9980 - val_loss: 0.0311 - val_accuracy: 0.9932\n",
            "Epoch 3/20\n",
            "600/600 [==============================] - 6s 9ms/step - loss: 0.0058 - accuracy: 0.9979 - val_loss: 0.0338 - val_accuracy: 0.9921\n",
            "Epoch 4/20\n",
            "600/600 [==============================] - 6s 9ms/step - loss: 0.0031 - accuracy: 0.9989 - val_loss: 0.0330 - val_accuracy: 0.9922\n",
            "Epoch 5/20\n",
            "600/600 [==============================] - 6s 10ms/step - loss: 0.0053 - accuracy: 0.9983 - val_loss: 0.0331 - val_accuracy: 0.9929\n",
            "Epoch 6/20\n",
            "600/600 [==============================] - 6s 10ms/step - loss: 0.0072 - accuracy: 0.9976 - val_loss: 0.0398 - val_accuracy: 0.9903\n",
            "Epoch 7/20\n",
            "600/600 [==============================] - 6s 10ms/step - loss: 0.0050 - accuracy: 0.9982 - val_loss: 0.0299 - val_accuracy: 0.9935\n",
            "Epoch 8/20\n",
            "600/600 [==============================] - 6s 10ms/step - loss: 0.0043 - accuracy: 0.9985 - val_loss: 0.0326 - val_accuracy: 0.9925\n",
            "Epoch 9/20\n",
            "600/600 [==============================] - 6s 10ms/step - loss: 0.0038 - accuracy: 0.9987 - val_loss: 0.0326 - val_accuracy: 0.9923\n",
            "Epoch 10/20\n",
            "600/600 [==============================] - 6s 10ms/step - loss: 0.0052 - accuracy: 0.9981 - val_loss: 0.0321 - val_accuracy: 0.9927\n",
            "Epoch 11/20\n",
            "600/600 [==============================] - 6s 10ms/step - loss: 0.0044 - accuracy: 0.9984 - val_loss: 0.0389 - val_accuracy: 0.9913\n",
            "Epoch 12/20\n",
            "600/600 [==============================] - 6s 10ms/step - loss: 0.0034 - accuracy: 0.9988 - val_loss: 0.0401 - val_accuracy: 0.9910\n",
            "Epoch 13/20\n",
            "600/600 [==============================] - 6s 10ms/step - loss: 0.0035 - accuracy: 0.9988 - val_loss: 0.0465 - val_accuracy: 0.9906\n",
            "Epoch 14/20\n",
            "600/600 [==============================] - 6s 10ms/step - loss: 0.0026 - accuracy: 0.9991 - val_loss: 0.0376 - val_accuracy: 0.9926\n",
            "Epoch 15/20\n",
            "600/600 [==============================] - 6s 10ms/step - loss: 0.0038 - accuracy: 0.9988 - val_loss: 0.0352 - val_accuracy: 0.9938\n",
            "Epoch 16/20\n",
            "600/600 [==============================] - 6s 9ms/step - loss: 0.0039 - accuracy: 0.9986 - val_loss: 0.0320 - val_accuracy: 0.9923\n",
            "Epoch 17/20\n",
            "600/600 [==============================] - 6s 10ms/step - loss: 0.0034 - accuracy: 0.9987 - val_loss: 0.0365 - val_accuracy: 0.9928\n",
            "Epoch 18/20\n",
            "600/600 [==============================] - 6s 10ms/step - loss: 0.0044 - accuracy: 0.9985 - val_loss: 0.0354 - val_accuracy: 0.9925\n",
            "Epoch 19/20\n",
            "600/600 [==============================] - 6s 10ms/step - loss: 0.0020 - accuracy: 0.9993 - val_loss: 0.0403 - val_accuracy: 0.9920\n",
            "Epoch 20/20\n",
            "600/600 [==============================] - 6s 10ms/step - loss: 0.0029 - accuracy: 0.9991 - val_loss: 0.0442 - val_accuracy: 0.9917\n"
          ]
        }
      ]
    },
    {
      "cell_type": "code",
      "metadata": {
        "id": "D1on4CdjrQ_T",
        "colab": {
          "base_uri": "https://localhost:8080/",
          "height": 294
        },
        "outputId": "d73e963a-8ee4-4f35-dc3b-e5d7cbfc8cbe"
      },
      "source": [
        "# Plot loass and accuracy\n",
        "# Plot training & validation accuracy values\n",
        "epochs = 20\n",
        "loss_list = [100 * i for i in hist.history['loss']]\n",
        "acc_list = [100 * i for i in hist.history['accuracy']]\n",
        "plt.plot(range(1,epochs+1),loss_list) \n",
        "plt.plot(range(1,epochs+1),acc_list) \n",
        "plt.title('Model loss & accuracy')\n",
        "plt.ylabel('Accuracy (%)')\n",
        "plt.xlabel('Epoch')\n",
        "plt.legend(['loss', 'accuracy'], loc='center left')\n",
        "plt.show()"
      ],
      "execution_count": 39,
      "outputs": [
        {
          "output_type": "display_data",
          "data": {
            "image/png": "[encoded data removed]",
            "text/plain": [
              "<Figure size 432x288 with 1 Axes>"
            ]
          },
          "metadata": {
            "needs_background": "light"
          }
        }
      ]
    },
    {
      "cell_type": "markdown",
      "metadata": {
        "id": "jd1GbR5gDD4V"
      },
      "source": [
        "- validation"
      ]
    },
    {
      "cell_type": "code",
      "metadata": {
        "id": "TX5Uzro4vjaY",
        "colab": {
          "base_uri": "https://localhost:8080/",
          "height": 294
        },
        "outputId": "349fa86a-9aec-4d37-d878-d79c7c69871b"
      },
      "source": [
        "vloss_list = [100 * i for i in hist.history['val_loss']]\n",
        "vacc_list = [100 * i for i in hist.history['val_accuracy']]\n",
        "plt.plot(range(1,epochs+1),vloss_list)  \n",
        "plt.plot(range(1,epochs+1),vacc_list)  \n",
        "plt.title('Model val_loss & val_accuracy')\n",
        "plt.ylabel('Accuracy (%)')\n",
        "plt.xlabel('Epoch')\n",
        "plt.legend(['val_loss', 'val_accuracy'], loc='center left')\n",
        "plt.show()"
      ],
      "execution_count": 40,
      "outputs": [
        {
          "output_type": "display_data",
          "data": {
            "image/png": "[encoded data removed]",
            "text/plain": [
              "<Figure size 432x288 with 1 Axes>"
            ]
          },
          "metadata": {
            "needs_background": "light"
          }
        }
      ]
    },
    {
      "cell_type": "code",
      "metadata": {
        "id": "blALTNdyvjVK",
        "colab": {
          "base_uri": "https://localhost:8080/",
          "height": 294
        },
        "outputId": "cb89c13e-b1c9-4f70-a824-d4e71d7397e3"
      },
      "source": [
        "plt.plot(range(1,epochs+1),acc_list)  \n",
        "plt.plot(range(1,epochs+1),vacc_list)  \n",
        "plt.title('accuracy vs. val_accuracy')\n",
        "plt.ylabel('Accuracy (%)')\n",
        "plt.xlabel('Epoch')\n",
        "plt.legend(['accuracy','val_accuracy'], loc='center')\n",
        "plt.show()"
      ],
      "execution_count": 41,
      "outputs": [
        {
          "output_type": "display_data",
          "data": {
            "image/png": "[encoded data removed]",
            "text/plain": [
              "<Figure size 432x288 with 1 Axes>"
            ]
          },
          "metadata": {
            "needs_background": "light"
          }
        }
      ]
    },
    {
      "cell_type": "markdown",
      "metadata": {
        "id": "PjiTXAO1MKkE"
      },
      "source": [
        "***"
      ]
    },
    {
      "cell_type": "markdown",
      "metadata": {
        "id": "Ucj-avjHMPLy"
      },
      "source": [
        "## [DIY] C2F3 모델에 대한 loss, accuracy 그래프를 추가하시오."
      ]
    },
    {
      "cell_type": "code",
      "metadata": {
        "id": "4aA0gY6mFQVX"
      },
      "source": [
        "c2f3.save('c2f3_best.hdf5')"
      ],
      "execution_count": 42,
      "outputs": []
    },
    {
      "cell_type": "code",
      "metadata": {
        "id": "WNmXXLhvWUiK",
        "colab": {
          "base_uri": "https://localhost:8080/"
        },
        "outputId": "af50dd81-12c2-4347-e5b8-b4543208cc1f"
      },
      "source": [
        "from keras.models import load_model\n",
        "\n",
        "model = load_model('c2f3_best.hdf5')\n",
        "model.evaluate(X_test, y_test, batch_size=100)"
      ],
      "execution_count": 43,
      "outputs": [
        {
          "output_type": "stream",
          "name": "stdout",
          "text": [
            "100/100 [==============================] - 1s 5ms/step - loss: 0.0337 - accuracy: 0.9916\n"
          ]
        },
        {
          "output_type": "execute_result",
          "data": {
            "text/plain": [
              "[0.0336865559220314, 0.991599977016449]"
            ]
          },
          "metadata": {},
          "execution_count": 43
        }
      ]
    },
    {
      "cell_type": "code",
      "metadata": {
        "id": "oeyOLJ5uFgK_"
      },
      "source": [
        "# Random number seed\n",
        "np.random.seed(1234)\n",
        "tf.random.set_seed(1234)"
      ],
      "execution_count": 44,
      "outputs": []
    },
    {
      "cell_type": "code",
      "metadata": {
        "id": "GzfMeb-fFkkU"
      },
      "source": [
        "c2f3 = tf.keras.models.Sequential([ \n",
        "    Conv2D(input_shape=(28,28,1),\n",
        "           kernel_size=(3,3),strides=(1,1),\n",
        "           filters= 64, padding='same',\n",
        "           activation='relu'), \n",
        "    MaxPool2D(pool_size=(2,2), strides=(2,2)),\n",
        "    Conv2D(kernel_size=(3,3),strides=(1,1),\n",
        "           filters= 32, padding='same',\n",
        "           activation='relu'),  \n",
        "    MaxPool2D(pool_size=(2,2), strides=(2,2)),\n",
        "    Flatten(),\n",
        "    # f3\n",
        "    tf.keras.layers.Dense(128, activation='relu'),  \n",
        "    tf.keras.layers.Dropout(0.25),\n",
        "    tf.keras.layers.Dense(64, activation='relu'),  \n",
        "    tf.keras.layers.Dropout(0.25),\n",
        "    tf.keras.layers.Dense(10, activation='softmax')\n",
        "\n",
        "])\n",
        "\n",
        "c2f3.compile(optimizer='adam',\n",
        "              loss='categorical_crossentropy',\n",
        "              metrics=['accuracy']) "
      ],
      "execution_count": 45,
      "outputs": []
    },
    {
      "cell_type": "code",
      "metadata": {
        "colab": {
          "base_uri": "https://localhost:8080/"
        },
        "id": "_2K2BKByFn6f",
        "outputId": "35f9e09e-19a0-4a87-96f0-6dad7a8fd188"
      },
      "source": [
        "hist = c2f2.fit(X_train, y_train,\n",
        "         epochs = 20 , \n",
        "         batch_size =100, \n",
        "         validation_data=(X_test,y_test))"
      ],
      "execution_count": 46,
      "outputs": [
        {
          "output_type": "stream",
          "name": "stdout",
          "text": [
            "Epoch 1/20\n",
            "600/600 [==============================] - 6s 10ms/step - loss: 0.0036 - accuracy: 0.9988 - val_loss: 0.0363 - val_accuracy: 0.9928\n",
            "Epoch 2/20\n",
            "600/600 [==============================] - 6s 10ms/step - loss: 0.0028 - accuracy: 0.9990 - val_loss: 0.0403 - val_accuracy: 0.9934\n",
            "Epoch 3/20\n",
            "600/600 [==============================] - 6s 9ms/step - loss: 0.0032 - accuracy: 0.9989 - val_loss: 0.0418 - val_accuracy: 0.9923\n",
            "Epoch 4/20\n",
            "600/600 [==============================] - 6s 10ms/step - loss: 0.0039 - accuracy: 0.9990 - val_loss: 0.0361 - val_accuracy: 0.9928\n",
            "Epoch 5/20\n",
            "600/600 [==============================] - 6s 10ms/step - loss: 0.0019 - accuracy: 0.9992 - val_loss: 0.0443 - val_accuracy: 0.9914\n",
            "Epoch 6/20\n",
            "600/600 [==============================] - 6s 10ms/step - loss: 0.0029 - accuracy: 0.9991 - val_loss: 0.0419 - val_accuracy: 0.9927\n",
            "Epoch 7/20\n",
            "600/600 [==============================] - 6s 10ms/step - loss: 0.0044 - accuracy: 0.9987 - val_loss: 0.0483 - val_accuracy: 0.9920\n",
            "Epoch 8/20\n",
            "600/600 [==============================] - 6s 10ms/step - loss: 0.0031 - accuracy: 0.9991 - val_loss: 0.0410 - val_accuracy: 0.9931\n",
            "Epoch 9/20\n",
            "600/600 [==============================] - 6s 10ms/step - loss: 0.0031 - accuracy: 0.9988 - val_loss: 0.0465 - val_accuracy: 0.9921\n",
            "Epoch 10/20\n",
            "600/600 [==============================] - 6s 9ms/step - loss: 0.0029 - accuracy: 0.9992 - val_loss: 0.0398 - val_accuracy: 0.9940\n",
            "Epoch 11/20\n",
            "600/600 [==============================] - 6s 10ms/step - loss: 0.0018 - accuracy: 0.9995 - val_loss: 0.0468 - val_accuracy: 0.9925\n",
            "Epoch 12/20\n",
            "600/600 [==============================] - 6s 10ms/step - loss: 0.0025 - accuracy: 0.9992 - val_loss: 0.0484 - val_accuracy: 0.9920\n",
            "Epoch 13/20\n",
            "600/600 [==============================] - 6s 10ms/step - loss: 0.0029 - accuracy: 0.9990 - val_loss: 0.0472 - val_accuracy: 0.9919\n",
            "Epoch 14/20\n",
            "600/600 [==============================] - 6s 10ms/step - loss: 0.0027 - accuracy: 0.9991 - val_loss: 0.0502 - val_accuracy: 0.9925\n",
            "Epoch 15/20\n",
            "600/600 [==============================] - 6s 10ms/step - loss: 0.0028 - accuracy: 0.9991 - val_loss: 0.0551 - val_accuracy: 0.9929\n",
            "Epoch 16/20\n",
            "600/600 [==============================] - 6s 9ms/step - loss: 0.0028 - accuracy: 0.9992 - val_loss: 0.0439 - val_accuracy: 0.9929\n",
            "Epoch 17/20\n",
            "600/600 [==============================] - 6s 10ms/step - loss: 0.0025 - accuracy: 0.9992 - val_loss: 0.0540 - val_accuracy: 0.9911\n",
            "Epoch 18/20\n",
            "600/600 [==============================] - 6s 10ms/step - loss: 0.0035 - accuracy: 0.9990 - val_loss: 0.0556 - val_accuracy: 0.9916\n",
            "Epoch 19/20\n",
            "600/600 [==============================] - 6s 10ms/step - loss: 0.0030 - accuracy: 0.9991 - val_loss: 0.0590 - val_accuracy: 0.9914\n",
            "Epoch 20/20\n",
            "600/600 [==============================] - 6s 10ms/step - loss: 0.0020 - accuracy: 0.9993 - val_loss: 0.0509 - val_accuracy: 0.9923\n"
          ]
        }
      ]
    },
    {
      "cell_type": "code",
      "metadata": {
        "colab": {
          "base_uri": "https://localhost:8080/",
          "height": 294
        },
        "id": "ZE1mBIs2FvWe",
        "outputId": "529a7ed6-0c64-4229-d635-d3973005dbe0"
      },
      "source": [
        "# Plot loass and accuracy\n",
        "# Plot training & validation accuracy values\n",
        "epochs = 20\n",
        "loss_list = [100 * i for i in hist.history['loss']]\n",
        "acc_list = [100 * i for i in hist.history['accuracy']]\n",
        "plt.plot(range(1,epochs+1),loss_list) \n",
        "plt.plot(range(1,epochs+1),acc_list) \n",
        "plt.title('Model loss & accuracy')\n",
        "plt.ylabel('Accuracy (%)')\n",
        "plt.xlabel('Epoch')\n",
        "plt.legend(['loss', 'accuracy'], loc='center left')\n",
        "plt.show()"
      ],
      "execution_count": 47,
      "outputs": [
        {
          "output_type": "display_data",
          "data": {
            "image/png": "[encoded data removed]",
            "text/plain": [
              "<Figure size 432x288 with 1 Axes>"
            ]
          },
          "metadata": {
            "needs_background": "light"
          }
        }
      ]
    },
    {
      "cell_type": "code",
      "metadata": {
        "colab": {
          "base_uri": "https://localhost:8080/",
          "height": 294
        },
        "id": "68hdq4bxFv6O",
        "outputId": "e2a3ee43-09c5-4b1e-ece8-c1dd7195b162"
      },
      "source": [
        "vloss_list = [100 * i for i in hist.history['val_loss']]\n",
        "vacc_list = [100 * i for i in hist.history['val_accuracy']]\n",
        "plt.plot(range(1,epochs+1),vloss_list)  \n",
        "plt.plot(range(1,epochs+1),vacc_list)  \n",
        "plt.title('Model val_loss & val_accuracy')\n",
        "plt.ylabel('Accuracy (%)')\n",
        "plt.xlabel('Epoch')\n",
        "plt.legend(['val_loss', 'val_accuracy'], loc='center left')\n",
        "plt.show()"
      ],
      "execution_count": 48,
      "outputs": [
        {
          "output_type": "display_data",
          "data": {
            "image/png": "[encoded data removed]",
            "text/plain": [
              "<Figure size 432x288 with 1 Axes>"
            ]
          },
          "metadata": {
            "needs_background": "light"
          }
        }
      ]
    },
    {
      "cell_type": "code",
      "metadata": {
        "colab": {
          "base_uri": "https://localhost:8080/",
          "height": 294
        },
        "id": "Boz_BSGJFzYW",
        "outputId": "cb9bfdb1-a60c-4c4b-ac81-6fd358611812"
      },
      "source": [
        "plt.plot(range(1,epochs+1),acc_list)  \n",
        "plt.plot(range(1,epochs+1),vacc_list)  \n",
        "plt.title('accuracy vs. val_accuracy')\n",
        "plt.ylabel('Accuracy (%)')\n",
        "plt.xlabel('Epoch')\n",
        "plt.legend(['accuracy','val_accuracy'], loc='center')\n",
        "plt.show()"
      ],
      "execution_count": 49,
      "outputs": [
        {
          "output_type": "display_data",
          "data": {
            "image/png": "[encoded data removed]",
            "text/plain": [
              "<Figure size 432x288 with 1 Axes>"
            ]
          },
          "metadata": {
            "needs_background": "light"
          }
        }
      ]
    },
    {
      "cell_type": "markdown",
      "metadata": {
        "id": "TUG3EuYpF2vN"
      },
      "source": [
        "***"
      ]
    }
  ]
}