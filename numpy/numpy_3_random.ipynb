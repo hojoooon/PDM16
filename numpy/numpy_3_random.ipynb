{
  "nbformat": 4,
  "nbformat_minor": 0,
  "metadata": {
    "colab": {
      "name": "numpy_3_random.ipynb",
      "provenance": [],
      "collapsed_sections": [],
      "include_colab_link": true
    },
    "kernelspec": {
      "name": "python3",
      "display_name": "Python 3"
    }
  },
  "cells": [
    {
      "cell_type": "markdown",
      "metadata": {
        "id": "view-in-github",
        "colab_type": "text"
      },
      "source": [
        "<a href=\"https://colab.research.google.com/github/hojoooon/PDM16/blob/main/numpy/numpy_3_random.ipynb\" target=\"_parent\"><img src=\"https://colab.research.google.com/assets/colab-badge.svg\" alt=\"Open In Colab\"/></a>"
      ]
    },
    {
      "cell_type": "markdown",
      "metadata": {
        "id": "_zrirXHfgmyY"
      },
      "source": [
        "# numpy\n",
        "## random 서브모듈\n",
        "> [데이터싸이언스 스쿨:난수발생](https://datascienceschool.net/01%20python/03.05%20%EB%82%9C%EC%88%98%20%EB%B0%9C%EC%83%9D%EA%B3%BC%20%EC%B9%B4%EC%9A%B4%ED%8C%85.html)"
      ]
    },
    {
      "cell_type": "code",
      "metadata": {
        "id": "kQbzzSMZG2PX"
      },
      "source": [
        "import numpy as np"
      ],
      "execution_count": 1,
      "outputs": []
    },
    {
      "cell_type": "markdown",
      "metadata": {
        "id": "1Ry0YHkNFis5"
      },
      "source": [
        "## 난수 생성\n",
        "> NumPy의 random 서브모듈은 난수를 생성하는 다양한 명령을 제공.\n",
        "\n",
        "- rand: 0부터 1사이의 균일 분포 (uniform distribution)\n",
        "- randn: 가우시안 표준 정규 분포 (normal distribution, Gaussian)\n",
        "- randint: 균일 분포의 정수 난수 (uniform int)\n",
        "\n",
        "> randn()은 평균 0, 표준편차 1 인 가우시안 정규분포를 생성."
      ]
    },
    {
      "cell_type": "markdown",
      "metadata": {
        "id": "CtO1VxvurziR"
      },
      "source": [
        "### rand: 0부터 1사이의 균일 분포 (uniform distribution)"
      ]
    },
    {
      "cell_type": "code",
      "metadata": {
        "id": "LA1oF6aEG7kJ",
        "colab": {
          "base_uri": "https://localhost:8080/"
        },
        "outputId": "5e512635-ad06-48f0-d629-b4ca1ac8a6af"
      },
      "source": [
        "np.random.rand(5)"
      ],
      "execution_count": 4,
      "outputs": [
        {
          "output_type": "execute_result",
          "data": {
            "text/plain": [
              "array([0.05256302, 0.81880012, 0.92888648, 0.9792032 , 0.71240446])"
            ]
          },
          "metadata": {},
          "execution_count": 4
        }
      ]
    },
    {
      "cell_type": "code",
      "metadata": {
        "id": "H6f4ix3NHCyR",
        "colab": {
          "base_uri": "https://localhost:8080/"
        },
        "outputId": "2ad3b0fd-6728-4131-9ac1-78e837734c76"
      },
      "source": [
        "np.random.rand(5)"
      ],
      "execution_count": 5,
      "outputs": [
        {
          "output_type": "execute_result",
          "data": {
            "text/plain": [
              "array([0.62119708, 0.68387844, 0.43177178, 0.71153876, 0.53785173])"
            ]
          },
          "metadata": {},
          "execution_count": 5
        }
      ]
    },
    {
      "cell_type": "markdown",
      "metadata": {
        "id": "c88F6gf8r4K2"
      },
      "source": [
        "### randn: 가우시안 표준 정규 분포 (normal distribution, Gaussian)"
      ]
    },
    {
      "cell_type": "code",
      "metadata": {
        "id": "rtVfCL-uP2Tw",
        "colab": {
          "base_uri": "https://localhost:8080/"
        },
        "outputId": "0c0d83d4-8659-49f3-82d3-10f1930c6b3b"
      },
      "source": [
        "np.random.randn(5)"
      ],
      "execution_count": 6,
      "outputs": [
        {
          "output_type": "execute_result",
          "data": {
            "text/plain": [
              "array([ 0.86846402,  0.64261838, -0.74809075,  0.18640131,  0.71240545])"
            ]
          },
          "metadata": {},
          "execution_count": 6
        }
      ]
    },
    {
      "cell_type": "code",
      "metadata": {
        "colab": {
          "base_uri": "https://localhost:8080/"
        },
        "id": "kYsMRDz91Ytu",
        "outputId": "2351072b-de0e-4aa4-c0ab-6d0821956ef4"
      },
      "source": [
        "np.random.randn(5)"
      ],
      "execution_count": 7,
      "outputs": [
        {
          "output_type": "execute_result",
          "data": {
            "text/plain": [
              "array([-0.17110061, -0.81270879,  0.12924831, -1.59664682, -0.23953698])"
            ]
          },
          "metadata": {},
          "execution_count": 7
        }
      ]
    },
    {
      "cell_type": "markdown",
      "metadata": {
        "id": "wsvTzTFSsBSJ"
      },
      "source": [
        "### randint: 균일 분포의 정수 난수 (uniform int)\n",
        "- numpy.random.randint(low, high=None, size=None, dtype='l')"
      ]
    },
    {
      "cell_type": "code",
      "metadata": {
        "id": "WSvAH8uVs2Vb",
        "colab": {
          "base_uri": "https://localhost:8080/"
        },
        "outputId": "cea0758b-281e-496d-fad2-627fc00f3815"
      },
      "source": [
        "np.random.randint(5)"
      ],
      "execution_count": 8,
      "outputs": [
        {
          "output_type": "execute_result",
          "data": {
            "text/plain": [
              "2"
            ]
          },
          "metadata": {},
          "execution_count": 8
        }
      ]
    },
    {
      "cell_type": "code",
      "metadata": {
        "id": "McWHW15uQDPr",
        "colab": {
          "base_uri": "https://localhost:8080/"
        },
        "outputId": "afbb03d4-7fb0-4810-8fc8-0289675183de"
      },
      "source": [
        "np.random.randint(5,9) "
      ],
      "execution_count": 9,
      "outputs": [
        {
          "output_type": "execute_result",
          "data": {
            "text/plain": [
              "5"
            ]
          },
          "metadata": {},
          "execution_count": 9
        }
      ]
    },
    {
      "cell_type": "code",
      "metadata": {
        "id": "oBsWu9FmQQSC",
        "colab": {
          "base_uri": "https://localhost:8080/"
        },
        "outputId": "958bb933-4e9c-4658-b5e0-daf95c32df10"
      },
      "source": [
        "np.random.randint(0,10,5)"
      ],
      "execution_count": 10,
      "outputs": [
        {
          "output_type": "execute_result",
          "data": {
            "text/plain": [
              "array([5, 5, 5, 0, 7])"
            ]
          },
          "metadata": {},
          "execution_count": 10
        }
      ]
    },
    {
      "cell_type": "code",
      "metadata": {
        "id": "0kNuJxjaQYEu",
        "colab": {
          "base_uri": "https://localhost:8080/"
        },
        "outputId": "6994a861-86b3-4826-e777-ab2c15608195"
      },
      "source": [
        "np.random.randint(0,10,5)"
      ],
      "execution_count": 11,
      "outputs": [
        {
          "output_type": "execute_result",
          "data": {
            "text/plain": [
              "array([1, 3, 5, 7, 0])"
            ]
          },
          "metadata": {},
          "execution_count": 11
        }
      ]
    },
    {
      "cell_type": "markdown",
      "metadata": {
        "id": "K58DiNYUmANL"
      },
      "source": [
        "---"
      ]
    },
    {
      "cell_type": "markdown",
      "metadata": {
        "id": "xU5NWjQ3F_ld"
      },
      "source": [
        "## 난수 생성 seed 설정\n",
        "- numpy.random.seed(seed=None)\n",
        "- np.random.seed(number)"
      ]
    },
    {
      "cell_type": "code",
      "metadata": {
        "id": "AxUeYmQSQawG"
      },
      "source": [
        "np.random.seed()"
      ],
      "execution_count": 12,
      "outputs": []
    },
    {
      "cell_type": "code",
      "metadata": {
        "id": "C33YjKqvRJ33",
        "colab": {
          "base_uri": "https://localhost:8080/"
        },
        "outputId": "1ef544aa-37e1-4b0b-a983-68bfb48d0af4"
      },
      "source": [
        "np.random.rand(5)"
      ],
      "execution_count": 13,
      "outputs": [
        {
          "output_type": "execute_result",
          "data": {
            "text/plain": [
              "array([0.97291618, 0.71768124, 0.90037694, 0.39447408, 0.53968095])"
            ]
          },
          "metadata": {},
          "execution_count": 13
        }
      ]
    },
    {
      "cell_type": "code",
      "metadata": {
        "id": "Ne8rIyN9RO81",
        "colab": {
          "base_uri": "https://localhost:8080/"
        },
        "outputId": "bc78bb0a-3b54-49a3-914e-afbbfe980bb1"
      },
      "source": [
        "np.random.rand(5)"
      ],
      "execution_count": 14,
      "outputs": [
        {
          "output_type": "execute_result",
          "data": {
            "text/plain": [
              "array([0.23046471, 0.15849176, 0.95063571, 0.98141248, 0.56920176])"
            ]
          },
          "metadata": {},
          "execution_count": 14
        }
      ]
    },
    {
      "cell_type": "markdown",
      "metadata": {
        "id": "wnQ4gFoltu81"
      },
      "source": [
        "### 동일한 무작위수 생성\n",
        "- seed를 고정하고 무작위수 생성"
      ]
    },
    {
      "cell_type": "code",
      "metadata": {
        "id": "LGPOJGfgRSWx"
      },
      "source": [
        "np.random.seed(1234)"
      ],
      "execution_count": 15,
      "outputs": []
    },
    {
      "cell_type": "code",
      "metadata": {
        "id": "t2PNRUpfRXZk",
        "colab": {
          "base_uri": "https://localhost:8080/"
        },
        "outputId": "58627dc5-bece-470a-9f07-5efec60756f1"
      },
      "source": [
        "np.random.rand(5)"
      ],
      "execution_count": 16,
      "outputs": [
        {
          "output_type": "execute_result",
          "data": {
            "text/plain": [
              "array([0.19151945, 0.62210877, 0.43772774, 0.78535858, 0.77997581])"
            ]
          },
          "metadata": {},
          "execution_count": 16
        }
      ]
    },
    {
      "cell_type": "code",
      "metadata": {
        "id": "x8yKednV8CZy",
        "colab": {
          "base_uri": "https://localhost:8080/"
        },
        "outputId": "0f10f6b0-e96e-4444-d4a1-6cd3fa4cec8b"
      },
      "source": [
        "np.random.rand(5)"
      ],
      "execution_count": 17,
      "outputs": [
        {
          "output_type": "execute_result",
          "data": {
            "text/plain": [
              "array([0.27259261, 0.27646426, 0.80187218, 0.95813935, 0.87593263])"
            ]
          },
          "metadata": {},
          "execution_count": 17
        }
      ]
    },
    {
      "cell_type": "code",
      "metadata": {
        "id": "bo2A_ntYRcKw"
      },
      "source": [
        "np.random.seed(1234)"
      ],
      "execution_count": 18,
      "outputs": []
    },
    {
      "cell_type": "code",
      "metadata": {
        "id": "U5qXdwYQRYeT",
        "colab": {
          "base_uri": "https://localhost:8080/"
        },
        "outputId": "cea259dd-f184-4b22-9dfe-ca28e0226164"
      },
      "source": [
        "np.random.rand(5)"
      ],
      "execution_count": 19,
      "outputs": [
        {
          "output_type": "execute_result",
          "data": {
            "text/plain": [
              "array([0.19151945, 0.62210877, 0.43772774, 0.78535858, 0.77997581])"
            ]
          },
          "metadata": {},
          "execution_count": 19
        }
      ]
    },
    {
      "cell_type": "markdown",
      "metadata": {
        "id": "pwMXGAwmRhpW"
      },
      "source": [
        "### seed 고정 후에 randint(5)"
      ]
    },
    {
      "cell_type": "code",
      "metadata": {
        "id": "tqmTOMMVRhGW",
        "colab": {
          "base_uri": "https://localhost:8080/"
        },
        "outputId": "35756cc7-e860-42fc-f8b6-8525d30fb5c4"
      },
      "source": [
        "np.random.seed(5678)\n",
        "np.random.randint(1,10,5)"
      ],
      "execution_count": 20,
      "outputs": [
        {
          "output_type": "execute_result",
          "data": {
            "text/plain": [
              "array([5, 8, 3, 5, 4])"
            ]
          },
          "metadata": {},
          "execution_count": 20
        }
      ]
    },
    {
      "cell_type": "code",
      "metadata": {
        "id": "YxQYjcOLSA-Z",
        "colab": {
          "base_uri": "https://localhost:8080/"
        },
        "outputId": "31d2b390-a677-4447-e1fc-4535f48fee99"
      },
      "source": [
        "np.random.randint(1,10,5)"
      ],
      "execution_count": 21,
      "outputs": [
        {
          "output_type": "execute_result",
          "data": {
            "text/plain": [
              "array([6, 3, 7, 4, 1])"
            ]
          },
          "metadata": {},
          "execution_count": 21
        }
      ]
    },
    {
      "cell_type": "code",
      "metadata": {
        "id": "aQYF5QpGSD6p",
        "colab": {
          "base_uri": "https://localhost:8080/"
        },
        "outputId": "4450ec95-5c2d-4f16-e1e0-22324d634528"
      },
      "source": [
        "np.random.seed(5678)\n",
        "np.random.randint(1,10,5)"
      ],
      "execution_count": 22,
      "outputs": [
        {
          "output_type": "execute_result",
          "data": {
            "text/plain": [
              "array([5, 8, 3, 5, 4])"
            ]
          },
          "metadata": {},
          "execution_count": 22
        }
      ]
    },
    {
      "cell_type": "code",
      "metadata": {
        "id": "cfIhMEcVSGKa",
        "colab": {
          "base_uri": "https://localhost:8080/"
        },
        "outputId": "610d4f72-37a9-4c41-83d3-7d944ec1a194"
      },
      "source": [
        "np.random.seed(5678)\n",
        "np.random.randint(1,10,5)"
      ],
      "execution_count": 23,
      "outputs": [
        {
          "output_type": "execute_result",
          "data": {
            "text/plain": [
              "array([5, 8, 3, 5, 4])"
            ]
          },
          "metadata": {},
          "execution_count": 23
        }
      ]
    },
    {
      "cell_type": "code",
      "metadata": {
        "id": "Ik9a-QkcfLwy",
        "colab": {
          "base_uri": "https://localhost:8080/"
        },
        "outputId": "3b574b9a-3983-44ad-bf5b-75814368173d"
      },
      "source": [
        "# seed 변경\n",
        "np.random.seed(0)\n",
        "np.random.randint(1,10,5)"
      ],
      "execution_count": 24,
      "outputs": [
        {
          "output_type": "execute_result",
          "data": {
            "text/plain": [
              "array([6, 1, 4, 4, 8])"
            ]
          },
          "metadata": {},
          "execution_count": 24
        }
      ]
    },
    {
      "cell_type": "markdown",
      "metadata": {
        "id": "Zg3g31drmDMI"
      },
      "source": [
        "---\n",
        "---"
      ]
    },
    {
      "cell_type": "markdown",
      "metadata": {
        "id": "YNVh_pbhfROq"
      },
      "source": [
        "## DIY: 도전 코딩 - numpy 정리 과제\n",
        "- 생성된 마구잡이수를 조사하고 사용하기 \n",
        "- 9월19일 자정 마감."
      ]
    },
    {
      "cell_type": "markdown",
      "metadata": {
        "id": "vxNHFDSIgMmC"
      },
      "source": [
        "### [도전 1.] 0부터 9까지의 마구잡이 정수를 1000개 만들고 각 수의 빈도를 구하시오. "
      ]
    },
    {
      "cell_type": "code",
      "metadata": {
        "id": "qkDfXH1xgjBz",
        "colab": {
          "base_uri": "https://localhost:8080/"
        },
        "outputId": "863d0249-5a74-4329-bfde-63b0f4fd1bcf"
      },
      "source": [
        "# n1000=\n",
        "n1000 = np.random.randint(0,10,1000)\n",
        "n1000"
      ],
      "execution_count": 26,
      "outputs": [
        {
          "output_type": "execute_result",
          "data": {
            "text/plain": [
              "array([1, 4, 6, 0, 6, 6, 2, 8, 6, 6, 5, 2, 5, 0, 3, 9, 9, 7, 0, 4, 1, 3,\n",
              "       5, 7, 6, 2, 7, 3, 4, 9, 7, 0, 0, 1, 8, 3, 5, 0, 1, 1, 3, 7, 9, 3,\n",
              "       7, 0, 2, 4, 4, 6, 0, 1, 7, 6, 5, 5, 7, 3, 6, 8, 8, 2, 1, 0, 8, 7,\n",
              "       7, 0, 4, 8, 0, 4, 5, 7, 2, 4, 9, 7, 5, 0, 4, 9, 4, 0, 2, 5, 5, 3,\n",
              "       0, 0, 1, 9, 9, 2, 1, 0, 1, 6, 3, 4, 3, 6, 4, 2, 3, 6, 3, 3, 8, 1,\n",
              "       3, 3, 1, 5, 3, 6, 4, 8, 5, 7, 1, 8, 2, 0, 0, 4, 2, 1, 2, 2, 3, 4,\n",
              "       7, 5, 1, 3, 1, 0, 1, 4, 0, 2, 1, 3, 1, 4, 7, 5, 6, 9, 2, 5, 2, 2,\n",
              "       1, 3, 8, 3, 0, 7, 3, 8, 2, 4, 3, 1, 6, 5, 8, 4, 3, 6, 5, 3, 7, 8,\n",
              "       8, 3, 7, 8, 5, 7, 2, 7, 8, 0, 7, 4, 8, 4, 4, 0, 4, 8, 0, 0, 4, 7,\n",
              "       3, 7, 7, 2, 2, 1, 7, 0, 7, 5, 9, 7, 1, 1, 2, 4, 1, 4, 5, 8, 2, 1,\n",
              "       6, 3, 0, 3, 9, 5, 1, 3, 7, 1, 1, 7, 9, 4, 2, 0, 3, 2, 4, 0, 0, 9,\n",
              "       3, 8, 3, 0, 4, 4, 0, 2, 5, 5, 8, 2, 7, 3, 6, 1, 0, 2, 2, 5, 5, 1,\n",
              "       2, 8, 7, 3, 7, 3, 1, 0, 1, 0, 8, 8, 5, 3, 3, 1, 0, 6, 1, 6, 9, 5,\n",
              "       7, 0, 1, 4, 9, 5, 1, 6, 5, 4, 4, 4, 7, 2, 2, 6, 5, 3, 0, 8, 8, 1,\n",
              "       8, 7, 5, 7, 9, 4, 0, 7, 2, 3, 9, 5, 4, 0, 4, 5, 8, 1, 4, 8, 0, 1,\n",
              "       1, 8, 9, 4, 9, 0, 3, 0, 7, 0, 8, 1, 2, 8, 5, 8, 2, 1, 3, 5, 0, 2,\n",
              "       5, 8, 6, 2, 7, 7, 1, 8, 4, 9, 3, 3, 2, 9, 0, 4, 6, 4, 3, 2, 3, 1,\n",
              "       1, 2, 7, 2, 7, 0, 1, 8, 0, 5, 2, 8, 0, 4, 0, 3, 8, 1, 6, 4, 6, 9,\n",
              "       6, 4, 7, 2, 9, 8, 0, 8, 6, 2, 6, 9, 5, 3, 7, 8, 3, 8, 8, 9, 9, 4,\n",
              "       4, 1, 0, 7, 6, 2, 1, 0, 6, 1, 6, 7, 1, 5, 2, 0, 2, 6, 6, 3, 5, 4,\n",
              "       7, 3, 2, 6, 9, 1, 5, 1, 9, 3, 1, 0, 7, 3, 9, 6, 4, 4, 3, 5, 4, 4,\n",
              "       9, 0, 0, 9, 5, 0, 6, 3, 8, 9, 6, 2, 1, 7, 7, 6, 7, 5, 9, 8, 8, 1,\n",
              "       4, 6, 4, 2, 7, 8, 5, 7, 9, 9, 6, 9, 9, 3, 9, 3, 7, 2, 8, 1, 3, 2,\n",
              "       1, 7, 8, 7, 5, 7, 7, 1, 5, 6, 5, 8, 8, 1, 5, 2, 9, 5, 1, 8, 1, 7,\n",
              "       8, 5, 0, 1, 9, 5, 1, 4, 9, 8, 2, 8, 3, 3, 7, 4, 8, 3, 3, 1, 7, 5,\n",
              "       5, 7, 7, 3, 2, 1, 2, 9, 5, 8, 8, 8, 2, 2, 8, 4, 1, 1, 0, 2, 1, 7,\n",
              "       0, 2, 9, 3, 4, 9, 3, 0, 0, 6, 4, 3, 3, 1, 0, 7, 8, 6, 2, 8, 8, 9,\n",
              "       6, 4, 1, 8, 5, 4, 3, 5, 7, 6, 6, 9, 3, 3, 2, 7, 3, 9, 9, 5, 9, 8,\n",
              "       3, 8, 5, 9, 0, 7, 0, 1, 6, 6, 4, 5, 7, 6, 0, 1, 6, 6, 4, 2, 2, 4,\n",
              "       4, 3, 1, 0, 6, 6, 0, 9, 8, 9, 5, 2, 9, 8, 4, 4, 0, 2, 5, 7, 7, 1,\n",
              "       3, 2, 0, 3, 2, 2, 2, 3, 5, 1, 7, 5, 3, 9, 3, 0, 6, 3, 6, 9, 5, 1,\n",
              "       9, 3, 3, 9, 7, 8, 4, 7, 8, 9, 4, 1, 5, 0, 3, 6, 3, 0, 3, 6, 9, 5,\n",
              "       1, 7, 3, 4, 7, 0, 3, 5, 6, 6, 7, 4, 7, 2, 0, 1, 6, 5, 9, 4, 8, 7,\n",
              "       8, 6, 1, 4, 8, 5, 1, 6, 2, 7, 5, 7, 9, 6, 6, 3, 9, 9, 3, 4, 4, 1,\n",
              "       3, 9, 5, 1, 9, 7, 5, 4, 2, 0, 8, 7, 1, 1, 1, 9, 7, 4, 8, 6, 1, 2,\n",
              "       8, 4, 7, 9, 8, 8, 3, 2, 5, 6, 4, 5, 7, 9, 0, 3, 5, 5, 7, 8, 0, 2,\n",
              "       6, 5, 1, 5, 1, 9, 2, 3, 0, 3, 0, 1, 2, 2, 3, 4, 5, 8, 5, 1, 6, 1,\n",
              "       9, 6, 1, 5, 6, 2, 2, 9, 2, 8, 6, 3, 4, 1, 6, 6, 8, 8, 8, 5, 2, 2,\n",
              "       5, 9, 5, 4, 1, 1, 8, 8, 3, 0, 9, 2, 9, 3, 6, 4, 7, 5, 5, 3, 8, 7,\n",
              "       1, 7, 5, 4, 0, 5, 7, 8, 1, 6, 6, 9, 0, 2, 8, 6, 6, 3, 4, 4, 4, 1,\n",
              "       4, 3, 8, 9, 2, 1, 7, 8, 3, 3, 9, 0, 7, 7, 5, 3, 7, 8, 5, 5, 1, 7,\n",
              "       6, 1, 8, 1, 2, 0, 2, 4, 4, 8, 4, 7, 5, 2, 3, 0, 7, 9, 6, 9, 8, 1,\n",
              "       7, 6, 8, 4, 3, 5, 2, 0, 1, 4, 0, 5, 8, 3, 9, 1, 5, 9, 0, 8, 1, 6,\n",
              "       9, 7, 1, 4, 9, 8, 6, 7, 5, 7, 8, 5, 1, 4, 7, 8, 7, 7, 9, 9, 0, 6,\n",
              "       3, 7, 2, 6, 3, 5, 8, 9, 5, 0, 6, 9, 1, 4, 7, 5, 2, 6, 4, 7, 3, 6,\n",
              "       7, 0, 6, 4, 2, 3, 2, 0, 9, 5])"
            ]
          },
          "metadata": {},
          "execution_count": 26
        }
      ]
    },
    {
      "cell_type": "code",
      "metadata": {
        "id": "9_6nzbQD3FZi",
        "colab": {
          "base_uri": "https://localhost:8080/"
        },
        "outputId": "bd28fe4f-d9df-4e16-e439-9fe8f0d19af6"
      },
      "source": [
        "np.unique(n1000)"
      ],
      "execution_count": 27,
      "outputs": [
        {
          "output_type": "execute_result",
          "data": {
            "text/plain": [
              "array([0, 1, 2, 3, 4, 5, 6, 7, 8, 9])"
            ]
          },
          "metadata": {},
          "execution_count": 27
        }
      ]
    },
    {
      "cell_type": "code",
      "metadata": {
        "id": "eiw9R1243Rzp"
      },
      "source": [
        "# 각 수의 빈도"
      ],
      "execution_count": null,
      "outputs": []
    },
    {
      "cell_type": "markdown",
      "metadata": {
        "id": "cIhlY6-GghMN"
      },
      "source": [
        "### [도전 2.] 0부터 9까지의 마구잡이 정수를 1000개 만들고 각 수가 처음 출현하는 인덱스를 구하시오.\n",
        "> 0이 처음 나타날 때의 인덱스, 1이 처음 나타날 때의 인덱스, ... "
      ]
    },
    {
      "cell_type": "code",
      "metadata": {
        "colab": {
          "base_uri": "https://localhost:8080/"
        },
        "id": "wf5dZKf749nl",
        "outputId": "d59a5a4a-2e1f-45ca-fa55-cb91ae2a7cab"
      },
      "source": [
        "n1000[0], n1000[800]"
      ],
      "execution_count": 28,
      "outputs": [
        {
          "output_type": "execute_result",
          "data": {
            "text/plain": [
              "(1, 0)"
            ]
          },
          "metadata": {},
          "execution_count": 28
        }
      ]
    },
    {
      "cell_type": "code",
      "metadata": {
        "id": "oA1ec_RjgL3X"
      },
      "source": [
        "# 각 수가 처음 출현하는 인덱스\n"
      ],
      "execution_count": null,
      "outputs": []
    },
    {
      "cell_type": "code",
      "metadata": {
        "id": "yubibMMZ4AZS"
      },
      "source": [
        "# n1000[index]"
      ],
      "execution_count": null,
      "outputs": []
    },
    {
      "cell_type": "markdown",
      "metadata": {
        "id": "sadkRzWjgiTM"
      },
      "source": [
        "### [도전 3.] seed를 1234로 고정하고, 위의 도전1,2를 다시 해보시오. "
      ]
    },
    {
      "cell_type": "markdown",
      "metadata": {
        "id": "zAGojAainnox"
      },
      "source": [
        "### [도전 4.] 0부터 999까지의 마구잡이 정수로 구성되는 28X28 이차원배열을 만드시오.\n",
        "- 시드를 고정 : np.random.seed(1234)\n",
        "1. 각 행의 최대값, 최소갑을 구하시오.\n",
        "2. 배열 전체의 최대값, 최소값을 구하시오.\n",
        "3. 배열전체의 최대값, 최소값의 index를 각각 찾으시오."
      ]
    },
    {
      "cell_type": "markdown",
      "metadata": {
        "id": "VoSu8rNOnwPU"
      },
      "source": [
        "---\n",
        "---"
      ]
    },
    {
      "cell_type": "markdown",
      "metadata": {
        "id": "ozoCcRquhg4p"
      },
      "source": [
        "## python graphics\n",
        "- matplotlib\n",
        "> import matplotlib.pyplot as plt"
      ]
    },
    {
      "cell_type": "markdown",
      "metadata": {
        "id": "h6yEJiGJ4Lbk"
      },
      "source": [
        "### 무작위수 분포 그려보기"
      ]
    },
    {
      "cell_type": "code",
      "metadata": {
        "id": "ngcwuNlfhrIQ"
      },
      "source": [
        "import matplotlib.pyplot as plt"
      ],
      "execution_count": 34,
      "outputs": []
    },
    {
      "cell_type": "code",
      "metadata": {
        "id": "jr30IHxvJDuE",
        "colab": {
          "base_uri": "https://localhost:8080/",
          "height": 265
        },
        "outputId": "2c146b68-79f7-4f30-9548-73e715ce88af"
      },
      "source": [
        "plt.hist(n1000,label=range(0,10), color='red') #, bins=100) \n",
        "plt.show()"
      ],
      "execution_count": 35,
      "outputs": [
        {
          "output_type": "display_data",
          "data": {
            "image/png": "[encoded data removed]",
            "text/plain": [
              "<Figure size 432x288 with 1 Axes>"
            ]
          },
          "metadata": {
            "needs_background": "light"
          }
        }
      ]
    },
    {
      "cell_type": "markdown",
      "metadata": {
        "id": "b-JcgSU-Ktyz"
      },
      "source": [
        "### [도전] 균일분포와 정규분포를 비교하는 그림을 그리시오."
      ]
    },
    {
      "cell_type": "code",
      "metadata": {
        "id": "k0XaT2f9JGZy",
        "colab": {
          "base_uri": "https://localhost:8080/",
          "height": 373
        },
        "outputId": "f16600b1-1b21-477f-c273-85d4bada3ef0"
      },
      "source": [
        "plt.hist(np.random.rand(10000))"
      ],
      "execution_count": 38,
      "outputs": [
        {
          "output_type": "execute_result",
          "data": {
            "text/plain": [
              "(array([1070., 1017.,  994.,  974., 1029., 1018.,  957.,  978.,  979.,\n",
              "         984.]),\n",
              " array([1.50381081e-04, 1.00133138e-01, 2.00115895e-01, 3.00098652e-01,\n",
              "        4.00081409e-01, 5.00064166e-01, 6.00046924e-01, 7.00029681e-01,\n",
              "        8.00012438e-01, 8.99995195e-01, 9.99977952e-01]),\n",
              " <a list of 10 Patch objects>)"
            ]
          },
          "metadata": {},
          "execution_count": 38
        },
        {
          "output_type": "display_data",
          "data": {
            "image/png": "[encoded data removed]",
            "text/plain": [
              "<Figure size 432x288 with 1 Axes>"
            ]
          },
          "metadata": {
            "needs_background": "light"
          }
        }
      ]
    },
    {
      "cell_type": "code",
      "metadata": {
        "id": "T8SCqKVeMhBF",
        "colab": {
          "base_uri": "https://localhost:8080/",
          "height": 571
        },
        "outputId": "75f2ca16-2de8-4628-d317-ebd8c808182a"
      },
      "source": [
        "plt.hist(np.random.randn(10000), bins=50)"
      ],
      "execution_count": 40,
      "outputs": [
        {
          "output_type": "execute_result",
          "data": {
            "text/plain": [
              "(array([  1.,   0.,   0.,   0.,   0.,   0.,   3.,   2.,   3.,   9.,  17.,\n",
              "         21.,  27.,  44.,  60.,  94., 105., 155., 236., 288., 314., 428.,\n",
              "        470., 542., 595., 647., 648., 679., 658., 658., 585., 527., 483.,\n",
              "        397., 342., 255., 191., 166.,  99.,  82.,  53.,  47.,  31.,  16.,\n",
              "          7.,   5.,   5.,   3.,   1.,   1.]),\n",
              " array([-4.65995297, -4.4901181 , -4.32028324, -4.15044838, -3.98061352,\n",
              "        -3.81077865, -3.64094379, -3.47110893, -3.30127407, -3.1314392 ,\n",
              "        -2.96160434, -2.79176948, -2.62193462, -2.45209975, -2.28226489,\n",
              "        -2.11243003, -1.94259517, -1.7727603 , -1.60292544, -1.43309058,\n",
              "        -1.26325572, -1.09342085, -0.92358599, -0.75375113, -0.58391627,\n",
              "        -0.4140814 , -0.24424654, -0.07441168,  0.09542319,  0.26525805,\n",
              "         0.43509291,  0.60492777,  0.77476264,  0.9445975 ,  1.11443236,\n",
              "         1.28426722,  1.45410209,  1.62393695,  1.79377181,  1.96360667,\n",
              "         2.13344154,  2.3032764 ,  2.47311126,  2.64294612,  2.81278099,\n",
              "         2.98261585,  3.15245071,  3.32228557,  3.49212044,  3.6619553 ,\n",
              "         3.83179016]),\n",
              " <a list of 50 Patch objects>)"
            ]
          },
          "metadata": {},
          "execution_count": 40
        },
        {
          "output_type": "display_data",
          "data": {
            "image/png": "[encoded data removed]",
            "text/plain": [
              "<Figure size 432x288 with 1 Axes>"
            ]
          },
          "metadata": {
            "needs_background": "light"
          }
        }
      ]
    },
    {
      "cell_type": "markdown",
      "metadata": {
        "id": "LYthn3089aqD"
      },
      "source": [
        "## 보충 코드"
      ]
    },
    {
      "cell_type": "code",
      "metadata": {
        "id": "BUkVDXTJMkwc",
        "colab": {
          "base_uri": "https://localhost:8080/"
        },
        "outputId": "718882d2-3cba-4904-ce01-7411bf485b55"
      },
      "source": [
        "n1000 = np.random.randint(0, 10, 1000)\n",
        "n1000"
      ],
      "execution_count": 30,
      "outputs": [
        {
          "output_type": "execute_result",
          "data": {
            "text/plain": [
              "array([7, 5, 2, 2, 4, 0, 4, 7, 3, 8, 6, 6, 5, 2, 6, 6, 5, 0, 2, 1, 6, 1,\n",
              "       4, 2, 1, 5, 2, 1, 5, 2, 6, 6, 2, 0, 4, 5, 7, 3, 6, 5, 5, 9, 2, 0,\n",
              "       5, 1, 3, 0, 7, 1, 9, 3, 6, 5, 6, 9, 6, 1, 5, 4, 7, 6, 3, 2, 3, 6,\n",
              "       5, 7, 7, 6, 6, 5, 8, 5, 3, 7, 2, 7, 2, 9, 5, 0, 2, 8, 1, 8, 2, 8,\n",
              "       6, 8, 3, 6, 4, 0, 6, 6, 3, 4, 8, 6, 0, 0, 3, 5, 7, 0, 9, 9, 8, 0,\n",
              "       1, 9, 4, 0, 2, 4, 8, 2, 2, 7, 6, 3, 2, 6, 5, 4, 3, 3, 9, 7, 4, 4,\n",
              "       5, 9, 4, 1, 1, 7, 9, 0, 0, 5, 7, 0, 5, 2, 0, 9, 7, 5, 0, 3, 5, 3,\n",
              "       2, 2, 0, 8, 3, 9, 9, 9, 6, 4, 9, 3, 4, 1, 0, 9, 1, 1, 7, 2, 7, 0,\n",
              "       1, 8, 0, 3, 5, 1, 2, 1, 4, 7, 9, 8, 4, 4, 6, 5, 1, 0, 1, 0, 3, 5,\n",
              "       5, 6, 9, 2, 9, 5, 7, 5, 9, 8, 1, 5, 8, 9, 1, 4, 0, 2, 0, 9, 7, 9,\n",
              "       3, 8, 7, 7, 8, 1, 9, 8, 9, 0, 7, 7, 6, 5, 8, 5, 4, 0, 9, 1, 8, 0,\n",
              "       3, 7, 3, 7, 5, 3, 8, 3, 1, 3, 3, 0, 7, 2, 0, 6, 6, 7, 7, 1, 2, 8,\n",
              "       5, 1, 7, 3, 1, 6, 8, 2, 7, 8, 9, 6, 9, 8, 5, 0, 0, 9, 4, 6, 0, 9,\n",
              "       4, 2, 2, 4, 7, 1, 9, 6, 4, 6, 8, 6, 9, 2, 7, 4, 0, 1, 6, 4, 0, 0,\n",
              "       2, 7, 6, 6, 7, 7, 0, 9, 4, 1, 4, 9, 5, 9, 0, 6, 4, 4, 1, 7, 0, 1,\n",
              "       2, 8, 7, 9, 8, 0, 0, 0, 2, 6, 8, 3, 7, 3, 3, 5, 5, 4, 8, 9, 2, 8,\n",
              "       5, 7, 5, 4, 4, 7, 8, 8, 5, 6, 6, 3, 6, 0, 5, 6, 9, 5, 4, 3, 0, 5,\n",
              "       1, 5, 1, 1, 8, 7, 9, 3, 5, 2, 6, 3, 8, 4, 8, 0, 8, 4, 0, 5, 5, 2,\n",
              "       4, 8, 8, 4, 1, 8, 8, 8, 3, 3, 2, 9, 5, 7, 5, 8, 7, 9, 0, 2, 7, 3,\n",
              "       5, 1, 5, 1, 1, 2, 4, 3, 1, 9, 1, 2, 8, 1, 7, 8, 2, 9, 6, 5, 1, 9,\n",
              "       6, 9, 2, 5, 6, 1, 5, 8, 4, 6, 5, 6, 0, 2, 5, 6, 2, 9, 1, 4, 8, 8,\n",
              "       3, 7, 2, 9, 1, 1, 1, 6, 3, 6, 5, 4, 2, 7, 8, 8, 0, 7, 8, 8, 7, 4,\n",
              "       6, 9, 6, 8, 3, 7, 8, 4, 2, 3, 0, 4, 8, 0, 4, 2, 6, 2, 2, 2, 7, 9,\n",
              "       6, 9, 6, 0, 2, 1, 4, 6, 3, 8, 7, 5, 9, 0, 2, 1, 0, 5, 9, 7, 3, 4,\n",
              "       4, 7, 1, 7, 7, 8, 9, 5, 6, 1, 0, 0, 0, 2, 3, 1, 6, 4, 0, 8, 8, 6,\n",
              "       4, 5, 5, 7, 7, 9, 3, 5, 5, 4, 9, 0, 9, 5, 6, 7, 0, 8, 0, 7, 8, 8,\n",
              "       9, 4, 0, 3, 6, 8, 3, 4, 4, 4, 1, 3, 8, 8, 3, 2, 1, 4, 7, 6, 8, 0,\n",
              "       1, 1, 3, 7, 8, 4, 6, 2, 6, 9, 0, 0, 2, 9, 9, 0, 5, 0, 4, 7, 7, 1,\n",
              "       8, 6, 5, 1, 5, 4, 2, 6, 1, 1, 7, 9, 5, 4, 1, 5, 7, 8, 2, 4, 9, 7,\n",
              "       2, 8, 2, 1, 8, 7, 1, 3, 5, 8, 1, 3, 9, 1, 2, 7, 5, 8, 5, 3, 2, 5,\n",
              "       4, 8, 1, 0, 8, 8, 4, 0, 4, 2, 7, 4, 4, 5, 6, 3, 7, 0, 9, 4, 4, 5,\n",
              "       8, 5, 6, 1, 4, 5, 3, 9, 6, 8, 7, 4, 7, 8, 1, 4, 5, 5, 3, 8, 3, 5,\n",
              "       3, 4, 6, 1, 9, 9, 7, 6, 5, 2, 9, 3, 5, 8, 3, 1, 9, 6, 7, 8, 1, 9,\n",
              "       7, 3, 7, 9, 4, 1, 1, 8, 2, 0, 8, 5, 5, 3, 0, 1, 7, 4, 4, 4, 4, 5,\n",
              "       6, 8, 4, 4, 7, 7, 4, 5, 7, 4, 9, 5, 9, 1, 4, 0, 1, 3, 9, 2, 0, 7,\n",
              "       2, 9, 0, 1, 8, 1, 1, 5, 9, 6, 6, 8, 1, 5, 9, 5, 6, 9, 0, 3, 7, 2,\n",
              "       9, 0, 9, 9, 9, 7, 7, 6, 7, 0, 6, 0, 2, 6, 8, 8, 6, 3, 2, 3, 1, 4,\n",
              "       0, 8, 2, 6, 7, 7, 8, 0, 2, 1, 6, 3, 6, 7, 9, 4, 0, 8, 2, 3, 2, 8,\n",
              "       0, 6, 6, 9, 5, 9, 7, 3, 6, 8, 5, 2, 8, 9, 1, 4, 0, 9, 4, 7, 0, 9,\n",
              "       1, 4, 0, 0, 9, 0, 3, 8, 6, 2, 0, 9, 6, 5, 6, 9, 1, 4, 4, 2, 9, 2,\n",
              "       4, 9, 3, 3, 6, 0, 8, 9, 5, 5, 2, 0, 4, 0, 5, 2, 3, 2, 9, 8, 9, 0,\n",
              "       6, 0, 9, 1, 3, 5, 1, 2, 0, 5, 6, 9, 1, 2, 6, 6, 7, 0, 5, 4, 7, 4,\n",
              "       6, 6, 8, 6, 0, 2, 0, 0, 8, 4, 0, 1, 0, 8, 5, 2, 8, 0, 5, 0, 8, 5,\n",
              "       6, 9, 4, 4, 2, 4, 0, 8, 1, 7, 4, 1, 0, 9, 5, 1, 8, 1, 6, 0, 0, 2,\n",
              "       0, 7, 2, 7, 5, 4, 0, 7, 9, 8, 1, 3, 2, 2, 5, 7, 1, 5, 3, 9, 5, 6,\n",
              "       3, 6, 7, 5, 6, 9, 9, 5, 7, 5])"
            ]
          },
          "metadata": {},
          "execution_count": 30
        }
      ]
    },
    {
      "cell_type": "code",
      "metadata": {
        "id": "xza_yV8nMshU"
      },
      "source": [
        "value, count= np.unique(n1000, return_counts=True)"
      ],
      "execution_count": 31,
      "outputs": []
    },
    {
      "cell_type": "code",
      "metadata": {
        "id": "al1pM1aK9Vk7",
        "colab": {
          "base_uri": "https://localhost:8080/"
        },
        "outputId": "389582bb-7a5e-46c6-8a22-edd164d27628"
      },
      "source": [
        "value, count"
      ],
      "execution_count": 32,
      "outputs": [
        {
          "output_type": "execute_result",
          "data": {
            "text/plain": [
              "(array([0, 1, 2, 3, 4, 5, 6, 7, 8, 9]),\n",
              " array([109,  96,  92,  78, 100, 111, 104, 101, 105, 104]))"
            ]
          },
          "metadata": {},
          "execution_count": 32
        }
      ]
    },
    {
      "cell_type": "code",
      "metadata": {
        "id": "bgb6tetL6Ci3"
      },
      "source": [
        ""
      ],
      "execution_count": null,
      "outputs": []
    }
  ]
}