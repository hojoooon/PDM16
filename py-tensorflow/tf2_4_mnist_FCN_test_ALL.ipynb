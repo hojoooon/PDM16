{
  "nbformat": 4,
  "nbformat_minor": 0,
  "metadata": {
    "colab": {
      "name": "tf2_4_mnist_FCN_test_ALL.ipynb",
      "provenance": [],
      "collapsed_sections": [],
      "include_colab_link": true
    },
    "kernelspec": {
      "name": "python3",
      "display_name": "Python 3"
    },
    "accelerator": "GPU"
  },
  "cells": [
    {
      "cell_type": "markdown",
      "metadata": {
        "id": "view-in-github",
        "colab_type": "text"
      },
      "source": [
        "<a href=\"https://colab.research.google.com/github/hojoooon/PDM16/blob/main/py-tensorflow/tf2_4_mnist_FCN_test_ALL.ipynb\" target=\"_parent\"><img src=\"https://colab.research.google.com/assets/colab-badge.svg\" alt=\"Open In Colab\"/></a>"
      ]
    },
    {
      "cell_type": "markdown",
      "metadata": {
        "id": "eKScslg0Bk1E"
      },
      "source": [
        "## DNN (Deep Neural Networks) 구현 방법\n",
        "> - Sequential model\n",
        "> - Functional model\n",
        "> - Subclassing model"
      ]
    },
    {
      "cell_type": "markdown",
      "metadata": {
        "id": "rswfCVLZ-QW0"
      },
      "source": [
        "# **Test of mnist FCN model**\n",
        "## Sequential model\n",
        "- FCN2\n",
        "- FCN3\n",
        "- FCN4\n",
        "- FCN5\n",
        "\n",
        "***\n",
        "\n",
        "![mnist_NN_2_layers](https://raw.githubusercontent.com/Redwoods/Py/master/pdm2020/my-note/py-tensorflow/images/mnist_NN_2_layers.png)"
      ]
    },
    {
      "cell_type": "code",
      "metadata": {
        "id": "8GgGzPXPVyfa",
        "colab": {
          "base_uri": "https://localhost:8080/"
        },
        "outputId": "f6ccc35e-5e46-4dcd-9196-98fd7bd3bd38"
      },
      "source": [
        "import numpy as np\n",
        "import tensorflow as tf\n",
        "from tensorflow import keras\n",
        "import pandas as pd\n",
        "import matplotlib.pyplot as plt\n",
        "# %matplotlib inline\n",
        "\n",
        "print(tf.__version__)"
      ],
      "execution_count": 1,
      "outputs": [
        {
          "output_type": "stream",
          "name": "stdout",
          "text": [
            "2.7.0\n"
          ]
        }
      ]
    },
    {
      "cell_type": "markdown",
      "metadata": {
        "id": "-0IOOUM14Jk1"
      },
      "source": [
        "## **데이터 로딩, 정규화**"
      ]
    },
    {
      "cell_type": "code",
      "metadata": {
        "id": "N1ogJ7I64Fz-",
        "colab": {
          "base_uri": "https://localhost:8080/"
        },
        "outputId": "885dac2c-b3e9-412a-c37a-c02ab09b2850"
      },
      "source": [
        "from keras.datasets import mnist\n",
        "\n",
        "(X_train, y_train), (X_test, y_test) = mnist.load_data()\n",
        "X_train, X_test = X_train/255.0, X_test/255.0 # 정규화\n",
        "\n",
        "print(\"X_train={0}\".format(X_train.shape))\n",
        "print(\"y_train={0}\".format(y_train.shape)) \n",
        "print(\"X_test={0}\".format(X_test.shape))\n",
        "print(\"y_test={0}\".format(y_test.shape))"
      ],
      "execution_count": 2,
      "outputs": [
        {
          "output_type": "stream",
          "name": "stdout",
          "text": [
            "Downloading data from https://storage.googleapis.com/tensorflow/tf-keras-datasets/mnist.npz\n",
            "11493376/11490434 [==============================] - 0s 0us/step\n",
            "11501568/11490434 [==============================] - 0s 0us/step\n",
            "X_train=(60000, 28, 28)\n",
            "y_train=(60000,)\n",
            "X_test=(10000, 28, 28)\n",
            "y_test=(10000,)\n"
          ]
        }
      ]
    },
    {
      "cell_type": "code",
      "metadata": {
        "id": "F46-QZqJHiQ6"
      },
      "source": [
        "# One-Hot-Encoding\n",
        "# Use function to_categorical() to do One-Hot-Encoding\n",
        "# tf.keras.utils.to_categorical\n",
        "from tensorflow.keras.utils import to_categorical\n",
        "\n",
        "y_train = to_categorical(y_train, 10)\n",
        "y_test = to_categorical(y_test, 10)"
      ],
      "execution_count": 3,
      "outputs": []
    },
    {
      "cell_type": "markdown",
      "metadata": {
        "id": "pkaGYiPY4L4J"
      },
      "source": [
        "## **FCN2**"
      ]
    },
    {
      "cell_type": "code",
      "metadata": {
        "id": "-LL0E4UX4Nj-"
      },
      "source": [
        "# Set random number seed here!\n",
        "np.random.seed(1234)\n",
        "tf.random.set_seed(1234)\n",
        "\n",
        "fcn2 = keras.models.Sequential([ \n",
        "    keras.layers.Flatten(input_shape=(28, 28)),\n",
        "    keras.layers.Dense(128, activation='relu'),  \n",
        "    keras.layers.Dropout(0.25), \n",
        "    keras.layers.Dense(10, activation='softmax')\n",
        "])\n",
        "\n",
        "fcn2.compile(optimizer='adam',\n",
        "              loss='categorical_crossentropy',\n",
        "              metrics=['accuracy']) "
      ],
      "execution_count": 4,
      "outputs": []
    },
    {
      "cell_type": "code",
      "metadata": {
        "id": "3r9oCDEN4UGu",
        "colab": {
          "base_uri": "https://localhost:8080/"
        },
        "outputId": "3a693c54-d102-4452-f316-a05753311f7f"
      },
      "source": [
        "fcn2.summary()"
      ],
      "execution_count": 5,
      "outputs": [
        {
          "output_type": "stream",
          "name": "stdout",
          "text": [
            "Model: \"sequential\"\n",
            "_________________________________________________________________\n",
            " Layer (type)                Output Shape              Param #   \n",
            "=================================================================\n",
            " flatten (Flatten)           (None, 784)               0         \n",
            "                                                                 \n",
            " dense (Dense)               (None, 128)               100480    \n",
            "                                                                 \n",
            " dropout (Dropout)           (None, 128)               0         \n",
            "                                                                 \n",
            " dense_1 (Dense)             (None, 10)                1290      \n",
            "                                                                 \n",
            "=================================================================\n",
            "Total params: 101,770\n",
            "Trainable params: 101,770\n",
            "Non-trainable params: 0\n",
            "_________________________________________________________________\n"
          ]
        }
      ]
    },
    {
      "cell_type": "code",
      "metadata": {
        "id": "E5P-W0384WCv",
        "colab": {
          "base_uri": "https://localhost:8080/"
        },
        "outputId": "d49da498-0281-4646-eda5-95f0f3714e40"
      },
      "source": [
        "fcn2.fit(X_train, y_train, \n",
        "         epochs = 20,  \n",
        "         batch_size = 100,\n",
        "         validation_data=(X_test, y_test))"
      ],
      "execution_count": 6,
      "outputs": [
        {
          "output_type": "stream",
          "name": "stdout",
          "text": [
            "Epoch 1/20\n",
            "600/600 [==============================] - 5s 4ms/step - loss: 0.3881 - accuracy: 0.8886 - val_loss: 0.1856 - val_accuracy: 0.9446\n",
            "Epoch 2/20\n",
            "600/600 [==============================] - 3s 4ms/step - loss: 0.1894 - accuracy: 0.9452 - val_loss: 0.1276 - val_accuracy: 0.9617\n",
            "Epoch 3/20\n",
            "600/600 [==============================] - 2s 4ms/step - loss: 0.1440 - accuracy: 0.9578 - val_loss: 0.1048 - val_accuracy: 0.9686\n",
            "Epoch 4/20\n",
            "600/600 [==============================] - 2s 4ms/step - loss: 0.1186 - accuracy: 0.9654 - val_loss: 0.0901 - val_accuracy: 0.9731\n",
            "Epoch 5/20\n",
            "600/600 [==============================] - 2s 4ms/step - loss: 0.1022 - accuracy: 0.9698 - val_loss: 0.0838 - val_accuracy: 0.9745\n",
            "Epoch 6/20\n",
            "600/600 [==============================] - 2s 4ms/step - loss: 0.0906 - accuracy: 0.9727 - val_loss: 0.0779 - val_accuracy: 0.9762\n",
            "Epoch 7/20\n",
            "600/600 [==============================] - 2s 4ms/step - loss: 0.0816 - accuracy: 0.9750 - val_loss: 0.0785 - val_accuracy: 0.9756\n",
            "Epoch 8/20\n",
            "600/600 [==============================] - 2s 4ms/step - loss: 0.0724 - accuracy: 0.9773 - val_loss: 0.0772 - val_accuracy: 0.9762\n",
            "Epoch 9/20\n",
            "600/600 [==============================] - 2s 4ms/step - loss: 0.0677 - accuracy: 0.9794 - val_loss: 0.0686 - val_accuracy: 0.9779\n",
            "Epoch 10/20\n",
            "600/600 [==============================] - 2s 4ms/step - loss: 0.0628 - accuracy: 0.9802 - val_loss: 0.0700 - val_accuracy: 0.9777\n",
            "Epoch 11/20\n",
            "600/600 [==============================] - 2s 4ms/step - loss: 0.0567 - accuracy: 0.9824 - val_loss: 0.0679 - val_accuracy: 0.9799\n",
            "Epoch 12/20\n",
            "600/600 [==============================] - 2s 4ms/step - loss: 0.0520 - accuracy: 0.9833 - val_loss: 0.0714 - val_accuracy: 0.9787\n",
            "Epoch 13/20\n",
            "600/600 [==============================] - 2s 4ms/step - loss: 0.0504 - accuracy: 0.9844 - val_loss: 0.0677 - val_accuracy: 0.9802\n",
            "Epoch 14/20\n",
            "600/600 [==============================] - 2s 4ms/step - loss: 0.0473 - accuracy: 0.9846 - val_loss: 0.0695 - val_accuracy: 0.9790\n",
            "Epoch 15/20\n",
            "600/600 [==============================] - 2s 4ms/step - loss: 0.0430 - accuracy: 0.9859 - val_loss: 0.0705 - val_accuracy: 0.9786\n",
            "Epoch 16/20\n",
            "600/600 [==============================] - 2s 4ms/step - loss: 0.0415 - accuracy: 0.9863 - val_loss: 0.0679 - val_accuracy: 0.9795\n",
            "Epoch 17/20\n",
            "600/600 [==============================] - 2s 4ms/step - loss: 0.0395 - accuracy: 0.9872 - val_loss: 0.0671 - val_accuracy: 0.9795\n",
            "Epoch 18/20\n",
            "600/600 [==============================] - 2s 4ms/step - loss: 0.0384 - accuracy: 0.9871 - val_loss: 0.0638 - val_accuracy: 0.9807\n",
            "Epoch 19/20\n",
            "600/600 [==============================] - 2s 4ms/step - loss: 0.0352 - accuracy: 0.9882 - val_loss: 0.0684 - val_accuracy: 0.9799\n",
            "Epoch 20/20\n",
            "600/600 [==============================] - 2s 4ms/step - loss: 0.0337 - accuracy: 0.9888 - val_loss: 0.0679 - val_accuracy: 0.9815\n"
          ]
        },
        {
          "output_type": "execute_result",
          "data": {
            "text/plain": [
              "<keras.callbacks.History at 0x7fc9c03aab90>"
            ]
          },
          "metadata": {},
          "execution_count": 6
        }
      ]
    },
    {
      "cell_type": "code",
      "metadata": {
        "id": "JTLIG-8Y4guU",
        "colab": {
          "base_uri": "https://localhost:8080/"
        },
        "outputId": "02021fbc-c7a4-4ab1-90ff-f293a853aac3"
      },
      "source": [
        "fcn2.evaluate(X_test, y_test, batch_size =100)"
      ],
      "execution_count": 7,
      "outputs": [
        {
          "output_type": "stream",
          "name": "stdout",
          "text": [
            "100/100 [==============================] - 0s 3ms/step - loss: 0.0679 - accuracy: 0.9815\n"
          ]
        },
        {
          "output_type": "execute_result",
          "data": {
            "text/plain": [
              "[0.06793997436761856, 0.9815000295639038]"
            ]
          },
          "metadata": {},
          "execution_count": 7
        }
      ]
    },
    {
      "cell_type": "markdown",
      "metadata": {
        "id": "zYsilPV-d68h"
      },
      "source": [
        "## **FCN3**"
      ]
    },
    {
      "cell_type": "code",
      "metadata": {
        "id": "ru3C9Fdb5MJ9"
      },
      "source": [
        "# Set random number seed here!\n",
        "np.random.seed(1234)\n",
        "tf.random.set_seed(1234)\n",
        "\n",
        "fcn3 = tf.keras.models.Sequential([ \n",
        "    tf.keras.layers.Flatten(input_shape=(28, 28)),\n",
        "    tf.keras.layers.Dense(256, activation='relu'),  \n",
        "    tf.keras.layers.Dropout(0.25),\n",
        "    tf.keras.layers.Dense(128, activation='relu'),  \n",
        "    tf.keras.layers.Dropout(0.25), \n",
        "    tf.keras.layers.Dense(10, activation='softmax')\n",
        "])\n",
        "\n",
        "fcn3.compile(optimizer='adam',\n",
        "              loss='categorical_crossentropy',\n",
        "              metrics=['accuracy']) "
      ],
      "execution_count": 8,
      "outputs": []
    },
    {
      "cell_type": "code",
      "metadata": {
        "id": "WUKcSnnc5XcD",
        "colab": {
          "base_uri": "https://localhost:8080/"
        },
        "outputId": "434cbe2e-9493-4dd5-b120-8f8d77493f66"
      },
      "source": [
        "fcn3.summary()"
      ],
      "execution_count": 9,
      "outputs": [
        {
          "output_type": "stream",
          "name": "stdout",
          "text": [
            "Model: \"sequential_1\"\n",
            "_________________________________________________________________\n",
            " Layer (type)                Output Shape              Param #   \n",
            "=================================================================\n",
            " flatten_1 (Flatten)         (None, 784)               0         \n",
            "                                                                 \n",
            " dense_2 (Dense)             (None, 256)               200960    \n",
            "                                                                 \n",
            " dropout_1 (Dropout)         (None, 256)               0         \n",
            "                                                                 \n",
            " dense_3 (Dense)             (None, 128)               32896     \n",
            "                                                                 \n",
            " dropout_2 (Dropout)         (None, 128)               0         \n",
            "                                                                 \n",
            " dense_4 (Dense)             (None, 10)                1290      \n",
            "                                                                 \n",
            "=================================================================\n",
            "Total params: 235,146\n",
            "Trainable params: 235,146\n",
            "Non-trainable params: 0\n",
            "_________________________________________________________________\n"
          ]
        }
      ]
    },
    {
      "cell_type": "code",
      "metadata": {
        "id": "WHnUbwan5Zq7",
        "colab": {
          "base_uri": "https://localhost:8080/"
        },
        "outputId": "01c34167-f1e6-49e4-92a6-6f8105b61e20"
      },
      "source": [
        "fcn3.fit(X_train,y_train, epochs= 20 , batch_size =100,\n",
        "         validation_data=(X_test, y_test))"
      ],
      "execution_count": 10,
      "outputs": [
        {
          "output_type": "stream",
          "name": "stdout",
          "text": [
            "Epoch 1/20\n",
            "600/600 [==============================] - 3s 4ms/step - loss: 0.3509 - accuracy: 0.8950 - val_loss: 0.1295 - val_accuracy: 0.9592\n",
            "Epoch 2/20\n",
            "600/600 [==============================] - 2s 4ms/step - loss: 0.1498 - accuracy: 0.9557 - val_loss: 0.0951 - val_accuracy: 0.9694\n",
            "Epoch 3/20\n",
            "600/600 [==============================] - 2s 4ms/step - loss: 0.1116 - accuracy: 0.9670 - val_loss: 0.0775 - val_accuracy: 0.9761\n",
            "Epoch 4/20\n",
            "600/600 [==============================] - 3s 4ms/step - loss: 0.0880 - accuracy: 0.9731 - val_loss: 0.0729 - val_accuracy: 0.9771\n",
            "Epoch 5/20\n",
            "600/600 [==============================] - 2s 4ms/step - loss: 0.0759 - accuracy: 0.9761 - val_loss: 0.0730 - val_accuracy: 0.9760\n",
            "Epoch 6/20\n",
            "600/600 [==============================] - 3s 4ms/step - loss: 0.0671 - accuracy: 0.9790 - val_loss: 0.0638 - val_accuracy: 0.9795\n",
            "Epoch 7/20\n",
            "600/600 [==============================] - 3s 4ms/step - loss: 0.0594 - accuracy: 0.9811 - val_loss: 0.0637 - val_accuracy: 0.9803\n",
            "Epoch 8/20\n",
            "600/600 [==============================] - 3s 4ms/step - loss: 0.0525 - accuracy: 0.9825 - val_loss: 0.0625 - val_accuracy: 0.9817\n",
            "Epoch 9/20\n",
            "600/600 [==============================] - 2s 4ms/step - loss: 0.0464 - accuracy: 0.9854 - val_loss: 0.0593 - val_accuracy: 0.9830\n",
            "Epoch 10/20\n",
            "600/600 [==============================] - 3s 4ms/step - loss: 0.0445 - accuracy: 0.9859 - val_loss: 0.0656 - val_accuracy: 0.9813\n",
            "Epoch 11/20\n",
            "600/600 [==============================] - 3s 4ms/step - loss: 0.0409 - accuracy: 0.9865 - val_loss: 0.0676 - val_accuracy: 0.9816\n",
            "Epoch 12/20\n",
            "600/600 [==============================] - 3s 4ms/step - loss: 0.0378 - accuracy: 0.9874 - val_loss: 0.0686 - val_accuracy: 0.9828\n",
            "Epoch 13/20\n",
            "600/600 [==============================] - 3s 4ms/step - loss: 0.0376 - accuracy: 0.9876 - val_loss: 0.0699 - val_accuracy: 0.9816\n",
            "Epoch 14/20\n",
            "600/600 [==============================] - 2s 4ms/step - loss: 0.0339 - accuracy: 0.9887 - val_loss: 0.0665 - val_accuracy: 0.9828\n",
            "Epoch 15/20\n",
            "600/600 [==============================] - 3s 4ms/step - loss: 0.0327 - accuracy: 0.9888 - val_loss: 0.0717 - val_accuracy: 0.9829\n",
            "Epoch 16/20\n",
            "600/600 [==============================] - 2s 4ms/step - loss: 0.0316 - accuracy: 0.9894 - val_loss: 0.0713 - val_accuracy: 0.9819\n",
            "Epoch 17/20\n",
            "600/600 [==============================] - 3s 4ms/step - loss: 0.0291 - accuracy: 0.9906 - val_loss: 0.0707 - val_accuracy: 0.9814\n",
            "Epoch 18/20\n",
            "600/600 [==============================] - 3s 4ms/step - loss: 0.0276 - accuracy: 0.9908 - val_loss: 0.0764 - val_accuracy: 0.9817\n",
            "Epoch 19/20\n",
            "600/600 [==============================] - 3s 4ms/step - loss: 0.0299 - accuracy: 0.9903 - val_loss: 0.0688 - val_accuracy: 0.9821\n",
            "Epoch 20/20\n",
            "600/600 [==============================] - 3s 4ms/step - loss: 0.0264 - accuracy: 0.9912 - val_loss: 0.0648 - val_accuracy: 0.9831\n"
          ]
        },
        {
          "output_type": "execute_result",
          "data": {
            "text/plain": [
              "<keras.callbacks.History at 0x7fc9c00a7d90>"
            ]
          },
          "metadata": {},
          "execution_count": 10
        }
      ]
    },
    {
      "cell_type": "code",
      "metadata": {
        "id": "kTaGJMFG7FbH",
        "colab": {
          "base_uri": "https://localhost:8080/"
        },
        "outputId": "7bce4ed4-e8e6-4f4d-dab9-7c4e78fb5600"
      },
      "source": [
        "fcn3.evaluate(X_test, y_test, batch_size= 100)"
      ],
      "execution_count": 11,
      "outputs": [
        {
          "output_type": "stream",
          "name": "stdout",
          "text": [
            "100/100 [==============================] - 0s 3ms/step - loss: 0.0648 - accuracy: 0.9831\n"
          ]
        },
        {
          "output_type": "execute_result",
          "data": {
            "text/plain": [
              "[0.06475277990102768, 0.9830999970436096]"
            ]
          },
          "metadata": {},
          "execution_count": 11
        }
      ]
    },
    {
      "cell_type": "markdown",
      "metadata": {
        "id": "7Z6DJJUCei-s"
      },
      "source": [
        "## **FCN4**"
      ]
    },
    {
      "cell_type": "code",
      "metadata": {
        "id": "pV3NFglM7P65"
      },
      "source": [
        "# Set random number seed here!\n",
        "np.random.seed(1234)\n",
        "tf.random.set_seed(1234)\n",
        "\n",
        "fcn4 = tf.keras.models.Sequential([ \n",
        "    tf.keras.layers.Flatten(input_shape=(28, 28)),\n",
        "    tf.keras.layers.Dense(256, activation='relu'),  \n",
        "    tf.keras.layers.Dropout(0.25),\n",
        "    tf.keras.layers.Dense(128, activation='relu'),  \n",
        "    tf.keras.layers.Dropout(0.25),\n",
        "    tf.keras.layers.Dense(64, activation='relu'),  \n",
        "    tf.keras.layers.Dropout(0.25), \n",
        "    tf.keras.layers.Dense(10, activation='softmax')\n",
        "])\n",
        "\n",
        "fcn4.compile(optimizer='adam',\n",
        "              loss='categorical_crossentropy',\n",
        "              metrics=['accuracy']) "
      ],
      "execution_count": 12,
      "outputs": []
    },
    {
      "cell_type": "code",
      "metadata": {
        "id": "OGtCiKy57YkR",
        "colab": {
          "base_uri": "https://localhost:8080/"
        },
        "outputId": "5fe4eda7-f73a-4bcc-9f38-a82d31ec9b5d"
      },
      "source": [
        "fcn4.summary()"
      ],
      "execution_count": 13,
      "outputs": [
        {
          "output_type": "stream",
          "name": "stdout",
          "text": [
            "Model: \"sequential_2\"\n",
            "_________________________________________________________________\n",
            " Layer (type)                Output Shape              Param #   \n",
            "=================================================================\n",
            " flatten_2 (Flatten)         (None, 784)               0         \n",
            "                                                                 \n",
            " dense_5 (Dense)             (None, 256)               200960    \n",
            "                                                                 \n",
            " dropout_3 (Dropout)         (None, 256)               0         \n",
            "                                                                 \n",
            " dense_6 (Dense)             (None, 128)               32896     \n",
            "                                                                 \n",
            " dropout_4 (Dropout)         (None, 128)               0         \n",
            "                                                                 \n",
            " dense_7 (Dense)             (None, 64)                8256      \n",
            "                                                                 \n",
            " dropout_5 (Dropout)         (None, 64)                0         \n",
            "                                                                 \n",
            " dense_8 (Dense)             (None, 10)                650       \n",
            "                                                                 \n",
            "=================================================================\n",
            "Total params: 242,762\n",
            "Trainable params: 242,762\n",
            "Non-trainable params: 0\n",
            "_________________________________________________________________\n"
          ]
        }
      ]
    },
    {
      "cell_type": "code",
      "metadata": {
        "id": "94GWWQt-7eRS",
        "colab": {
          "base_uri": "https://localhost:8080/"
        },
        "outputId": "58653362-4b43-4437-80d3-a59e34357d5e"
      },
      "source": [
        "fcn4.fit(X_train, y_train, epochs = 20 , batch_size =100,\n",
        "         validation_data=(X_test, y_test))"
      ],
      "execution_count": 14,
      "outputs": [
        {
          "output_type": "stream",
          "name": "stdout",
          "text": [
            "Epoch 1/20\n",
            "600/600 [==============================] - 4s 5ms/step - loss: 0.4133 - accuracy: 0.8761 - val_loss: 0.1444 - val_accuracy: 0.9564\n",
            "Epoch 2/20\n",
            "600/600 [==============================] - 3s 5ms/step - loss: 0.1768 - accuracy: 0.9499 - val_loss: 0.1024 - val_accuracy: 0.9675\n",
            "Epoch 3/20\n",
            "600/600 [==============================] - 3s 5ms/step - loss: 0.1320 - accuracy: 0.9624 - val_loss: 0.0924 - val_accuracy: 0.9723\n",
            "Epoch 4/20\n",
            "600/600 [==============================] - 3s 4ms/step - loss: 0.1120 - accuracy: 0.9676 - val_loss: 0.0810 - val_accuracy: 0.9736\n",
            "Epoch 5/20\n",
            "600/600 [==============================] - 3s 4ms/step - loss: 0.0960 - accuracy: 0.9724 - val_loss: 0.0803 - val_accuracy: 0.9766\n",
            "Epoch 6/20\n",
            "600/600 [==============================] - 3s 4ms/step - loss: 0.0819 - accuracy: 0.9758 - val_loss: 0.0706 - val_accuracy: 0.9789\n",
            "Epoch 7/20\n",
            "600/600 [==============================] - 3s 5ms/step - loss: 0.0729 - accuracy: 0.9786 - val_loss: 0.0730 - val_accuracy: 0.9792\n",
            "Epoch 8/20\n",
            "600/600 [==============================] - 3s 5ms/step - loss: 0.0693 - accuracy: 0.9787 - val_loss: 0.0741 - val_accuracy: 0.9797\n",
            "Epoch 9/20\n",
            "600/600 [==============================] - 3s 4ms/step - loss: 0.0616 - accuracy: 0.9818 - val_loss: 0.0650 - val_accuracy: 0.9802\n",
            "Epoch 10/20\n",
            "600/600 [==============================] - 3s 5ms/step - loss: 0.0568 - accuracy: 0.9830 - val_loss: 0.0663 - val_accuracy: 0.9818\n",
            "Epoch 11/20\n",
            "600/600 [==============================] - 3s 5ms/step - loss: 0.0525 - accuracy: 0.9849 - val_loss: 0.0675 - val_accuracy: 0.9814\n",
            "Epoch 12/20\n",
            "600/600 [==============================] - 3s 5ms/step - loss: 0.0519 - accuracy: 0.9840 - val_loss: 0.0708 - val_accuracy: 0.9811\n",
            "Epoch 13/20\n",
            "600/600 [==============================] - 3s 5ms/step - loss: 0.0511 - accuracy: 0.9848 - val_loss: 0.0710 - val_accuracy: 0.9818\n",
            "Epoch 14/20\n",
            "600/600 [==============================] - 3s 5ms/step - loss: 0.0451 - accuracy: 0.9866 - val_loss: 0.0755 - val_accuracy: 0.9801\n",
            "Epoch 15/20\n",
            "600/600 [==============================] - 3s 5ms/step - loss: 0.0411 - accuracy: 0.9874 - val_loss: 0.0778 - val_accuracy: 0.9813\n",
            "Epoch 16/20\n",
            "600/600 [==============================] - 3s 4ms/step - loss: 0.0395 - accuracy: 0.9880 - val_loss: 0.0682 - val_accuracy: 0.9824\n",
            "Epoch 17/20\n",
            "600/600 [==============================] - 3s 4ms/step - loss: 0.0396 - accuracy: 0.9878 - val_loss: 0.0729 - val_accuracy: 0.9818\n",
            "Epoch 18/20\n",
            "600/600 [==============================] - 3s 5ms/step - loss: 0.0385 - accuracy: 0.9880 - val_loss: 0.0761 - val_accuracy: 0.9805\n",
            "Epoch 19/20\n",
            "600/600 [==============================] - 3s 5ms/step - loss: 0.0346 - accuracy: 0.9893 - val_loss: 0.0767 - val_accuracy: 0.9821\n",
            "Epoch 20/20\n",
            "600/600 [==============================] - 3s 5ms/step - loss: 0.0349 - accuracy: 0.9894 - val_loss: 0.0771 - val_accuracy: 0.9820\n"
          ]
        },
        {
          "output_type": "execute_result",
          "data": {
            "text/plain": [
              "<keras.callbacks.History at 0x7fc9482e7510>"
            ]
          },
          "metadata": {},
          "execution_count": 14
        }
      ]
    },
    {
      "cell_type": "code",
      "metadata": {
        "id": "0-7is2U49A6Z",
        "colab": {
          "base_uri": "https://localhost:8080/"
        },
        "outputId": "beab6c17-aa00-4664-f563-49e2deff70ac"
      },
      "source": [
        "fcn4.evaluate(X_test, y_test, batch_size =100)"
      ],
      "execution_count": 15,
      "outputs": [
        {
          "output_type": "stream",
          "name": "stdout",
          "text": [
            "100/100 [==============================] - 0s 3ms/step - loss: 0.0771 - accuracy: 0.9820\n"
          ]
        },
        {
          "output_type": "execute_result",
          "data": {
            "text/plain": [
              "[0.07712894678115845, 0.9819999933242798]"
            ]
          },
          "metadata": {},
          "execution_count": 15
        }
      ]
    },
    {
      "cell_type": "markdown",
      "metadata": {
        "id": "SUJxRQtafihM"
      },
      "source": [
        "## **FCN5**"
      ]
    },
    {
      "cell_type": "code",
      "metadata": {
        "id": "Nl5CyAymAB34"
      },
      "source": [
        "# Set random number seed here!\n",
        "np.random.seed(1234)\n",
        "tf.random.set_seed(1234)\n",
        "\n",
        "fcn5 = tf.keras.models.Sequential([ \n",
        "    tf.keras.layers.Flatten(input_shape=(28, 28)),\n",
        "    tf.keras.layers.Dense(256, activation='relu'), \n",
        "    tf.keras.layers.Dropout(0.25),\n",
        "    tf.keras.layers.Dense(128, activation='relu'),  \n",
        "    tf.keras.layers.Dropout(0.25),\n",
        "    tf.keras.layers.Dense(64, activation='relu'),  \n",
        "    tf.keras.layers.Dropout(0.25),\n",
        "    tf.keras.layers.Dense(32, activation='relu'),  \n",
        "    tf.keras.layers.Dropout(0.25), \n",
        "    tf.keras.layers.Dense(10, activation='softmax')\n",
        "])\n",
        "\n",
        "fcn5.compile(optimizer='adam',\n",
        "              loss='categorical_crossentropy',\n",
        "              metrics=['accuracy']) "
      ],
      "execution_count": 16,
      "outputs": []
    },
    {
      "cell_type": "code",
      "metadata": {
        "id": "gYxuGW_2ANL8",
        "colab": {
          "base_uri": "https://localhost:8080/"
        },
        "outputId": "529e0b83-39d0-4d22-e6ec-394fc2bdb045"
      },
      "source": [
        "fcn5.summary()"
      ],
      "execution_count": 17,
      "outputs": [
        {
          "output_type": "stream",
          "name": "stdout",
          "text": [
            "Model: \"sequential_3\"\n",
            "_________________________________________________________________\n",
            " Layer (type)                Output Shape              Param #   \n",
            "=================================================================\n",
            " flatten_3 (Flatten)         (None, 784)               0         \n",
            "                                                                 \n",
            " dense_9 (Dense)             (None, 256)               200960    \n",
            "                                                                 \n",
            " dropout_6 (Dropout)         (None, 256)               0         \n",
            "                                                                 \n",
            " dense_10 (Dense)            (None, 128)               32896     \n",
            "                                                                 \n",
            " dropout_7 (Dropout)         (None, 128)               0         \n",
            "                                                                 \n",
            " dense_11 (Dense)            (None, 64)                8256      \n",
            "                                                                 \n",
            " dropout_8 (Dropout)         (None, 64)                0         \n",
            "                                                                 \n",
            " dense_12 (Dense)            (None, 32)                2080      \n",
            "                                                                 \n",
            " dropout_9 (Dropout)         (None, 32)                0         \n",
            "                                                                 \n",
            " dense_13 (Dense)            (None, 10)                330       \n",
            "                                                                 \n",
            "=================================================================\n",
            "Total params: 244,522\n",
            "Trainable params: 244,522\n",
            "Non-trainable params: 0\n",
            "_________________________________________________________________\n"
          ]
        }
      ]
    },
    {
      "cell_type": "code",
      "metadata": {
        "id": "lO1of4AOAQlV",
        "colab": {
          "base_uri": "https://localhost:8080/"
        },
        "outputId": "6cd1be09-c3f7-47af-aa78-babdf7cdc35d"
      },
      "source": [
        "fcn5.fit(X_train, y_train, epochs=20, batch_size =100,\n",
        "         validation_data=(X_test, y_test))"
      ],
      "execution_count": 18,
      "outputs": [
        {
          "output_type": "stream",
          "name": "stdout",
          "text": [
            "Epoch 1/20\n",
            "600/600 [==============================] - 4s 5ms/step - loss: 0.5943 - accuracy: 0.8189 - val_loss: 0.1637 - val_accuracy: 0.9516\n",
            "Epoch 2/20\n",
            "600/600 [==============================] - 3s 5ms/step - loss: 0.2312 - accuracy: 0.9408 - val_loss: 0.1165 - val_accuracy: 0.9665\n",
            "Epoch 3/20\n",
            "600/600 [==============================] - 3s 5ms/step - loss: 0.1758 - accuracy: 0.9554 - val_loss: 0.1145 - val_accuracy: 0.9702\n",
            "Epoch 4/20\n",
            "600/600 [==============================] - 3s 5ms/step - loss: 0.1475 - accuracy: 0.9630 - val_loss: 0.0911 - val_accuracy: 0.9750\n",
            "Epoch 5/20\n",
            "600/600 [==============================] - 3s 5ms/step - loss: 0.1269 - accuracy: 0.9675 - val_loss: 0.0953 - val_accuracy: 0.9736\n",
            "Epoch 6/20\n",
            "600/600 [==============================] - 3s 5ms/step - loss: 0.1086 - accuracy: 0.9729 - val_loss: 0.1009 - val_accuracy: 0.9752\n",
            "Epoch 7/20\n",
            "600/600 [==============================] - 3s 5ms/step - loss: 0.1029 - accuracy: 0.9734 - val_loss: 0.0775 - val_accuracy: 0.9789\n",
            "Epoch 8/20\n",
            "600/600 [==============================] - 3s 5ms/step - loss: 0.0884 - accuracy: 0.9761 - val_loss: 0.0887 - val_accuracy: 0.9803\n",
            "Epoch 9/20\n",
            "600/600 [==============================] - 3s 5ms/step - loss: 0.0841 - accuracy: 0.9786 - val_loss: 0.0791 - val_accuracy: 0.9798\n",
            "Epoch 10/20\n",
            "600/600 [==============================] - 3s 5ms/step - loss: 0.0820 - accuracy: 0.9789 - val_loss: 0.0803 - val_accuracy: 0.9805\n",
            "Epoch 11/20\n",
            "600/600 [==============================] - 3s 5ms/step - loss: 0.0735 - accuracy: 0.9815 - val_loss: 0.0814 - val_accuracy: 0.9821\n",
            "Epoch 12/20\n",
            "600/600 [==============================] - 3s 5ms/step - loss: 0.0689 - accuracy: 0.9815 - val_loss: 0.0767 - val_accuracy: 0.9823\n",
            "Epoch 13/20\n",
            "600/600 [==============================] - 3s 5ms/step - loss: 0.0658 - accuracy: 0.9826 - val_loss: 0.0846 - val_accuracy: 0.9806\n",
            "Epoch 14/20\n",
            "600/600 [==============================] - 3s 5ms/step - loss: 0.0611 - accuracy: 0.9840 - val_loss: 0.0902 - val_accuracy: 0.9794\n",
            "Epoch 15/20\n",
            "600/600 [==============================] - 3s 5ms/step - loss: 0.0565 - accuracy: 0.9849 - val_loss: 0.0925 - val_accuracy: 0.9799\n",
            "Epoch 16/20\n",
            "600/600 [==============================] - 3s 5ms/step - loss: 0.0559 - accuracy: 0.9845 - val_loss: 0.0804 - val_accuracy: 0.9820\n",
            "Epoch 17/20\n",
            "600/600 [==============================] - 3s 5ms/step - loss: 0.0530 - accuracy: 0.9853 - val_loss: 0.0837 - val_accuracy: 0.9816\n",
            "Epoch 18/20\n",
            "600/600 [==============================] - 3s 5ms/step - loss: 0.0483 - accuracy: 0.9865 - val_loss: 0.0864 - val_accuracy: 0.9818\n",
            "Epoch 19/20\n",
            "600/600 [==============================] - 3s 5ms/step - loss: 0.0493 - accuracy: 0.9867 - val_loss: 0.0855 - val_accuracy: 0.9819\n",
            "Epoch 20/20\n",
            "600/600 [==============================] - 3s 5ms/step - loss: 0.0517 - accuracy: 0.9865 - val_loss: 0.0882 - val_accuracy: 0.9798\n"
          ]
        },
        {
          "output_type": "execute_result",
          "data": {
            "text/plain": [
              "<keras.callbacks.History at 0x7fc94a195910>"
            ]
          },
          "metadata": {},
          "execution_count": 18
        }
      ]
    },
    {
      "cell_type": "code",
      "metadata": {
        "id": "W-eIxCasDBil",
        "colab": {
          "base_uri": "https://localhost:8080/"
        },
        "outputId": "7483ed56-a2ad-4e4e-ad18-4a7b8ea1a150"
      },
      "source": [
        "fcn5.evaluate(X_test, y_test, batch_size = 100)"
      ],
      "execution_count": 19,
      "outputs": [
        {
          "output_type": "stream",
          "name": "stdout",
          "text": [
            "100/100 [==============================] - 0s 3ms/step - loss: 0.0882 - accuracy: 0.9798\n"
          ]
        },
        {
          "output_type": "execute_result",
          "data": {
            "text/plain": [
              "[0.0882372260093689, 0.9797999858856201]"
            ]
          },
          "metadata": {},
          "execution_count": 19
        }
      ]
    },
    {
      "cell_type": "markdown",
      "metadata": {
        "id": "5XYSVtC-DVsz"
      },
      "source": [
        "# **[DIY] Hidden layer에 따른 정확도**"
      ]
    },
    {
      "cell_type": "code",
      "metadata": {
        "id": "kBqCiGk1SD-B",
        "colab": {
          "base_uri": "https://localhost:8080/"
        },
        "outputId": "2366afd1-9f6b-4c59-d28d-05e1b2dbb113"
      },
      "source": [
        "fcn2.evaluate(X_test, y_test, batch_size = 100)\n",
        "fcn3.evaluate(X_test, y_test, batch_size = 100)\n",
        "fcn4.evaluate(X_test, y_test, batch_size = 100)\n",
        "fcn5.evaluate(X_test, y_test, batch_size = 100)"
      ],
      "execution_count": 20,
      "outputs": [
        {
          "output_type": "stream",
          "name": "stdout",
          "text": [
            "100/100 [==============================] - 0s 3ms/step - loss: 0.0679 - accuracy: 0.9815\n",
            "100/100 [==============================] - 0s 3ms/step - loss: 0.0648 - accuracy: 0.9831\n",
            "100/100 [==============================] - 0s 3ms/step - loss: 0.0771 - accuracy: 0.9820\n",
            "100/100 [==============================] - 0s 3ms/step - loss: 0.0882 - accuracy: 0.9798\n"
          ]
        },
        {
          "output_type": "execute_result",
          "data": {
            "text/plain": [
              "[0.0882372260093689, 0.9797999858856201]"
            ]
          },
          "metadata": {},
          "execution_count": 20
        }
      ]
    },
    {
      "cell_type": "code",
      "metadata": {
        "id": "hPXHL7TTgIMf"
      },
      "source": [
        "fcn_result = [[0.0686, 0.9801], \n",
        " [0.0656, 0.9834], \n",
        " [0.0726, 0.9817], \n",
        " [0.0818, 0.9815]]"
      ],
      "execution_count": 21,
      "outputs": []
    },
    {
      "cell_type": "code",
      "metadata": {
        "id": "1kXd2NWlLmyZ",
        "colab": {
          "base_uri": "https://localhost:8080/"
        },
        "outputId": "4a11588b-b300-48dd-aebe-f0f3ec2d9135"
      },
      "source": [
        "# select accuracies\n",
        "accuracy = [row[1] for row in fcn_result]\n",
        "accuracy"
      ],
      "execution_count": 22,
      "outputs": [
        {
          "output_type": "execute_result",
          "data": {
            "text/plain": [
              "[0.9801, 0.9834, 0.9817, 0.9815]"
            ]
          },
          "metadata": {},
          "execution_count": 22
        }
      ]
    },
    {
      "cell_type": "code",
      "metadata": {
        "id": "vZv6a2aVRw9j",
        "colab": {
          "base_uri": "https://localhost:8080/",
          "height": 265
        },
        "outputId": "e10128bd-42fa-4534-bf69-2dc28c83ba45"
      },
      "source": [
        "x = np.arange(4)\n",
        "fcns = ['FCN2','FCN3','FCN4','FCN5']\n",
        "accuracies = [acc*100 for acc in accuracy] # %\n",
        "\n",
        "plt.bar(x, accuracies)\n",
        "plt.xticks(x, fcns)\n",
        "# plt.ylim((95,100))\n",
        "plt.show()"
      ],
      "execution_count": 23,
      "outputs": [
        {
          "output_type": "display_data",
          "data": {
            "image/png": "[encoded data removed]",
            "text/plain": [
              "<Figure size 432x288 with 1 Axes>"
            ]
          },
          "metadata": {
            "needs_background": "light"
          }
        }
      ]
    },
    {
      "cell_type": "markdown",
      "metadata": {
        "id": "gBPKMI4y3fsa"
      },
      "source": [
        "## 모형의 저장\n",
        "\n",
        "- 트레이닝이 끝난 모형은 save 메서드로 가중치와 함께 hdf5 형식으로 저장\n",
        "- load 명령으로 불러 사용"
      ]
    },
    {
      "cell_type": "code",
      "metadata": {
        "id": "KCfbQl2v3fsa"
      },
      "source": [
        "fcn3.save('fcn3_best.hdf5')"
      ],
      "execution_count": 24,
      "outputs": []
    },
    {
      "cell_type": "code",
      "metadata": {
        "id": "b7-ysIVy3fse",
        "colab": {
          "base_uri": "https://localhost:8080/"
        },
        "outputId": "0c23c956-070d-48cf-b343-7052095df700"
      },
      "source": [
        "from keras.models import load_model\n",
        "\n",
        "model = load_model('fcn3_best.hdf5')\n",
        "model.evaluate(X_test, y_test, batch_size=100)"
      ],
      "execution_count": 25,
      "outputs": [
        {
          "output_type": "stream",
          "name": "stdout",
          "text": [
            "100/100 [==============================] - 0s 3ms/step - loss: 0.0648 - accuracy: 0.9831\n"
          ]
        },
        {
          "output_type": "execute_result",
          "data": {
            "text/plain": [
              "[0.06475277990102768, 0.9830999970436096]"
            ]
          },
          "metadata": {},
          "execution_count": 25
        }
      ]
    },
    {
      "cell_type": "markdown",
      "metadata": {
        "id": "o6YQKW13EBhB"
      },
      "source": [
        "---"
      ]
    }
  ]
}