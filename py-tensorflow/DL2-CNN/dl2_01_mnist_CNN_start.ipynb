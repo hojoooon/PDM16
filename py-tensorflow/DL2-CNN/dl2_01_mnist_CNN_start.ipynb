{
  "nbformat": 4,
  "nbformat_minor": 0,
  "metadata": {
    "accelerator": "GPU",
    "colab": {
      "name": "dl2-01-mnist-CNN-start.ipynb",
      "provenance": [],
      "collapsed_sections": [],
      "include_colab_link": true
    },
    "interpreter": {
      "hash": "3834ce636a3ba6c6c2bd8b9b527c48eede78c367f849f6cce666ea7f1d26e2fb"
    },
    "kernelspec": {
      "display_name": "Python 3.8.5 64-bit ('base': conda)",
      "name": "python3"
    },
    "language_info": {
      "codemirror_mode": {
        "name": "ipython",
        "version": 3
      },
      "file_extension": ".py",
      "mimetype": "text/x-python",
      "name": "python",
      "nbconvert_exporter": "python",
      "pygments_lexer": "ipython3",
      "version": "3.8.5"
    }
  },
  "cells": [
    {
      "cell_type": "markdown",
      "metadata": {
        "id": "view-in-github",
        "colab_type": "text"
      },
      "source": [
        "<a href=\"https://colab.research.google.com/github/hojoooon/PDM16/blob/main/py-tensorflow/DL2-CNN/dl2_01_mnist_CNN_start.ipynb\" target=\"_parent\"><img src=\"https://colab.research.google.com/assets/colab-badge.svg\" alt=\"Open In Colab\"/></a>"
      ]
    },
    {
      "cell_type": "markdown",
      "metadata": {
        "id": "rswfCVLZ-QW0"
      },
      "source": [
        "# **CNN model of mnist dataset**\n",
        "- Conv2D + FCN\n",
        "    * Conv2D : 2차원 합성곱 필터링 + 풀링(Pooling)\n",
        "    - > 2차원 필터로 영상을 대표하는 특징을 추출\n",
        "    * FCN : 1차원 완전연결신경망\n",
        "    - > Conv2D에서 추출된 대표 특징들을 이용하여 FCN으로 최종 학습 완료\n",
        "\n",
        "***\n",
        "\n",
        "![mnist_NN_2_layers](https://img1.daumcdn.net/thumb/R1280x0/?scode=mtistory2&fname=https%3A%2F%2Fblog.kakaocdn.net%2Fdn%2FdJp5Z6%2FbtqAPebnF3x%2FQCe5vVcskhmxe964bGz4iK%2Fimg.png)\n",
        "\n",
        "(source: https://img1.daumcdn.net/thumb/R1280x0/?scode=mtistory2&fname=https%3A%2F%2Fblog.kakaocdn.net%2Fdn%2FdJp5Z6%2FbtqAPebnF3x%2FQCe5vVcskhmxe964bGz4iK%2Fimg.png)"
      ]
    },
    {
      "cell_type": "code",
      "metadata": {
        "id": "8GgGzPXPVyfa",
        "colab": {
          "base_uri": "https://localhost:8080/"
        },
        "outputId": "4691597d-6a44-4a54-90c5-7cc4cd79cdf8"
      },
      "source": [
        "import numpy as np\n",
        "import tensorflow as tf\n",
        "from tensorflow import keras\n",
        "import pandas as pd\n",
        "import matplotlib.pyplot as plt\n",
        "# %matplotlib inline\n",
        "\n",
        "print(tf.__version__)"
      ],
      "execution_count": 1,
      "outputs": [
        {
          "output_type": "stream",
          "name": "stdout",
          "text": [
            "2.7.0\n"
          ]
        }
      ]
    },
    {
      "cell_type": "markdown",
      "metadata": {
        "id": "-0IOOUM14Jk1"
      },
      "source": [
        "## **데이터 로딩, 정규화**"
      ]
    },
    {
      "cell_type": "code",
      "metadata": {
        "id": "N1ogJ7I64Fz-",
        "colab": {
          "base_uri": "https://localhost:8080/"
        },
        "outputId": "945223e1-3af9-497a-c594-ebe2270aa5d5"
      },
      "source": [
        "from keras.datasets import mnist\n",
        "\n",
        "(X_train0, y_train0), (X_test0, y_test0) = mnist.load_data()\n",
        "\n",
        "# Reshape\n",
        "X_train = X_train0.reshape(60000,28,28,1)\n",
        "X_test = X_test0.reshape(10000,28,28,1)\n",
        "\n",
        "# Normalization\n",
        "X_train, X_test = X_train/255.0, X_test/255.0 # 정규화\n",
        "\n",
        "print(\"X_train={0}\".format(X_train.shape))\n",
        "print(\"y_train={0}\".format(y_train0.shape)) \n",
        "print(\"X_test={0}\".format(X_test.shape))\n",
        "print(\"y_test={0}\".format(y_test0.shape))"
      ],
      "execution_count": 2,
      "outputs": [
        {
          "output_type": "stream",
          "name": "stdout",
          "text": [
            "Downloading data from https://storage.googleapis.com/tensorflow/tf-keras-datasets/mnist.npz\n",
            "11493376/11490434 [==============================] - 0s 0us/step\n",
            "11501568/11490434 [==============================] - 0s 0us/step\n",
            "X_train=(60000, 28, 28, 1)\n",
            "y_train=(60000,)\n",
            "X_test=(10000, 28, 28, 1)\n",
            "y_test=(10000,)\n"
          ]
        }
      ]
    },
    {
      "cell_type": "code",
      "metadata": {
        "id": "F46-QZqJHiQ6",
        "colab": {
          "base_uri": "https://localhost:8080/"
        },
        "outputId": "f01cd1fc-9f4c-4d56-c236-989c079d99a9"
      },
      "source": [
        "# One-Hot-Encoding\n",
        "# Use function to_categorical() to do One-Hot-Encoding\n",
        "# tf.keras.utils.to_categorical\n",
        "from tensorflow.keras.utils import to_categorical\n",
        "\n",
        "y_train = to_categorical(y_train0, 10)\n",
        "y_test = to_categorical(y_test0, 10)\n",
        "y_train.shape,y_test.shape"
      ],
      "execution_count": 3,
      "outputs": [
        {
          "output_type": "execute_result",
          "data": {
            "text/plain": [
              "((60000, 10), (10000, 10))"
            ]
          },
          "metadata": {},
          "execution_count": 3
        }
      ]
    },
    {
      "cell_type": "markdown",
      "metadata": {
        "id": "5z7SozStigmF"
      },
      "source": [
        "### Display numbers\n",
        "- 10 representative numbers"
      ]
    },
    {
      "cell_type": "code",
      "metadata": {
        "id": "IK7XT3XoirSL",
        "colab": {
          "base_uri": "https://localhost:8080/",
          "height": 498
        },
        "outputId": "cbacafca-af45-4a57-8da6-377b1d3a8148"
      },
      "source": [
        "class_names = [\"0\",\"1\",\"2\",\"3\",\"4\",\"5\",\"6\",\"7\",\"8\",\"9\"]\n",
        "fig = plt.figure(figsize=(10,6))\n",
        "for i in range(10):\n",
        "    plt.subplot(2, 5, i+1)\n",
        "    num0_9 = X_train0[y_train0 == i]\n",
        "    print(num0_9.shape)\n",
        "    plt.imshow(num0_9[0]) #, cmap='gray') #, interpolation='none')\n",
        "    plt.title(\"Class - %d\" % (i))\n",
        "    plt.xticks([])\n",
        "    plt.yticks([])\n",
        "\n",
        "\n"
      ],
      "execution_count": 4,
      "outputs": [
        {
          "output_type": "stream",
          "name": "stdout",
          "text": [
            "(5923, 28, 28)\n",
            "(6742, 28, 28)\n",
            "(5958, 28, 28)\n",
            "(6131, 28, 28)\n",
            "(5842, 28, 28)\n",
            "(5421, 28, 28)\n",
            "(5918, 28, 28)\n",
            "(6265, 28, 28)\n",
            "(5851, 28, 28)\n",
            "(5949, 28, 28)\n"
          ]
        },
        {
          "output_type": "display_data",
          "data": {
            "image/png": "[encoded data removed]",
            "text/plain": [
              "<Figure size 720x432 with 10 Axes>"
            ]
          },
          "metadata": {}
        }
      ]
    },
    {
      "cell_type": "markdown",
      "metadata": {
        "id": "55DYVfFXi0WR"
      },
      "source": [
        "# Design CNN"
      ]
    },
    {
      "cell_type": "markdown",
      "metadata": {
        "id": "iPcLIcUCcsiG"
      },
      "source": [
        "### import Conv2D, MaxPool2D"
      ]
    },
    {
      "cell_type": "code",
      "metadata": {
        "id": "NzqMC4Xtc3ZE"
      },
      "source": [
        "from keras.layers import Conv2D, MaxPool2D, Flatten"
      ],
      "execution_count": 5,
      "outputs": []
    },
    {
      "cell_type": "markdown",
      "metadata": {
        "id": "pkaGYiPY4L4J"
      },
      "source": [
        "## **CNN1 + FCN2**\n",
        "- CNN1: Conv2D + MaxPooling2D\n",
        "- FCN2: Dense(128) + Output(10) "
      ]
    },
    {
      "cell_type": "code",
      "metadata": {
        "id": "geFXhA13rRTr"
      },
      "source": [
        "# Random number seed\n",
        "np.random.seed(1234)\n",
        "tf.random.set_seed(1234)"
      ],
      "execution_count": 6,
      "outputs": []
    },
    {
      "cell_type": "code",
      "metadata": {
        "id": "-LL0E4UX4Nj-"
      },
      "source": [
        "c1f2 = keras.models.Sequential([ \n",
        "    Conv2D(input_shape=(28,28,1), filters= 32,  # 컬러까지 출력하기 위해 input_shape가 3임 32개의 뉴런\n",
        "            kernel_size=(3,3),strides=(1,1),padding='same',activation='relu'),  # strides는 컨벌루션 3,3 이 한칸씩 이동한다는뜻\n",
        "    MaxPool2D(pool_size=(2,2), strides=(2,2)), # 컨벌루션된 값 4개중 가장 큰값 선택 2,2는 중복을 안함 그래서 strides가 2,2\n",
        "    Flatten(), # 이 줄이 없을 경우 c1f2.fit에 오류 발생 4번째 아래\n",
        "    keras.layers.Dense(128, activation='relu'),  #128개의 뉴런\n",
        "    keras.layers.Dropout(0.25), #25퍼센트를 빼버리고 출력 레이어로 보냄\n",
        "    keras.layers.Dense(10, activation='softmax')\n",
        "])\n",
        "\n",
        "c1f2.compile(optimizer='adam',  \n",
        "              loss='categorical_crossentropy',\n",
        "              metrics=['accuracy']) "
      ],
      "execution_count": 7,
      "outputs": []
    },
    {
      "cell_type": "code",
      "metadata": {
        "id": "3r9oCDEN4UGu",
        "colab": {
          "base_uri": "https://localhost:8080/"
        },
        "outputId": "d6401e5f-be4f-4621-b2fb-9a7725018778"
      },
      "source": [
        "c1f2.summary()"
      ],
      "execution_count": 8,
      "outputs": [
        {
          "output_type": "stream",
          "name": "stdout",
          "text": [
            "Model: \"sequential\"\n",
            "_________________________________________________________________\n",
            " Layer (type)                Output Shape              Param #   \n",
            "=================================================================\n",
            " conv2d (Conv2D)             (None, 28, 28, 32)        320       \n",
            "                                                                 \n",
            " max_pooling2d (MaxPooling2D  (None, 14, 14, 32)       0         \n",
            " )                                                               \n",
            "                                                                 \n",
            " flatten (Flatten)           (None, 6272)              0         \n",
            "                                                                 \n",
            " dense (Dense)               (None, 128)               802944    \n",
            "                                                                 \n",
            " dropout (Dropout)           (None, 128)               0         \n",
            "                                                                 \n",
            " dense_1 (Dense)             (None, 10)                1290      \n",
            "                                                                 \n",
            "=================================================================\n",
            "Total params: 804,554\n",
            "Trainable params: 804,554\n",
            "Non-trainable params: 0\n",
            "_________________________________________________________________\n"
          ]
        }
      ]
    },
    {
      "cell_type": "code",
      "metadata": {
        "colab": {
          "base_uri": "https://localhost:8080/"
        },
        "id": "g2jpQ7feI078",
        "outputId": "8ab141d2-4499-44b8-9098-94e1f9c52c6b"
      },
      "source": [
        "3*3*32+32   # conv2d_1이 320인 이유\n",
        "            # 3,3필터가 32개의 뉴런 + 32개의 바이어스"
      ],
      "execution_count": 9,
      "outputs": [
        {
          "output_type": "execute_result",
          "data": {
            "text/plain": [
              "320"
            ]
          },
          "metadata": {},
          "execution_count": 9
        }
      ]
    },
    {
      "cell_type": "code",
      "metadata": {
        "id": "adOv9IzurRTt",
        "colab": {
          "base_uri": "https://localhost:8080/",
          "height": 754
        },
        "outputId": "6071d483-d122-4349-9308-da01ed4b0ac6"
      },
      "source": [
        "# Plot model\n",
        "from tensorflow.keras.utils import plot_model\n",
        "plot_model(c1f2, show_shapes=True, show_layer_names=True, to_file='model_c1f2.png')"
      ],
      "execution_count": 10,
      "outputs": [
        {
          "output_type": "execute_result",
          "data": {
            "image/png": "[encoded data removed]",
            "text/plain": [
              "<IPython.core.display.Image object>"
            ]
          },
          "metadata": {},
          "execution_count": 10
        }
      ]
    },
    {
      "cell_type": "code",
      "metadata": {
        "id": "E5P-W0384WCv",
        "colab": {
          "base_uri": "https://localhost:8080/"
        },
        "outputId": "1c014ade-e3a7-4a78-c887-e7ced8c0c31c"
      },
      "source": [
        "c1f2.fit(X_train, y_train, epochs = 20,  batch_size = 100, \n",
        "            validation_data = (X_test, y_test)) # ValueError: Shapes (100, 10) and (100, 14, 14, 10) are incompatible\n",
        "#"
      ],
      "execution_count": 11,
      "outputs": [
        {
          "output_type": "stream",
          "name": "stdout",
          "text": [
            "Epoch 1/20\n",
            "600/600 [==============================] - 18s 8ms/step - loss: 0.2419 - accuracy: 0.9289 - val_loss: 0.0769 - val_accuracy: 0.9758\n",
            "Epoch 2/20\n",
            "600/600 [==============================] - 4s 7ms/step - loss: 0.0818 - accuracy: 0.9761 - val_loss: 0.0557 - val_accuracy: 0.9814\n",
            "Epoch 3/20\n",
            "600/600 [==============================] - 4s 7ms/step - loss: 0.0576 - accuracy: 0.9826 - val_loss: 0.0445 - val_accuracy: 0.9848\n",
            "Epoch 4/20\n",
            "600/600 [==============================] - 4s 7ms/step - loss: 0.0460 - accuracy: 0.9862 - val_loss: 0.0390 - val_accuracy: 0.9863\n",
            "Epoch 5/20\n",
            "600/600 [==============================] - 4s 7ms/step - loss: 0.0368 - accuracy: 0.9887 - val_loss: 0.0410 - val_accuracy: 0.9862\n",
            "Epoch 6/20\n",
            "600/600 [==============================] - 4s 7ms/step - loss: 0.0301 - accuracy: 0.9904 - val_loss: 0.0374 - val_accuracy: 0.9878\n",
            "Epoch 7/20\n",
            "600/600 [==============================] - 5s 8ms/step - loss: 0.0257 - accuracy: 0.9923 - val_loss: 0.0352 - val_accuracy: 0.9879\n",
            "Epoch 8/20\n",
            "600/600 [==============================] - 4s 7ms/step - loss: 0.0224 - accuracy: 0.9927 - val_loss: 0.0378 - val_accuracy: 0.9877\n",
            "Epoch 9/20\n",
            "600/600 [==============================] - 4s 7ms/step - loss: 0.0184 - accuracy: 0.9943 - val_loss: 0.0392 - val_accuracy: 0.9876\n",
            "Epoch 10/20\n",
            "600/600 [==============================] - 4s 7ms/step - loss: 0.0155 - accuracy: 0.9948 - val_loss: 0.0409 - val_accuracy: 0.9872\n",
            "Epoch 11/20\n",
            "600/600 [==============================] - 4s 7ms/step - loss: 0.0149 - accuracy: 0.9951 - val_loss: 0.0409 - val_accuracy: 0.9884\n",
            "Epoch 12/20\n",
            "600/600 [==============================] - 5s 8ms/step - loss: 0.0133 - accuracy: 0.9955 - val_loss: 0.0397 - val_accuracy: 0.9891\n",
            "Epoch 13/20\n",
            "600/600 [==============================] - 4s 7ms/step - loss: 0.0122 - accuracy: 0.9959 - val_loss: 0.0377 - val_accuracy: 0.9881\n",
            "Epoch 14/20\n",
            "600/600 [==============================] - 5s 8ms/step - loss: 0.0088 - accuracy: 0.9969 - val_loss: 0.0444 - val_accuracy: 0.9877\n",
            "Epoch 15/20\n",
            "600/600 [==============================] - 5s 8ms/step - loss: 0.0090 - accuracy: 0.9970 - val_loss: 0.0451 - val_accuracy: 0.9877\n",
            "Epoch 16/20\n",
            "600/600 [==============================] - 4s 7ms/step - loss: 0.0086 - accuracy: 0.9971 - val_loss: 0.0483 - val_accuracy: 0.9863\n",
            "Epoch 17/20\n",
            "600/600 [==============================] - 4s 7ms/step - loss: 0.0086 - accuracy: 0.9970 - val_loss: 0.0458 - val_accuracy: 0.9887\n",
            "Epoch 18/20\n",
            "600/600 [==============================] - 4s 7ms/step - loss: 0.0080 - accuracy: 0.9972 - val_loss: 0.0433 - val_accuracy: 0.9894\n",
            "Epoch 19/20\n",
            "600/600 [==============================] - 4s 7ms/step - loss: 0.0062 - accuracy: 0.9980 - val_loss: 0.0438 - val_accuracy: 0.9898\n",
            "Epoch 20/20\n",
            "600/600 [==============================] - 5s 8ms/step - loss: 0.0073 - accuracy: 0.9974 - val_loss: 0.0454 - val_accuracy: 0.9885\n"
          ]
        },
        {
          "output_type": "execute_result",
          "data": {
            "text/plain": [
              "<keras.callbacks.History at 0x7f19f0099e90>"
            ]
          },
          "metadata": {},
          "execution_count": 11
        }
      ]
    },
    {
      "cell_type": "code",
      "metadata": {
        "id": "JTLIG-8Y4guU",
        "colab": {
          "base_uri": "https://localhost:8080/"
        },
        "outputId": "acf8dee6-fc9d-4238-968a-a36e9b814cdc"
      },
      "source": [
        "c1f2.evaluate(X_test, y_test, batch_size = 100)"
      ],
      "execution_count": 12,
      "outputs": [
        {
          "output_type": "stream",
          "name": "stdout",
          "text": [
            "100/100 [==============================] - 0s 4ms/step - loss: 0.0454 - accuracy: 0.9885\n"
          ]
        },
        {
          "output_type": "execute_result",
          "data": {
            "text/plain": [
              "[0.04540741443634033, 0.9884999990463257]"
            ]
          },
          "metadata": {},
          "execution_count": 12
        }
      ]
    },
    {
      "cell_type": "markdown",
      "metadata": {
        "id": "eFI1qi7DhNfL"
      },
      "source": [
        "---"
      ]
    },
    {
      "cell_type": "markdown",
      "metadata": {
        "id": "zYsilPV-d68h"
      },
      "source": [
        "## **CNN1 + FCN3**"
      ]
    },
    {
      "cell_type": "code",
      "metadata": {
        "id": "8XsCNJuVrRTu"
      },
      "source": [
        "# Random number seed\n",
        "np.random.seed(1234)\n",
        "tf.random.set_seed(1234)"
      ],
      "execution_count": 13,
      "outputs": []
    },
    {
      "cell_type": "code",
      "metadata": {
        "id": "ru3C9Fdb5MJ9"
      },
      "source": [
        "c1f3 = tf.keras.models.Sequential([\n",
        "    Conv2D(input_shape=(28,28,1), filters= 32,  # 컬러까지 출력하기 위해 input_shape가 3임  32개의 뉴런\n",
        "            kernel_size=(3,3),strides=(1,1),padding='same',activation='relu'),  # strides는 컨벌루션 3,3 이 한칸씩 이동한다는뜻\n",
        "    MaxPool2D(pool_size=(2,2), strides=(2,2)), # 컨벌루션된 값 4개중 가장 큰값 선택 2,2는 중복을 안함 그래서 strides가 2,2\n",
        "    Flatten(), \n",
        "    tf.keras.layers.Dense(256, activation='relu'),  #fcn1\n",
        "    tf.keras.layers.Dropout(0.25),\n",
        "    tf.keras.layers.Dense(128, activation='relu'),  #fcn2\n",
        "    tf.keras.layers.Dropout(0.25), \n",
        "    tf.keras.layers.Dense(10, activation='softmax') #fcn 3개로 구성\n",
        "])\n",
        "\n",
        "c1f3.compile(optimizer='adam',\n",
        "              loss='categorical_crossentropy',\n",
        "              metrics=['accuracy']) "
      ],
      "execution_count": 14,
      "outputs": []
    },
    {
      "cell_type": "code",
      "metadata": {
        "id": "WUKcSnnc5XcD",
        "colab": {
          "base_uri": "https://localhost:8080/"
        },
        "outputId": "eb599a2f-38aa-44e1-b4c0-ece2956bfb2a"
      },
      "source": [
        "c1f3.summary()"
      ],
      "execution_count": 15,
      "outputs": [
        {
          "output_type": "stream",
          "name": "stdout",
          "text": [
            "Model: \"sequential_1\"\n",
            "_________________________________________________________________\n",
            " Layer (type)                Output Shape              Param #   \n",
            "=================================================================\n",
            " conv2d_1 (Conv2D)           (None, 28, 28, 32)        320       \n",
            "                                                                 \n",
            " max_pooling2d_1 (MaxPooling  (None, 14, 14, 32)       0         \n",
            " 2D)                                                             \n",
            "                                                                 \n",
            " flatten_1 (Flatten)         (None, 6272)              0         \n",
            "                                                                 \n",
            " dense_2 (Dense)             (None, 256)               1605888   \n",
            "                                                                 \n",
            " dropout_1 (Dropout)         (None, 256)               0         \n",
            "                                                                 \n",
            " dense_3 (Dense)             (None, 128)               32896     \n",
            "                                                                 \n",
            " dropout_2 (Dropout)         (None, 128)               0         \n",
            "                                                                 \n",
            " dense_4 (Dense)             (None, 10)                1290      \n",
            "                                                                 \n",
            "=================================================================\n",
            "Total params: 1,640,394\n",
            "Trainable params: 1,640,394\n",
            "Non-trainable params: 0\n",
            "_________________________________________________________________\n"
          ]
        }
      ]
    },
    {
      "cell_type": "code",
      "metadata": {
        "id": "WHnUbwan5Zq7",
        "colab": {
          "base_uri": "https://localhost:8080/"
        },
        "outputId": "162ea961-9611-4a7f-c456-29f6a96a7b91"
      },
      "source": [
        "c1f3.fit(X_train,y_train, epochs= 20 , batch_size = 100) #훈련시킴"
      ],
      "execution_count": 16,
      "outputs": [
        {
          "output_type": "stream",
          "name": "stdout",
          "text": [
            "Epoch 1/20\n",
            "600/600 [==============================] - 6s 9ms/step - loss: 0.2414 - accuracy: 0.9268\n",
            "Epoch 2/20\n",
            "600/600 [==============================] - 5s 8ms/step - loss: 0.0747 - accuracy: 0.9771\n",
            "Epoch 3/20\n",
            "600/600 [==============================] - 5s 8ms/step - loss: 0.0522 - accuracy: 0.9839\n",
            "Epoch 4/20\n",
            "600/600 [==============================] - 5s 8ms/step - loss: 0.0374 - accuracy: 0.9880\n",
            "Epoch 5/20\n",
            "600/600 [==============================] - 5s 8ms/step - loss: 0.0285 - accuracy: 0.9911\n",
            "Epoch 6/20\n",
            "600/600 [==============================] - 5s 8ms/step - loss: 0.0227 - accuracy: 0.9930\n",
            "Epoch 7/20\n",
            "600/600 [==============================] - 5s 8ms/step - loss: 0.0204 - accuracy: 0.9933\n",
            "Epoch 8/20\n",
            "600/600 [==============================] - 5s 8ms/step - loss: 0.0180 - accuracy: 0.9940\n",
            "Epoch 9/20\n",
            "600/600 [==============================] - 5s 8ms/step - loss: 0.0151 - accuracy: 0.9950\n",
            "Epoch 10/20\n",
            "600/600 [==============================] - 5s 8ms/step - loss: 0.0132 - accuracy: 0.9957\n",
            "Epoch 11/20\n",
            "600/600 [==============================] - 5s 8ms/step - loss: 0.0117 - accuracy: 0.9962\n",
            "Epoch 12/20\n",
            "600/600 [==============================] - 5s 8ms/step - loss: 0.0112 - accuracy: 0.9965\n",
            "Epoch 13/20\n",
            "600/600 [==============================] - 5s 8ms/step - loss: 0.0106 - accuracy: 0.9965\n",
            "Epoch 14/20\n",
            "600/600 [==============================] - 5s 8ms/step - loss: 0.0090 - accuracy: 0.9973\n",
            "Epoch 15/20\n",
            "600/600 [==============================] - 5s 8ms/step - loss: 0.0083 - accuracy: 0.9973\n",
            "Epoch 16/20\n",
            "600/600 [==============================] - 5s 8ms/step - loss: 0.0079 - accuracy: 0.9973\n",
            "Epoch 17/20\n",
            "600/600 [==============================] - 5s 8ms/step - loss: 0.0074 - accuracy: 0.9976\n",
            "Epoch 18/20\n",
            "600/600 [==============================] - 5s 8ms/step - loss: 0.0068 - accuracy: 0.9977\n",
            "Epoch 19/20\n",
            "600/600 [==============================] - 5s 8ms/step - loss: 0.0059 - accuracy: 0.9982\n",
            "Epoch 20/20\n",
            "600/600 [==============================] - 5s 8ms/step - loss: 0.0067 - accuracy: 0.9977\n"
          ]
        },
        {
          "output_type": "execute_result",
          "data": {
            "text/plain": [
              "<keras.callbacks.History at 0x7f19778ccb50>"
            ]
          },
          "metadata": {},
          "execution_count": 16
        }
      ]
    },
    {
      "cell_type": "code",
      "metadata": {
        "id": "kTaGJMFG7FbH",
        "colab": {
          "base_uri": "https://localhost:8080/"
        },
        "outputId": "0be24cf0-f7bd-4f1e-836e-cef931e6631c"
      },
      "source": [
        "c1f3.evaluate(X_test, y_test, batch_size= 100)"
      ],
      "execution_count": 17,
      "outputs": [
        {
          "output_type": "stream",
          "name": "stdout",
          "text": [
            "100/100 [==============================] - 1s 4ms/step - loss: 0.0511 - accuracy: 0.9904\n"
          ]
        },
        {
          "output_type": "execute_result",
          "data": {
            "text/plain": [
              "[0.05110777169466019, 0.9904000163078308]"
            ]
          },
          "metadata": {},
          "execution_count": 17
        }
      ]
    },
    {
      "cell_type": "markdown",
      "metadata": {
        "id": "7Z6DJJUCei-s"
      },
      "source": [
        "## **CNN2 + FCN2**"
      ]
    },
    {
      "cell_type": "code",
      "metadata": {
        "id": "t1Xx45zNrRTv"
      },
      "source": [
        "# Random number seed\n",
        "np.random.seed(1234)\n",
        "tf.random.set_seed(1234)"
      ],
      "execution_count": 18,
      "outputs": []
    },
    {
      "cell_type": "code",
      "metadata": {
        "id": "pV3NFglM7P65"
      },
      "source": [
        "c2f2 = tf.keras.models.Sequential([ \n",
        "    Conv2D(input_shape=(28,28,1), filters= 64,  # 컬러까지 출력하기 위해 input_shape가 3임  32개의 뉴런\n",
        "            kernel_size=(3,3),strides=(1,1),padding='same',activation='relu'),  # strides는 컨벌루션 3,3 이 한칸씩 이동한다는뜻\n",
        "    MaxPool2D(pool_size=(2,2), strides=(2,2)),\n",
        "    Conv2D(filters= 32,  # 2번째 Conv2D 두번째는 input_shape가 필요없음\n",
        "            kernel_size=(3,3),strides=(1,1),padding='same',activation='relu'),\n",
        "    MaxPool2D(pool_size=(2,2), strides=(2,2)), # 컨벌루션된 값 4개중 가장 큰값 선택 2,2는 중복을 안함 그래서 strides가 2,2\n",
        "    Flatten(), \n",
        "    tf.keras.layers.Dense(128, activation='relu'),  \n",
        "    tf.keras.layers.Dropout(0.25),\n",
        "    tf.keras.layers.Dense(10, activation='softmax')\n",
        "])\n",
        "\n",
        "c2f2.compile(optimizer='adam',\n",
        "              loss='categorical_crossentropy',\n",
        "              metrics=['accuracy']) "
      ],
      "execution_count": 19,
      "outputs": []
    },
    {
      "cell_type": "code",
      "metadata": {
        "id": "OGtCiKy57YkR",
        "colab": {
          "base_uri": "https://localhost:8080/"
        },
        "outputId": "a03ac410-6704-49bf-bf3b-c07c7b345a13"
      },
      "source": [
        "c2f2.summary()"
      ],
      "execution_count": 20,
      "outputs": [
        {
          "output_type": "stream",
          "name": "stdout",
          "text": [
            "Model: \"sequential_2\"\n",
            "_________________________________________________________________\n",
            " Layer (type)                Output Shape              Param #   \n",
            "=================================================================\n",
            " conv2d_2 (Conv2D)           (None, 28, 28, 64)        640       \n",
            "                                                                 \n",
            " max_pooling2d_2 (MaxPooling  (None, 14, 14, 64)       0         \n",
            " 2D)                                                             \n",
            "                                                                 \n",
            " conv2d_3 (Conv2D)           (None, 14, 14, 32)        18464     \n",
            "                                                                 \n",
            " max_pooling2d_3 (MaxPooling  (None, 7, 7, 32)         0         \n",
            " 2D)                                                             \n",
            "                                                                 \n",
            " flatten_2 (Flatten)         (None, 1568)              0         \n",
            "                                                                 \n",
            " dense_5 (Dense)             (None, 128)               200832    \n",
            "                                                                 \n",
            " dropout_3 (Dropout)         (None, 128)               0         \n",
            "                                                                 \n",
            " dense_6 (Dense)             (None, 10)                1290      \n",
            "                                                                 \n",
            "=================================================================\n",
            "Total params: 221,226\n",
            "Trainable params: 221,226\n",
            "Non-trainable params: 0\n",
            "_________________________________________________________________\n"
          ]
        }
      ]
    },
    {
      "cell_type": "code",
      "metadata": {
        "id": "94GWWQt-7eRS",
        "colab": {
          "base_uri": "https://localhost:8080/"
        },
        "outputId": "edffff70-abc9-48ff-8ecf-8b786f7a7759"
      },
      "source": [
        "c2f2.fit(X_train, y_train, epochs = 20 , batch_size = 100)  #train에 대한 accuracy라 별로 중요하지않음\n",
        "                                                            #네트워크 상황에 따라 어떻게 작동하는지 확인을 위해 실행"
      ],
      "execution_count": 21,
      "outputs": [
        {
          "output_type": "stream",
          "name": "stdout",
          "text": [
            "Epoch 1/20\n",
            "600/600 [==============================] - 6s 9ms/step - loss: 0.2203 - accuracy: 0.9329\n",
            "Epoch 2/20\n",
            "600/600 [==============================] - 5s 9ms/step - loss: 0.0664 - accuracy: 0.9799\n",
            "Epoch 3/20\n",
            "600/600 [==============================] - 5s 9ms/step - loss: 0.0461 - accuracy: 0.9857\n",
            "Epoch 4/20\n",
            "600/600 [==============================] - 5s 9ms/step - loss: 0.0368 - accuracy: 0.9883\n",
            "Epoch 5/20\n",
            "600/600 [==============================] - 5s 9ms/step - loss: 0.0303 - accuracy: 0.9900\n",
            "Epoch 6/20\n",
            "600/600 [==============================] - 5s 9ms/step - loss: 0.0253 - accuracy: 0.9920\n",
            "Epoch 7/20\n",
            "600/600 [==============================] - 5s 9ms/step - loss: 0.0236 - accuracy: 0.9923\n",
            "Epoch 8/20\n",
            "600/600 [==============================] - 5s 9ms/step - loss: 0.0180 - accuracy: 0.9940\n",
            "Epoch 9/20\n",
            "600/600 [==============================] - 5s 9ms/step - loss: 0.0163 - accuracy: 0.9946\n",
            "Epoch 10/20\n",
            "600/600 [==============================] - 5s 9ms/step - loss: 0.0147 - accuracy: 0.9953\n",
            "Epoch 11/20\n",
            "600/600 [==============================] - 5s 9ms/step - loss: 0.0134 - accuracy: 0.9956\n",
            "Epoch 12/20\n",
            "600/600 [==============================] - 5s 9ms/step - loss: 0.0112 - accuracy: 0.9965\n",
            "Epoch 13/20\n",
            "600/600 [==============================] - 5s 9ms/step - loss: 0.0108 - accuracy: 0.9963\n",
            "Epoch 14/20\n",
            "600/600 [==============================] - 5s 9ms/step - loss: 0.0102 - accuracy: 0.9964\n",
            "Epoch 15/20\n",
            "600/600 [==============================] - 5s 9ms/step - loss: 0.0096 - accuracy: 0.9966\n",
            "Epoch 16/20\n",
            "600/600 [==============================] - 5s 9ms/step - loss: 0.0083 - accuracy: 0.9971\n",
            "Epoch 17/20\n",
            "600/600 [==============================] - 5s 9ms/step - loss: 0.0081 - accuracy: 0.9972\n",
            "Epoch 18/20\n",
            "600/600 [==============================] - 5s 9ms/step - loss: 0.0077 - accuracy: 0.9972\n",
            "Epoch 19/20\n",
            "600/600 [==============================] - 5s 9ms/step - loss: 0.0064 - accuracy: 0.9981\n",
            "Epoch 20/20\n",
            "600/600 [==============================] - 5s 9ms/step - loss: 0.0086 - accuracy: 0.9970\n"
          ]
        },
        {
          "output_type": "execute_result",
          "data": {
            "text/plain": [
              "<keras.callbacks.History at 0x7f1978244c50>"
            ]
          },
          "metadata": {},
          "execution_count": 21
        }
      ]
    },
    {
      "cell_type": "code",
      "metadata": {
        "id": "0-7is2U49A6Z",
        "colab": {
          "base_uri": "https://localhost:8080/"
        },
        "outputId": "c668d2bd-c8b8-4bfe-edde-46457190fc25"
      },
      "source": [
        "c2f2.evaluate(X_test, y_test, batch_size = 100) #test 데이터에서 평가"
      ],
      "execution_count": 22,
      "outputs": [
        {
          "output_type": "stream",
          "name": "stdout",
          "text": [
            "100/100 [==============================] - 1s 6ms/step - loss: 0.0257 - accuracy: 0.9935\n"
          ]
        },
        {
          "output_type": "execute_result",
          "data": {
            "text/plain": [
              "[0.02568470686674118, 0.9934999942779541]"
            ]
          },
          "metadata": {},
          "execution_count": 22
        }
      ]
    },
    {
      "cell_type": "markdown",
      "metadata": {
        "id": "SUJxRQtafihM"
      },
      "source": [
        "## **CNN2 + FCN3**"
      ]
    },
    {
      "cell_type": "code",
      "metadata": {
        "id": "PXuHAj85rRTw"
      },
      "source": [
        "# Random number seed\n",
        "np.random.seed(1234)\n",
        "tf.random.set_seed(1234)"
      ],
      "execution_count": 23,
      "outputs": []
    },
    {
      "cell_type": "code",
      "metadata": {
        "id": "Nl5CyAymAB34"
      },
      "source": [
        "c2f3 = tf.keras.models.Sequential([ \n",
        "    Conv2D(input_shape=(28,28,1), filters= 64,  # 컬러까지 출력하기 위해 input_shape가 3임  32개의 뉴런 c1\n",
        "            kernel_size=(3,3),strides=(1,1),padding='same',activation='relu'),  # strides는 컨벌루션 3,3 이 한칸씩 이동한다는뜻\n",
        "    MaxPool2D(pool_size=(2,2), strides=(2,2)),\n",
        "    Conv2D(filters= 32,  # 2번째 Conv2D 두번째는 input_shape가 필요없음 c2\n",
        "            kernel_size=(3,3),strides=(1,1),padding='same',activation='relu'),\n",
        "    MaxPool2D(pool_size=(2,2), strides=(2,2)), # 컨벌루션된 값 4개중 가장 큰값 선택 2,2는 중복을 안함 그래서 strides가 2,2\n",
        "    Flatten(), \n",
        "    tf.keras.layers.Dense(128, activation='relu'), #f1  \n",
        "    tf.keras.layers.Dropout(0.25),\n",
        "    tf.keras.layers.Dense(64, activation='relu'),  #f2  \n",
        "    tf.keras.layers.Dropout(0.25),              \n",
        "    tf.keras.layers.Dense(10, activation='softmax') #f3\n",
        "])\n",
        "\n",
        "c2f3.compile(optimizer='adam',\n",
        "              loss='categorical_crossentropy',\n",
        "              metrics=['accuracy']) "
      ],
      "execution_count": 24,
      "outputs": []
    },
    {
      "cell_type": "code",
      "metadata": {
        "id": "gYxuGW_2ANL8",
        "colab": {
          "base_uri": "https://localhost:8080/"
        },
        "outputId": "5d2359a8-ca14-405f-f819-5c3cbcae78c5"
      },
      "source": [
        "c2f3.summary()"
      ],
      "execution_count": 25,
      "outputs": [
        {
          "output_type": "stream",
          "name": "stdout",
          "text": [
            "Model: \"sequential_3\"\n",
            "_________________________________________________________________\n",
            " Layer (type)                Output Shape              Param #   \n",
            "=================================================================\n",
            " conv2d_4 (Conv2D)           (None, 28, 28, 64)        640       \n",
            "                                                                 \n",
            " max_pooling2d_4 (MaxPooling  (None, 14, 14, 64)       0         \n",
            " 2D)                                                             \n",
            "                                                                 \n",
            " conv2d_5 (Conv2D)           (None, 14, 14, 32)        18464     \n",
            "                                                                 \n",
            " max_pooling2d_5 (MaxPooling  (None, 7, 7, 32)         0         \n",
            " 2D)                                                             \n",
            "                                                                 \n",
            " flatten_3 (Flatten)         (None, 1568)              0         \n",
            "                                                                 \n",
            " dense_7 (Dense)             (None, 128)               200832    \n",
            "                                                                 \n",
            " dropout_4 (Dropout)         (None, 128)               0         \n",
            "                                                                 \n",
            " dense_8 (Dense)             (None, 64)                8256      \n",
            "                                                                 \n",
            " dropout_5 (Dropout)         (None, 64)                0         \n",
            "                                                                 \n",
            " dense_9 (Dense)             (None, 10)                650       \n",
            "                                                                 \n",
            "=================================================================\n",
            "Total params: 228,842\n",
            "Trainable params: 228,842\n",
            "Non-trainable params: 0\n",
            "_________________________________________________________________\n"
          ]
        }
      ]
    },
    {
      "cell_type": "code",
      "metadata": {
        "id": "lO1of4AOAQlV",
        "colab": {
          "base_uri": "https://localhost:8080/"
        },
        "outputId": "e2f9489a-dc2f-454f-de81-05d203425bf7"
      },
      "source": [
        "c2f3.fit(X_train, y_train, epochs=20, batch_size = 100)"
      ],
      "execution_count": 26,
      "outputs": [
        {
          "output_type": "stream",
          "name": "stdout",
          "text": [
            "Epoch 1/20\n",
            "600/600 [==============================] - 6s 9ms/step - loss: 0.3015 - accuracy: 0.9068\n",
            "Epoch 2/20\n",
            "600/600 [==============================] - 5s 9ms/step - loss: 0.0893 - accuracy: 0.9740\n",
            "Epoch 3/20\n",
            "600/600 [==============================] - 5s 9ms/step - loss: 0.0619 - accuracy: 0.9825\n",
            "Epoch 4/20\n",
            "600/600 [==============================] - 5s 9ms/step - loss: 0.0506 - accuracy: 0.9854\n",
            "Epoch 5/20\n",
            "600/600 [==============================] - 5s 9ms/step - loss: 0.0417 - accuracy: 0.9873\n",
            "Epoch 6/20\n",
            "600/600 [==============================] - 5s 9ms/step - loss: 0.0359 - accuracy: 0.9900\n",
            "Epoch 7/20\n",
            "600/600 [==============================] - 5s 9ms/step - loss: 0.0311 - accuracy: 0.9906\n",
            "Epoch 8/20\n",
            "600/600 [==============================] - 5s 9ms/step - loss: 0.0271 - accuracy: 0.9915\n",
            "Epoch 9/20\n",
            "600/600 [==============================] - 5s 9ms/step - loss: 0.0231 - accuracy: 0.9930\n",
            "Epoch 10/20\n",
            "600/600 [==============================] - 5s 9ms/step - loss: 0.0215 - accuracy: 0.9932\n",
            "Epoch 11/20\n",
            "600/600 [==============================] - 5s 9ms/step - loss: 0.0191 - accuracy: 0.9946\n",
            "Epoch 12/20\n",
            "600/600 [==============================] - 5s 9ms/step - loss: 0.0174 - accuracy: 0.9945\n",
            "Epoch 13/20\n",
            "600/600 [==============================] - 5s 9ms/step - loss: 0.0172 - accuracy: 0.9950\n",
            "Epoch 14/20\n",
            "600/600 [==============================] - 5s 9ms/step - loss: 0.0156 - accuracy: 0.9951\n",
            "Epoch 15/20\n",
            "600/600 [==============================] - 5s 9ms/step - loss: 0.0137 - accuracy: 0.9958\n",
            "Epoch 16/20\n",
            "600/600 [==============================] - 5s 9ms/step - loss: 0.0147 - accuracy: 0.9955\n",
            "Epoch 17/20\n",
            "600/600 [==============================] - 5s 9ms/step - loss: 0.0115 - accuracy: 0.9967\n",
            "Epoch 18/20\n",
            "600/600 [==============================] - 5s 9ms/step - loss: 0.0113 - accuracy: 0.9965\n",
            "Epoch 19/20\n",
            "600/600 [==============================] - 5s 9ms/step - loss: 0.0118 - accuracy: 0.9963\n",
            "Epoch 20/20\n",
            "600/600 [==============================] - 5s 9ms/step - loss: 0.0096 - accuracy: 0.9969\n"
          ]
        },
        {
          "output_type": "execute_result",
          "data": {
            "text/plain": [
              "<keras.callbacks.History at 0x7f1979261d10>"
            ]
          },
          "metadata": {},
          "execution_count": 26
        }
      ]
    },
    {
      "cell_type": "code",
      "metadata": {
        "id": "W-eIxCasDBil",
        "colab": {
          "base_uri": "https://localhost:8080/"
        },
        "outputId": "8d47511b-8e56-4294-ca72-264d5c0f219b"
      },
      "source": [
        "c2f3.evaluate(X_test, y_test, batch_size = 100)"
      ],
      "execution_count": 27,
      "outputs": [
        {
          "output_type": "stream",
          "name": "stdout",
          "text": [
            "100/100 [==============================] - 1s 5ms/step - loss: 0.0321 - accuracy: 0.9926\n"
          ]
        },
        {
          "output_type": "execute_result",
          "data": {
            "text/plain": [
              "[0.03209264203906059, 0.9926000237464905]"
            ]
          },
          "metadata": {},
          "execution_count": 27
        }
      ]
    },
    {
      "cell_type": "code",
      "metadata": {
        "id": "ga-JAknQ1Fu_"
      },
      "source": [
        "c2f3.save('c2f3_best.hdf5')"
      ],
      "execution_count": 28,
      "outputs": []
    },
    {
      "cell_type": "markdown",
      "metadata": {
        "id": "5XYSVtC-DVsz"
      },
      "source": [
        "# **[DIY] Hidden layer에 따른 정확도**"
      ]
    },
    {
      "cell_type": "code",
      "metadata": {
        "colab": {
          "base_uri": "https://localhost:8080/"
        },
        "id": "_9rX-AehRvKd",
        "outputId": "513e4bbc-151a-4187-ffb5-457df963a70c"
      },
      "source": [
        "c1f3.evaluate(X_test, y_test, batch_size = 100)"
      ],
      "execution_count": 29,
      "outputs": [
        {
          "output_type": "stream",
          "name": "stdout",
          "text": [
            "100/100 [==============================] - 0s 4ms/step - loss: 0.0511 - accuracy: 0.9904\n"
          ]
        },
        {
          "output_type": "execute_result",
          "data": {
            "text/plain": [
              "[0.05110777169466019, 0.9904000163078308]"
            ]
          },
          "metadata": {},
          "execution_count": 29
        }
      ]
    },
    {
      "cell_type": "code",
      "metadata": {
        "colab": {
          "base_uri": "https://localhost:8080/"
        },
        "id": "F6gOOt30R9Gd",
        "outputId": "1aaeb485-c668-4bbc-fa82-1f13757d5967"
      },
      "source": [
        "c1f2.evaluate(X_test, y_test, batch_size = 100)"
      ],
      "execution_count": 30,
      "outputs": [
        {
          "output_type": "stream",
          "name": "stdout",
          "text": [
            "100/100 [==============================] - 0s 4ms/step - loss: 0.0454 - accuracy: 0.9885\n"
          ]
        },
        {
          "output_type": "execute_result",
          "data": {
            "text/plain": [
              "[0.04540741443634033, 0.9884999990463257]"
            ]
          },
          "metadata": {},
          "execution_count": 30
        }
      ]
    },
    {
      "cell_type": "code",
      "metadata": {
        "id": "hPXHL7TTgIMf"
      },
      "source": [
        "# Try another method!!  \n",
        "cnn_result = [[0.04554083198308945, 0.9894999861717224], #c1f2 결과\n",
        " [0.057263847440481186, 0.9886999726295471], #c1f3 결과\n",
        " [0.028542926535010338, 0.9925000071525574], #c2f2\n",
        " [0.041836198419332504, 0.9909999966621399]]   #c2f3 결과"
      ],
      "execution_count": 31,
      "outputs": []
    },
    {
      "cell_type": "code",
      "metadata": {
        "id": "1kXd2NWlLmyZ",
        "colab": {
          "base_uri": "https://localhost:8080/"
        },
        "outputId": "76f5bf50-7999-4f46-8ec7-6b028c3905fb"
      },
      "source": [
        "# select accuracies\n",
        "accuracy = [row[1] for row in cnn_result]\n",
        "accuracy"
      ],
      "execution_count": 32,
      "outputs": [
        {
          "output_type": "execute_result",
          "data": {
            "text/plain": [
              "[0.9894999861717224,\n",
              " 0.9886999726295471,\n",
              " 0.9925000071525574,\n",
              " 0.9909999966621399]"
            ]
          },
          "metadata": {},
          "execution_count": 32
        }
      ]
    },
    {
      "cell_type": "code",
      "metadata": {
        "id": "vZv6a2aVRw9j",
        "colab": {
          "base_uri": "https://localhost:8080/",
          "height": 269
        },
        "outputId": "2f9831c6-a45d-4290-8ea0-29f44b217272"
      },
      "source": [
        "x = np.arange(4)\n",
        "cnns = ['c1f2','c1f3','c2f2','c2f3']\n",
        "accuracies = [acc*100 for acc in accuracy] # %\n",
        "\n",
        "plt.bar(x, accuracies)\n",
        "plt.xticks(x, cnns)\n",
        "plt.ylim((95,100))\n",
        "plt.show()"
      ],
      "execution_count": 33,
      "outputs": [
        {
          "output_type": "display_data",
          "data": {
            "image/png": "[encoded data removed]",
            "text/plain": [
              "<Figure size 432x288 with 1 Axes>"
            ]
          },
          "metadata": {
            "needs_background": "light"
          }
        }
      ]
    },
    {
      "cell_type": "markdown",
      "metadata": {
        "id": "gBPKMI4y3fsa"
      },
      "source": [
        "## 모형의 저장\n",
        "\n",
        "- 트레이닝이 끝난 모형은 save 메서드로 가중치와 함께 hdf5 형식으로 저장\n",
        "- load 명령으로 불러 사용"
      ]
    },
    {
      "cell_type": "code",
      "metadata": {
        "id": "KCfbQl2v3fsa"
      },
      "source": [
        "c2f2.save('c2f2_best.hdf5') #결과가 가장 좋은 c2f2를 저장"
      ],
      "execution_count": 34,
      "outputs": []
    },
    {
      "cell_type": "code",
      "metadata": {
        "id": "b7-ysIVy3fse",
        "colab": {
          "base_uri": "https://localhost:8080/"
        },
        "outputId": "c2c9c936-3c98-45e5-98dd-c8a95aaa01c6"
      },
      "source": [
        "from keras.models import load_model\n",
        "\n",
        "model = load_model('c2f2_best.hdf5')\n",
        "model.evaluate(X_test, y_test, batch_size=100)"
      ],
      "execution_count": 35,
      "outputs": [
        {
          "output_type": "stream",
          "name": "stdout",
          "text": [
            "100/100 [==============================] - 1s 5ms/step - loss: 0.0257 - accuracy: 0.9935\n"
          ]
        },
        {
          "output_type": "execute_result",
          "data": {
            "text/plain": [
              "[0.02568470686674118, 0.9934999942779541]"
            ]
          },
          "metadata": {},
          "execution_count": 35
        }
      ]
    },
    {
      "cell_type": "markdown",
      "metadata": {
        "id": "jRG6VlWiMDee"
      },
      "source": [
        "## C2F2 모델에 대한 loss, accuracy 그래프를 그리시오."
      ]
    },
    {
      "cell_type": "code",
      "metadata": {
        "id": "-Yfqv2AqtUtz",
        "colab": {
          "base_uri": "https://localhost:8080/"
        },
        "outputId": "2b6ead83-1c87-48b8-ce55-589ddb124ef4"
      },
      "source": [
        "hist = c2f2.fit(X_train, y_train,  #위의 c2f2 모델을 다시 실행시켜서 초기화 시키고 훈련 시켜야함\n",
        "         epochs = 20 ,             \n",
        "         batch_size =100, \n",
        "         validation_data=(X_test,y_test))"
      ],
      "execution_count": 36,
      "outputs": [
        {
          "output_type": "stream",
          "name": "stdout",
          "text": [
            "Epoch 1/20\n",
            "600/600 [==============================] - 6s 10ms/step - loss: 0.0044 - accuracy: 0.9985 - val_loss: 0.0330 - val_accuracy: 0.9922\n",
            "Epoch 2/20\n",
            "600/600 [==============================] - 6s 10ms/step - loss: 0.0057 - accuracy: 0.9981 - val_loss: 0.0282 - val_accuracy: 0.9932\n",
            "Epoch 3/20\n",
            "600/600 [==============================] - 6s 9ms/step - loss: 0.0070 - accuracy: 0.9975 - val_loss: 0.0295 - val_accuracy: 0.9929\n",
            "Epoch 4/20\n",
            "600/600 [==============================] - 6s 9ms/step - loss: 0.0048 - accuracy: 0.9982 - val_loss: 0.0316 - val_accuracy: 0.9928\n",
            "Epoch 5/20\n",
            "600/600 [==============================] - 6s 10ms/step - loss: 0.0054 - accuracy: 0.9983 - val_loss: 0.0338 - val_accuracy: 0.9921\n",
            "Epoch 6/20\n",
            "600/600 [==============================] - 6s 10ms/step - loss: 0.0043 - accuracy: 0.9986 - val_loss: 0.0334 - val_accuracy: 0.9925\n",
            "Epoch 7/20\n",
            "600/600 [==============================] - 6s 9ms/step - loss: 0.0049 - accuracy: 0.9983 - val_loss: 0.0400 - val_accuracy: 0.9927\n",
            "Epoch 8/20\n",
            "600/600 [==============================] - 6s 9ms/step - loss: 0.0055 - accuracy: 0.9982 - val_loss: 0.0343 - val_accuracy: 0.9936\n",
            "Epoch 9/20\n",
            "600/600 [==============================] - 6s 10ms/step - loss: 0.0039 - accuracy: 0.9985 - val_loss: 0.0371 - val_accuracy: 0.9923\n",
            "Epoch 10/20\n",
            "600/600 [==============================] - 6s 9ms/step - loss: 0.0042 - accuracy: 0.9986 - val_loss: 0.0374 - val_accuracy: 0.9928\n",
            "Epoch 11/20\n",
            "600/600 [==============================] - 6s 9ms/step - loss: 0.0051 - accuracy: 0.9983 - val_loss: 0.0334 - val_accuracy: 0.9929\n",
            "Epoch 12/20\n",
            "600/600 [==============================] - 6s 10ms/step - loss: 0.0028 - accuracy: 0.9988 - val_loss: 0.0357 - val_accuracy: 0.9925\n",
            "Epoch 13/20\n",
            "600/600 [==============================] - 6s 10ms/step - loss: 0.0037 - accuracy: 0.9987 - val_loss: 0.0317 - val_accuracy: 0.9930\n",
            "Epoch 14/20\n",
            "600/600 [==============================] - 6s 10ms/step - loss: 0.0033 - accuracy: 0.9989 - val_loss: 0.0426 - val_accuracy: 0.9920\n",
            "Epoch 15/20\n",
            "600/600 [==============================] - 6s 9ms/step - loss: 0.0040 - accuracy: 0.9987 - val_loss: 0.0414 - val_accuracy: 0.9918\n",
            "Epoch 16/20\n",
            "600/600 [==============================] - 6s 10ms/step - loss: 0.0036 - accuracy: 0.9987 - val_loss: 0.0401 - val_accuracy: 0.9923\n",
            "Epoch 17/20\n",
            "600/600 [==============================] - 6s 9ms/step - loss: 0.0035 - accuracy: 0.9987 - val_loss: 0.0414 - val_accuracy: 0.9932\n",
            "Epoch 18/20\n",
            "600/600 [==============================] - 6s 10ms/step - loss: 0.0035 - accuracy: 0.9988 - val_loss: 0.0480 - val_accuracy: 0.9916\n",
            "Epoch 19/20\n",
            "600/600 [==============================] - 6s 10ms/step - loss: 0.0039 - accuracy: 0.9988 - val_loss: 0.0370 - val_accuracy: 0.9934\n",
            "Epoch 20/20\n",
            "600/600 [==============================] - 6s 9ms/step - loss: 0.0037 - accuracy: 0.9986 - val_loss: 0.0397 - val_accuracy: 0.9926\n"
          ]
        }
      ]
    },
    {
      "cell_type": "code",
      "metadata": {
        "id": "D1on4CdjrQ_T",
        "colab": {
          "base_uri": "https://localhost:8080/",
          "height": 312
        },
        "outputId": "82a3d2b0-04d9-41f7-ea98-e1e9236ff06e"
      },
      "source": [
        "# Plot loass and accuracy\n",
        "# Plot training & validation accuracy values\n",
        "epochs = 20\n",
        "loss_list = [100 * i for i in hist.history['loss']]\n",
        "acc_list = [100 * i for i in hist.history['accuracy']]\n",
        "plt.plot(range(1,epochs+1),loss_list) \n",
        "plt.plot(range(1,epochs+1),acc_list) \n",
        "plt.title('Model loss & accuracy')\n",
        "plt.ylabel('Accuracy (%)')\n",
        "plt.xlabel('Epoch')\n",
        "plt.legend(['loss', 'accuracy'], loc='center left')"
      ],
      "execution_count": 37,
      "outputs": [
        {
          "output_type": "execute_result",
          "data": {
            "text/plain": [
              "<matplotlib.legend.Legend at 0x7f1978702cd0>"
            ]
          },
          "metadata": {},
          "execution_count": 37
        },
        {
          "output_type": "display_data",
          "data": {
            "image/png": "[encoded data removed]",
            "text/plain": [
              "<Figure size 432x288 with 1 Axes>"
            ]
          },
          "metadata": {
            "needs_background": "light"
          }
        }
      ]
    },
    {
      "cell_type": "code",
      "metadata": {
        "id": "TX5Uzro4vjaY",
        "colab": {
          "base_uri": "https://localhost:8080/",
          "height": 312
        },
        "outputId": "11c9ed32-ebc5-4c59-ffe8-cc0e8929f2bc"
      },
      "source": [
        "vloss_list = [100 * i for i in hist.history['val_loss']]\n",
        "vacc_list = [100 * i for i in hist.history['val_accuracy']]\n",
        "plt.plot(range(1,epochs+1),vloss_list)  \n",
        "plt.plot(range(1,epochs+1),vacc_list)  \n",
        "plt.title('Model val_loss & val_accuracy')\n",
        "plt.ylabel('Accuracy (%)')\n",
        "plt.xlabel('Epoch')\n",
        "plt.legend(['val_loss', 'val_accuracy'], loc='center left')"
      ],
      "execution_count": 38,
      "outputs": [
        {
          "output_type": "execute_result",
          "data": {
            "text/plain": [
              "<matplotlib.legend.Legend at 0x7f19787294d0>"
            ]
          },
          "metadata": {},
          "execution_count": 38
        },
        {
          "output_type": "display_data",
          "data": {
            "image/png": "[encoded data removed]",
            "text/plain": [
              "<Figure size 432x288 with 1 Axes>"
            ]
          },
          "metadata": {
            "needs_background": "light"
          }
        }
      ]
    },
    {
      "cell_type": "code",
      "metadata": {
        "id": "blALTNdyvjVK",
        "colab": {
          "base_uri": "https://localhost:8080/",
          "height": 312
        },
        "outputId": "f09bc075-22d5-43b0-e510-6620ed0af76e"
      },
      "source": [
        "plt.plot(range(1,epochs+1),acc_list)  \n",
        "plt.plot(range(1,epochs+1),vacc_list)  \n",
        "plt.title('accuracy vs. val_accuracy')\n",
        "plt.ylabel('Accuracy (%)')\n",
        "plt.xlabel('Epoch')\n",
        "plt.legend(['accuracy','val_accuracy'], loc='center')"
      ],
      "execution_count": 39,
      "outputs": [
        {
          "output_type": "execute_result",
          "data": {
            "text/plain": [
              "<matplotlib.legend.Legend at 0x7f19786479d0>"
            ]
          },
          "metadata": {},
          "execution_count": 39
        },
        {
          "output_type": "display_data",
          "data": {
            "image/png": "[encoded data removed]",
            "text/plain": [
              "<Figure size 432x288 with 1 Axes>"
            ]
          },
          "metadata": {
            "needs_background": "light"
          }
        }
      ]
    },
    {
      "cell_type": "markdown",
      "metadata": {
        "id": "PjiTXAO1MKkE"
      },
      "source": [
        "***"
      ]
    },
    {
      "cell_type": "markdown",
      "metadata": {
        "id": "Ucj-avjHMPLy"
      },
      "source": [
        "## [DIY] C2F3 모델에 대한 loss, accuracy 그래프를 추가하시오."
      ]
    },
    {
      "cell_type": "code",
      "metadata": {
        "id": "WNmXXLhvWUiK",
        "colab": {
          "base_uri": "https://localhost:8080/"
        },
        "outputId": "a6cdceb1-9721-4dac-a2a7-ad7319c139fe"
      },
      "source": [
        "# Code here!\n",
        "from keras.models import load_model\n",
        "\n",
        "model = load_model('c2f3_best.hdf5')\n",
        "model.evaluate(X_test, y_test, batch_size=100)"
      ],
      "execution_count": 40,
      "outputs": [
        {
          "output_type": "stream",
          "name": "stdout",
          "text": [
            "100/100 [==============================] - 1s 6ms/step - loss: 0.0321 - accuracy: 0.9926\n"
          ]
        },
        {
          "output_type": "execute_result",
          "data": {
            "text/plain": [
              "[0.03209264203906059, 0.9926000237464905]"
            ]
          },
          "metadata": {},
          "execution_count": 40
        }
      ]
    },
    {
      "cell_type": "code",
      "metadata": {
        "id": "uZx44hL41fY5",
        "colab": {
          "base_uri": "https://localhost:8080/"
        },
        "outputId": "fab6b717-f574-4cd6-af41-bdbb60c59ed1"
      },
      "source": [
        "hist = model.fit(X_train, y_train, \n",
        "         epochs = 20 ,             \n",
        "         batch_size =100, \n",
        "         validation_data=(X_test,y_test))"
      ],
      "execution_count": 41,
      "outputs": [
        {
          "output_type": "stream",
          "name": "stdout",
          "text": [
            "Epoch 1/20\n",
            "600/600 [==============================] - 7s 11ms/step - loss: 0.0106 - accuracy: 0.9966 - val_loss: 0.0318 - val_accuracy: 0.9924\n",
            "Epoch 2/20\n",
            "600/600 [==============================] - 6s 10ms/step - loss: 0.0081 - accuracy: 0.9974 - val_loss: 0.0354 - val_accuracy: 0.9923\n",
            "Epoch 3/20\n",
            "600/600 [==============================] - 6s 10ms/step - loss: 0.0095 - accuracy: 0.9972 - val_loss: 0.0417 - val_accuracy: 0.9915\n",
            "Epoch 4/20\n",
            "600/600 [==============================] - 6s 10ms/step - loss: 0.0081 - accuracy: 0.9976 - val_loss: 0.0374 - val_accuracy: 0.9919\n",
            "Epoch 5/20\n",
            "600/600 [==============================] - 6s 10ms/step - loss: 0.0086 - accuracy: 0.9971 - val_loss: 0.0367 - val_accuracy: 0.9924\n",
            "Epoch 6/20\n",
            "600/600 [==============================] - 6s 10ms/step - loss: 0.0084 - accuracy: 0.9973 - val_loss: 0.0409 - val_accuracy: 0.9921\n",
            "Epoch 7/20\n",
            "600/600 [==============================] - 6s 10ms/step - loss: 0.0077 - accuracy: 0.9975 - val_loss: 0.0392 - val_accuracy: 0.9921\n",
            "Epoch 8/20\n",
            "600/600 [==============================] - 6s 10ms/step - loss: 0.0067 - accuracy: 0.9980 - val_loss: 0.0397 - val_accuracy: 0.9921\n",
            "Epoch 9/20\n",
            "600/600 [==============================] - 6s 10ms/step - loss: 0.0061 - accuracy: 0.9982 - val_loss: 0.0383 - val_accuracy: 0.9923\n",
            "Epoch 10/20\n",
            "600/600 [==============================] - 6s 10ms/step - loss: 0.0073 - accuracy: 0.9980 - val_loss: 0.0353 - val_accuracy: 0.9921\n",
            "Epoch 11/20\n",
            "600/600 [==============================] - 6s 10ms/step - loss: 0.0069 - accuracy: 0.9979 - val_loss: 0.0351 - val_accuracy: 0.9932\n",
            "Epoch 12/20\n",
            "600/600 [==============================] - 6s 10ms/step - loss: 0.0062 - accuracy: 0.9983 - val_loss: 0.0349 - val_accuracy: 0.9935\n",
            "Epoch 13/20\n",
            "600/600 [==============================] - 6s 10ms/step - loss: 0.0057 - accuracy: 0.9982 - val_loss: 0.0455 - val_accuracy: 0.9911\n",
            "Epoch 14/20\n",
            "600/600 [==============================] - 6s 10ms/step - loss: 0.0075 - accuracy: 0.9977 - val_loss: 0.0416 - val_accuracy: 0.9921\n",
            "Epoch 15/20\n",
            "600/600 [==============================] - 6s 10ms/step - loss: 0.0048 - accuracy: 0.9983 - val_loss: 0.0419 - val_accuracy: 0.9936\n",
            "Epoch 16/20\n",
            "600/600 [==============================] - 6s 10ms/step - loss: 0.0074 - accuracy: 0.9979 - val_loss: 0.0460 - val_accuracy: 0.9921\n",
            "Epoch 17/20\n",
            "600/600 [==============================] - 6s 10ms/step - loss: 0.0068 - accuracy: 0.9981 - val_loss: 0.0390 - val_accuracy: 0.9924\n",
            "Epoch 18/20\n",
            "600/600 [==============================] - 6s 10ms/step - loss: 0.0033 - accuracy: 0.9989 - val_loss: 0.0483 - val_accuracy: 0.9927\n",
            "Epoch 19/20\n",
            "600/600 [==============================] - 6s 10ms/step - loss: 0.0072 - accuracy: 0.9979 - val_loss: 0.0435 - val_accuracy: 0.9924\n",
            "Epoch 20/20\n",
            "600/600 [==============================] - 6s 10ms/step - loss: 0.0060 - accuracy: 0.9980 - val_loss: 0.0508 - val_accuracy: 0.9908\n"
          ]
        }
      ]
    },
    {
      "cell_type": "code",
      "metadata": {
        "id": "0WMOzlD61WWc",
        "colab": {
          "base_uri": "https://localhost:8080/",
          "height": 312
        },
        "outputId": "38c68bc0-d1ad-495d-82bf-a258ba9e66a3"
      },
      "source": [
        "epochs = 20\n",
        "loss_list = [100 * i for i in hist.history['loss']]\n",
        "acc_list = [100 * i for i in hist.history['accuracy']]\n",
        "plt.plot(range(1,epochs+1),loss_list) \n",
        "plt.plot(range(1,epochs+1),acc_list) \n",
        "plt.title('Model loss & accuracy')\n",
        "plt.ylabel('Accuracy (%)')\n",
        "plt.xlabel('Epoch')\n",
        "plt.legend(['loss', 'accuracy'], loc='center left')"
      ],
      "execution_count": 42,
      "outputs": [
        {
          "output_type": "execute_result",
          "data": {
            "text/plain": [
              "<matplotlib.legend.Legend at 0x7f1978492a50>"
            ]
          },
          "metadata": {},
          "execution_count": 42
        },
        {
          "output_type": "display_data",
          "data": {
            "image/png": "[encoded data removed]",
            "text/plain": [
              "<Figure size 432x288 with 1 Axes>"
            ]
          },
          "metadata": {
            "needs_background": "light"
          }
        }
      ]
    },
    {
      "cell_type": "code",
      "metadata": {
        "id": "kJtgJUPN1YMU",
        "colab": {
          "base_uri": "https://localhost:8080/",
          "height": 312
        },
        "outputId": "bd8c2d37-6a00-47e7-98e1-dafa0984f09b"
      },
      "source": [
        "vloss_list = [100 * i for i in hist.history['val_loss']]\n",
        "vacc_list = [100 * i for i in hist.history['val_accuracy']]\n",
        "plt.plot(range(1,epochs+1),vloss_list)  \n",
        "plt.plot(range(1,epochs+1),vacc_list)  \n",
        "plt.title('Model val_loss & val_accuracy')\n",
        "plt.ylabel('Accuracy (%)')\n",
        "plt.xlabel('Epoch')\n",
        "plt.legend(['val_loss', 'val_accuracy'], loc='center left')"
      ],
      "execution_count": 43,
      "outputs": [
        {
          "output_type": "execute_result",
          "data": {
            "text/plain": [
              "<matplotlib.legend.Legend at 0x7f1978499c50>"
            ]
          },
          "metadata": {},
          "execution_count": 43
        },
        {
          "output_type": "display_data",
          "data": {
            "image/png": "[encoded data removed]",
            "text/plain": [
              "<Figure size 432x288 with 1 Axes>"
            ]
          },
          "metadata": {
            "needs_background": "light"
          }
        }
      ]
    },
    {
      "cell_type": "code",
      "metadata": {
        "id": "llmwyYvD1oxq",
        "colab": {
          "base_uri": "https://localhost:8080/",
          "height": 312
        },
        "outputId": "f449879b-b9c7-4b5d-8eca-e14e98e544c1"
      },
      "source": [
        "plt.plot(range(1,epochs+1),acc_list)  \n",
        "plt.plot(range(1,epochs+1),vacc_list)  \n",
        "plt.title('accuracy vs. val_accuracy')\n",
        "plt.ylabel('Accuracy (%)')\n",
        "plt.xlabel('Epoch')\n",
        "plt.legend(['accuracy','val_accuracy'], loc='center')"
      ],
      "execution_count": 44,
      "outputs": [
        {
          "output_type": "execute_result",
          "data": {
            "text/plain": [
              "<matplotlib.legend.Legend at 0x7f1978488cd0>"
            ]
          },
          "metadata": {},
          "execution_count": 44
        },
        {
          "output_type": "display_data",
          "data": {
            "image/png": "[encoded data removed]",
            "text/plain": [
              "<Figure size 432x288 with 1 Axes>"
            ]
          },
          "metadata": {
            "needs_background": "light"
          }
        }
      ]
    }
  ]
}